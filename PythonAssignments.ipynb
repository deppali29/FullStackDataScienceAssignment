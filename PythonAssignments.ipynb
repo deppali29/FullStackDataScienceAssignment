{
 "cells": [
  {
   "cell_type": "code",
   "execution_count": 3,
   "id": "e6939273-d2a1-432a-834d-58c05886f56f",
   "metadata": {},
   "outputs": [
    {
     "name": "stdout",
     "output_type": "stream",
     "text": [
      "1\n",
      "2\n",
      "3\n",
      "4\n",
      "5\n",
      "6\n",
      "7\n",
      "8\n",
      "9\n",
      "10\n"
     ]
    }
   ],
   "source": [
    "for i in range(1,11):\n",
    "    print(i)"
   ]
  },
  {
   "cell_type": "code",
   "execution_count": 4,
   "id": "98a82f22-fb62-47a5-8342-35d515bdc447",
   "metadata": {},
   "outputs": [
    {
     "ename": "SyntaxError",
     "evalue": "unterminated string literal (detected at line 5) (2734000792.py, line 5)",
     "output_type": "error",
     "traceback": [
      "\u001b[0;36m  Cell \u001b[0;32mIn[4], line 5\u001b[0;36m\u001b[0m\n\u001b[0;31m    while loop: It repeatedly executes a block of code as long as a specified condition is true. It's useful when the number of iterations is not known beforehand.\u001b[0m\n\u001b[0m                                                                                                   ^\u001b[0m\n\u001b[0;31mSyntaxError\u001b[0m\u001b[0;31m:\u001b[0m unterminated string literal (detected at line 5)\n"
     ]
    }
   ],
   "source": [
    "2:Difference between a for loop and a while loop:\n",
    "\n",
    "    for loop: It is used for iterating over a sequence (like a list, tuple, string, etc.) \n",
    "    or an iterable object (like range).\n",
    "\n",
    "    while loop: It repeatedly executes a block of code as long as a specified condition is true.\n",
    "    It's useful when the number of iterations is not known beforehand."
   ]
  },
  {
   "cell_type": "code",
   "execution_count": 5,
   "id": "d5d208b0-48a4-4a79-95d3-6a069a5d8fa3",
   "metadata": {},
   "outputs": [
    {
     "name": "stdout",
     "output_type": "stream",
     "text": [
      "Sum of numbers from 1 to 100: 5050\n"
     ]
    }
   ],
   "source": [
    "total = 0\n",
    "for i in range(1, 101):\n",
    "    total += i\n",
    "print(\"Sum of numbers from 1 to 100:\", total)\n"
   ]
  },
  {
   "cell_type": "code",
   "execution_count": 6,
   "id": "3ba02fb8-be88-493f-8dde-f363afec40a2",
   "metadata": {},
   "outputs": [
    {
     "name": "stdout",
     "output_type": "stream",
     "text": [
      "1\n",
      "2\n",
      "3\n",
      "4\n",
      "5\n"
     ]
    }
   ],
   "source": [
    "my_list = [1, 2, 3, 4, 5]\n",
    "for item in my_list:\n",
    "    print(item)\n"
   ]
  },
  {
   "cell_type": "code",
   "execution_count": 7,
   "id": "7528aee5-2645-4943-804a-e4f5085f418f",
   "metadata": {},
   "outputs": [
    {
     "name": "stdout",
     "output_type": "stream",
     "text": [
      "Product of elements in the list: 120\n"
     ]
    }
   ],
   "source": [
    "my_list = [1, 2, 3, 4, 5]\n",
    "product = 1\n",
    "for num in my_list:\n",
    "    product *= num\n",
    "print(\"Product of elements in the list:\", product)\n"
   ]
  },
  {
   "cell_type": "code",
   "execution_count": 8,
   "id": "ecb75951-5918-485a-ae27-fb1976eb7fd7",
   "metadata": {},
   "outputs": [
    {
     "name": "stdout",
     "output_type": "stream",
     "text": [
      "2\n",
      "4\n",
      "6\n",
      "8\n",
      "10\n",
      "12\n",
      "14\n",
      "16\n",
      "18\n",
      "20\n"
     ]
    }
   ],
   "source": [
    "for i in range(2, 21, 2):\n",
    "    print(i)\n"
   ]
  },
  {
   "cell_type": "code",
   "execution_count": 9,
   "id": "7a4c4291-fde8-4c89-8740-46c4ac4a282b",
   "metadata": {},
   "outputs": [
    {
     "name": "stdin",
     "output_type": "stream",
     "text": [
      "Enter a number:  23\n"
     ]
    },
    {
     "name": "stdout",
     "output_type": "stream",
     "text": [
      "Factorial of 23 is 25852016738884976640000\n"
     ]
    }
   ],
   "source": [
    "num = int(input(\"Enter a number: \"))\n",
    "factorial = 1\n",
    "for i in range(1, num + 1):\n",
    "    factorial *= i\n",
    "print(\"Factorial of\", num, \"is\", factorial)\n"
   ]
  },
  {
   "cell_type": "code",
   "execution_count": 10,
   "id": "525547f9-ca59-4220-a967-b755fdd1262a",
   "metadata": {},
   "outputs": [
    {
     "name": "stdout",
     "output_type": "stream",
     "text": [
      "h\n",
      "e\n",
      "l\n",
      "l\n",
      "o\n"
     ]
    }
   ],
   "source": [
    "my_string = \"hello\"\n",
    "for char in my_string:\n",
    "    print(char)\n"
   ]
  },
  {
   "cell_type": "code",
   "execution_count": 12,
   "id": "571cbdf5-2fa7-4702-bb8c-4ada474e26ec",
   "metadata": {},
   "outputs": [
    {
     "name": "stdout",
     "output_type": "stream",
     "text": [
      "Largest number in the list: 10\n"
     ]
    }
   ],
   "source": [
    "my_list = [5, 8, 3, 2, 10]\n",
    "largest = my_list[0]\n",
    "for num in my_list:\n",
    "    if num > largest:\n",
    "        largest = num\n",
    "print(\"Largest number in the list:\", largest)\n",
    "\n"
   ]
  },
  {
   "cell_type": "code",
   "execution_count": 13,
   "id": "5de364e8-a9ac-433b-8ee2-2febf5a20684",
   "metadata": {},
   "outputs": [
    {
     "name": "stdin",
     "output_type": "stream",
     "text": [
      "Enter the limit:  22\n"
     ]
    },
    {
     "name": "stdout",
     "output_type": "stream",
     "text": [
      "Fibonacci sequence up to 22 :\n",
      "0 1 1 2 3 5 8 13 21 "
     ]
    }
   ],
   "source": [
    "limit = int(input(\"Enter the limit: \"))\n",
    "a, b = 0, 1\n",
    "print(\"Fibonacci sequence up to\", limit, \":\")\n",
    "while a <= limit:\n",
    "    print(a, end=\" \")\n",
    "    a, b = b, a + b\n"
   ]
  },
  {
   "cell_type": "code",
   "execution_count": 14,
   "id": "2e15add6-1518-4ef4-a438-e60f0f52aec3",
   "metadata": {},
   "outputs": [
    {
     "name": "stdin",
     "output_type": "stream",
     "text": [
      "Enter a string:  Deepali Shedge\n"
     ]
    },
    {
     "name": "stdout",
     "output_type": "stream",
     "text": [
      "Number of vowels: 6\n"
     ]
    }
   ],
   "source": [
    "def count_vowels(string):\n",
    "    vowels = \"aeiouAEIOU\"\n",
    "    count = 0\n",
    "    for char in string:\n",
    "        if char in vowels:\n",
    "            count += 1\n",
    "    return count\n",
    "\n",
    "input_string = input(\"Enter a string: \")\n",
    "print(\"Number of vowels:\", count_vowels(input_string))\n"
   ]
  },
  {
   "cell_type": "code",
   "execution_count": 15,
   "id": "830b487a-5308-435f-802b-b2f0ffd1fdb6",
   "metadata": {},
   "outputs": [
    {
     "name": "stdin",
     "output_type": "stream",
     "text": [
      "Enter a number:  2\n"
     ]
    },
    {
     "name": "stdout",
     "output_type": "stream",
     "text": [
      "Multiplication table for 2\n",
      "2 x 1 = 2\n",
      "2 x 2 = 4\n",
      "2 x 3 = 6\n",
      "2 x 4 = 8\n",
      "2 x 5 = 10\n",
      "2 x 6 = 12\n",
      "2 x 7 = 14\n",
      "2 x 8 = 16\n",
      "2 x 9 = 18\n",
      "2 x 10 = 20\n"
     ]
    }
   ],
   "source": [
    "number = int(input(\"Enter a number: \"))\n",
    "print(\"Multiplication table for\", number)\n",
    "for i in range(1, 11):\n",
    "    print(number, \"x\", i, \"=\", number * i)\n"
   ]
  },
  {
   "cell_type": "code",
   "execution_count": 16,
   "id": "3ed8c25a-81c4-4785-a049-e6e1fa327367",
   "metadata": {},
   "outputs": [
    {
     "name": "stdout",
     "output_type": "stream",
     "text": [
      "Reversed list: [5, 4, 3, 2, 1]\n"
     ]
    }
   ],
   "source": [
    "my_list = [1, 2, 3, 4, 5]\n",
    "reversed_list = []\n",
    "for i in range(len(my_list) - 1, -1, -1):\n",
    "    reversed_list.append(my_list[i])\n",
    "print(\"Reversed list:\", reversed_list)\n"
   ]
  },
  {
   "cell_type": "code",
   "execution_count": 17,
   "id": "1881811d-1b3d-4c1d-952b-26171bb67d6d",
   "metadata": {},
   "outputs": [
    {
     "name": "stdout",
     "output_type": "stream",
     "text": [
      "Common elements: [3, 4, 5]\n"
     ]
    }
   ],
   "source": [
    "list1 = [1, 2, 3, 4, 5]\n",
    "list2 = [3, 4, 5, 6, 7]\n",
    "common_elements = []\n",
    "for item in list1:\n",
    "    if item in list2:\n",
    "        common_elements.append(item)\n",
    "print(\"Common elements:\", common_elements)\n"
   ]
  },
  {
   "cell_type": "code",
   "execution_count": 18,
   "id": "74c8f3ca-3bdd-4eea-945a-b54d592b8965",
   "metadata": {},
   "outputs": [
    {
     "name": "stdout",
     "output_type": "stream",
     "text": [
      "Key: a , Value: 1\n",
      "Key: b , Value: 2\n",
      "Key: c , Value: 3\n"
     ]
    }
   ],
   "source": [
    "my_dict = {\"a\": 1, \"b\": 2, \"c\": 3}\n",
    "for key, value in my_dict.items():\n",
    "    print(\"Key:\", key, \", Value:\", value)\n"
   ]
  },
  {
   "cell_type": "code",
   "execution_count": 19,
   "id": "aedad57d-00fc-45dc-ae2e-917159b4ad9e",
   "metadata": {},
   "outputs": [
    {
     "name": "stdin",
     "output_type": "stream",
     "text": [
      "Enter first number:  22\n",
      "Enter second number:  44\n"
     ]
    },
    {
     "name": "stdout",
     "output_type": "stream",
     "text": [
      "GCD of 22 and 44 is 22\n"
     ]
    }
   ],
   "source": [
    "def gcd(a, b):\n",
    "    while b:\n",
    "        a, b = b, a % b\n",
    "    return a\n",
    "\n",
    "num1 = int(input(\"Enter first number: \"))\n",
    "num2 = int(input(\"Enter second number: \"))\n",
    "print(\"GCD of\", num1, \"and\", num2, \"is\", gcd(num1, num2))\n"
   ]
  },
  {
   "cell_type": "code",
   "execution_count": 21,
   "id": "c6b9516d-ab04-4281-a157-4f20dd34cbd2",
   "metadata": {},
   "outputs": [
    {
     "name": "stdin",
     "output_type": "stream",
     "text": [
      "Enter a string:  NITIN\n"
     ]
    },
    {
     "name": "stdout",
     "output_type": "stream",
     "text": [
      "Palindrome\n"
     ]
    }
   ],
   "source": [
    "def is_palindrome(string):\n",
    "    for i in range(len(string) // 2):\n",
    "        if string[i] != string[len(string) - i - 1]:\n",
    "            return False\n",
    "    return True\n",
    "\n",
    "input_string = input(\"Enter a string: \")\n",
    "if is_palindrome(input_string):\n",
    "    print(\"Palindrome\")\n",
    "else:\n",
    "    print(\"Not a palindrome\")\n"
   ]
  },
  {
   "cell_type": "code",
   "execution_count": 22,
   "id": "d0110ceb-25db-4296-9452-338772120091",
   "metadata": {},
   "outputs": [
    {
     "name": "stdout",
     "output_type": "stream",
     "text": [
      "List with duplicates removed: [1, 2, 3, 4, 5]\n"
     ]
    }
   ],
   "source": [
    "my_list = [1, 2, 2, 3, 4, 4, 5]\n",
    "unique_list = []\n",
    "for item in my_list:\n",
    "    if item not in unique_list:\n",
    "        unique_list.append(item)\n",
    "print(\"List with duplicates removed:\", unique_list)\n"
   ]
  },
  {
   "cell_type": "code",
   "execution_count": 23,
   "id": "12623477-af90-42bb-a8fa-9e624e343c06",
   "metadata": {},
   "outputs": [
    {
     "name": "stdin",
     "output_type": "stream",
     "text": [
      "Enter a sentence:  Deepali Shedge\n"
     ]
    },
    {
     "name": "stdout",
     "output_type": "stream",
     "text": [
      "Number of words in the sentence: 2\n"
     ]
    }
   ],
   "source": [
    "sentence = input(\"Enter a sentence: \")\n",
    "word_count = 0\n",
    "for word in sentence.split():\n",
    "    word_count += 1\n",
    "print(\"Number of words in the sentence:\", word_count)\n"
   ]
  },
  {
   "cell_type": "code",
   "execution_count": 24,
   "id": "52e11232-4c9b-460a-947c-ccb496dbf513",
   "metadata": {},
   "outputs": [
    {
     "name": "stdout",
     "output_type": "stream",
     "text": [
      "Sum of odd numbers from 1 to 50: 625\n"
     ]
    }
   ],
   "source": [
    "total = 0\n",
    "for i in range(1, 51, 2):\n",
    "    total += i\n",
    "print(\"Sum of odd numbers from 1 to 50:\", total)\n"
   ]
  },
  {
   "cell_type": "code",
   "execution_count": 2,
   "id": "337ce761-6e3f-4e42-b5ef-472272dd1ea7",
   "metadata": {},
   "outputs": [
    {
     "name": "stdin",
     "output_type": "stream",
     "text": [
      "Enter a year:  2025\n"
     ]
    },
    {
     "name": "stdout",
     "output_type": "stream",
     "text": [
      "2025 is not a leap year\n"
     ]
    }
   ],
   "source": [
    "def is_leap_year(year):\n",
    "    if year % 4 == 0:\n",
    "        if year % 100 == 0:\n",
    "            if year % 400 == 0:\n",
    "                return True\n",
    "            else:\n",
    "                return False\n",
    "        else:\n",
    "            return True\n",
    "    else:\n",
    "        return False\n",
    "\n",
    "# Test the function\n",
    "year = int(input(\"Enter a year: \"))\n",
    "if is_leap_year(year):\n",
    "    print(year, \"is a leap year\")\n",
    "else:\n",
    "    print(year, \"is not a leap year\")\n"
   ]
  },
  {
   "cell_type": "code",
   "execution_count": 3,
   "id": "e5b42d80-b628-472d-a17a-caa16be59225",
   "metadata": {},
   "outputs": [
    {
     "name": "stdin",
     "output_type": "stream",
     "text": [
      "Enter a number:  9\n"
     ]
    },
    {
     "name": "stdout",
     "output_type": "stream",
     "text": [
      "Square root of 9.0 is: 3.0\n"
     ]
    }
   ],
   "source": [
    "def square_root(num):\n",
    "    if num < 0:\n",
    "        return \"Square root is not defined for negative numbers\"\n",
    "    guess = num / 2\n",
    "    for _ in range(20):  # Adjust the number of iterations for desired accuracy\n",
    "        guess = (guess + num / guess) / 2\n",
    "    return guess\n",
    "\n",
    "# Test the function\n",
    "number = float(input(\"Enter a number: \"))\n",
    "print(\"Square root of\", number, \"is:\", square_root(number))\n"
   ]
  },
  {
   "cell_type": "code",
   "execution_count": 4,
   "id": "05922bb4-b917-478f-b831-c5be41c036a3",
   "metadata": {},
   "outputs": [
    {
     "name": "stdin",
     "output_type": "stream",
     "text": [
      "Enter first number:  44\n",
      "Enter second number:  77\n"
     ]
    },
    {
     "name": "stdout",
     "output_type": "stream",
     "text": [
      "LCM of 44 and 77 is: 308\n"
     ]
    }
   ],
   "source": [
    "def gcd(a, b):\n",
    "    while b:\n",
    "        a, b = b, a % b\n",
    "    return a\n",
    "\n",
    "def lcm(a, b):\n",
    "    return abs(a * b) // gcd(a, b)\n",
    "\n",
    "# Test the function\n",
    "num1 = int(input(\"Enter first number: \"))\n",
    "num2 = int(input(\"Enter second number: \"))\n",
    "print(\"LCM of\", num1, \"and\", num2, \"is:\", lcm(num1, num2))\n"
   ]
  },
  {
   "cell_type": "code",
   "execution_count": 5,
   "id": "3f7967be-007a-4e3a-9869-bd6a2d5b71c9",
   "metadata": {},
   "outputs": [
    {
     "name": "stdin",
     "output_type": "stream",
     "text": [
      "Enter a number:  -30\n"
     ]
    },
    {
     "name": "stdout",
     "output_type": "stream",
     "text": [
      "Negative number\n"
     ]
    }
   ],
   "source": [
    "number = float(input(\"Enter a number: \"))\n",
    "if number > 0:\n",
    "    print(\"Positive number\")\n",
    "elif number < 0:\n",
    "    print(\"Negative number\")\n",
    "else:\n",
    "    print(\"Zero\")\n"
   ]
  },
  {
   "cell_type": "code",
   "execution_count": 6,
   "id": "73be2ae5-837c-4897-8af4-1e9f2d6a411a",
   "metadata": {},
   "outputs": [
    {
     "name": "stdin",
     "output_type": "stream",
     "text": [
      "Enter a number:  29\n"
     ]
    },
    {
     "name": "stdout",
     "output_type": "stream",
     "text": [
      "Odd\n"
     ]
    }
   ],
   "source": [
    "number = int(input(\"Enter a number: \"))\n",
    "if number % 2 == 0:\n",
    "    print(\"Even\")\n",
    "else:\n",
    "    print(\"Odd\")\n"
   ]
  },
  {
   "cell_type": "code",
   "execution_count": 7,
   "id": "9b15b8bb-54c0-4cdc-be44-456c0adf4a93",
   "metadata": {},
   "outputs": [
    {
     "name": "stdout",
     "output_type": "stream",
     "text": [
      "Both x and y are positive\n"
     ]
    }
   ],
   "source": [
    "x = 10\n",
    "y = 20\n",
    "\n",
    "if x > 0:\n",
    "    if y > 0:\n",
    "        print(\"Both x and y are positive\")\n",
    "    else:\n",
    "        print(\"x is positive but y is not\")\n",
    "else:\n",
    "    print(\"x is not positive\")\n"
   ]
  },
  {
   "cell_type": "code",
   "execution_count": 8,
   "id": "db26ef50-ce7e-4ab7-a03e-83dd481e2e00",
   "metadata": {},
   "outputs": [
    {
     "name": "stdin",
     "output_type": "stream",
     "text": [
      "Enter first number:  33\n",
      "Enter second number:  55\n",
      "Enter third number:  99\n"
     ]
    },
    {
     "name": "stdout",
     "output_type": "stream",
     "text": [
      "99.0 is the largest\n"
     ]
    }
   ],
   "source": [
    "num1 = float(input(\"Enter first number: \"))\n",
    "num2 = float(input(\"Enter second number: \"))\n",
    "num3 = float(input(\"Enter third number: \"))\n",
    "\n",
    "if num1 >= num2 and num1 >= num3:\n",
    "    print(num1, \"is the largest\")\n",
    "elif num2 >= num1 and num2 >= num3:\n",
    "    print(num2, \"is the largest\")\n",
    "else:\n",
    "    print(num3, \"is the largest\")\n"
   ]
  },
  {
   "cell_type": "code",
   "execution_count": 9,
   "id": "f4ab44f1-7f41-4b9b-8977-9105a81c6455",
   "metadata": {},
   "outputs": [
    {
     "name": "stdin",
     "output_type": "stream",
     "text": [
      "Enter a number:  33\n"
     ]
    },
    {
     "name": "stdout",
     "output_type": "stream",
     "text": [
      "Absolute value: 33.0\n"
     ]
    }
   ],
   "source": [
    "number = float(input(\"Enter a number: \"))\n",
    "if number >= 0:\n",
    "    print(\"Absolute value:\", number)\n",
    "else:\n",
    "    print(\"Absolute value:\", -number)\n"
   ]
  },
  {
   "cell_type": "code",
   "execution_count": 10,
   "id": "2ff9992d-f73e-42bd-a3a1-063bb39bf2d8",
   "metadata": {},
   "outputs": [
    {
     "name": "stdin",
     "output_type": "stream",
     "text": [
      "Enter a character:  Deepali\n"
     ]
    },
    {
     "name": "stdout",
     "output_type": "stream",
     "text": [
      "Consonant\n"
     ]
    }
   ],
   "source": [
    "char = input(\"Enter a character: \").lower()\n",
    "if char in 'aeiou':\n",
    "    print(\"Vowel\")\n",
    "else:\n",
    "    print(\"Consonant\")\n"
   ]
  },
  {
   "cell_type": "code",
   "execution_count": 11,
   "id": "b5a09c34-2da0-4fc3-8f73-be888107ffcf",
   "metadata": {},
   "outputs": [
    {
     "name": "stdin",
     "output_type": "stream",
     "text": [
      "Enter your age:  30\n"
     ]
    },
    {
     "name": "stdout",
     "output_type": "stream",
     "text": [
      "You are eligible to vote\n"
     ]
    }
   ],
   "source": [
    "age = int(input(\"Enter your age: \"))\n",
    "if age >= 18:\n",
    "    print(\"You are eligible to vote\")\n",
    "else:\n",
    "    print(\"You are not eligible to vote\")\n"
   ]
  },
  {
   "cell_type": "code",
   "execution_count": 12,
   "id": "76a41e8e-fde3-4581-805d-1c054e9c2196",
   "metadata": {},
   "outputs": [
    {
     "name": "stdin",
     "output_type": "stream",
     "text": [
      "Enter the purchase amount:  2000\n"
     ]
    },
    {
     "name": "stdout",
     "output_type": "stream",
     "text": [
      "Discount amount: 200.0\n"
     ]
    }
   ],
   "source": [
    "purchase_amount = float(input(\"Enter the purchase amount: \"))\n",
    "\n",
    "if purchase_amount >= 100:\n",
    "    discount = 0.1 * purchase_amount\n",
    "else:\n",
    "    discount = 0\n",
    "\n",
    "print(\"Discount amount:\", discount)\n"
   ]
  },
  {
   "cell_type": "code",
   "execution_count": 13,
   "id": "2032379b-953e-4853-8f0a-a56925d920d5",
   "metadata": {},
   "outputs": [
    {
     "name": "stdin",
     "output_type": "stream",
     "text": [
      "Enter a number:  14\n"
     ]
    },
    {
     "name": "stdout",
     "output_type": "stream",
     "text": [
      "Number is within the specified range.\n"
     ]
    }
   ],
   "source": [
    "number = float(input(\"Enter a number: \"))\n",
    "lower_limit = 10\n",
    "upper_limit = 20\n",
    "\n",
    "if lower_limit <= number <= upper_limit:\n",
    "    print(\"Number is within the specified range.\")\n",
    "else:\n",
    "    print(\"Number is not within the specified range.\")\n"
   ]
  },
  {
   "cell_type": "code",
   "execution_count": 14,
   "id": "2ccb8b72-51c4-44e3-8e1f-7b6c8ceba54e",
   "metadata": {},
   "outputs": [
    {
     "name": "stdin",
     "output_type": "stream",
     "text": [
      "Enter the student's score:  80\n"
     ]
    },
    {
     "name": "stdout",
     "output_type": "stream",
     "text": [
      "Student's grade: B\n"
     ]
    }
   ],
   "source": [
    "score = float(input(\"Enter the student's score: \"))\n",
    "\n",
    "if score >= 90:\n",
    "    grade = 'A'\n",
    "elif score >= 80:\n",
    "    grade = 'B'\n",
    "elif score >= 70:\n",
    "    grade = 'C'\n",
    "elif score >= 60:\n",
    "    grade = 'D'\n",
    "else:\n",
    "    grade = 'F'\n",
    "\n",
    "print(\"Student's grade:\", grade)\n"
   ]
  },
  {
   "cell_type": "code",
   "execution_count": 16,
   "id": "9867350a-6eb3-494b-a618-86c065d8cc3e",
   "metadata": {},
   "outputs": [
    {
     "name": "stdin",
     "output_type": "stream",
     "text": [
      "Enter a string:  \n"
     ]
    },
    {
     "name": "stdout",
     "output_type": "stream",
     "text": [
      "String is empty.\n"
     ]
    }
   ],
   "source": [
    "string = input(\"Enter a string: \")\n",
    "\n",
    "if string:\n",
    "    print(\"String is not empty.\")\n",
    "else:\n",
    "    print(\"String is empty.\")\n"
   ]
  },
  {
   "cell_type": "code",
   "execution_count": 17,
   "id": "473c97ee-c168-4785-90fa-df22732bcf6c",
   "metadata": {},
   "outputs": [
    {
     "name": "stdin",
     "output_type": "stream",
     "text": [
      "Enter the length of side a:  30\n",
      "Enter the length of side b:  30\n",
      "Enter the length of side c:  30\n"
     ]
    },
    {
     "name": "stdout",
     "output_type": "stream",
     "text": [
      "Equilateral triangle\n"
     ]
    }
   ],
   "source": [
    "a = float(input(\"Enter the length of side a: \"))\n",
    "b = float(input(\"Enter the length of side b: \"))\n",
    "c = float(input(\"Enter the length of side c: \"))\n",
    "\n",
    "if a == b == c:\n",
    "    print(\"Equilateral triangle\")\n",
    "elif a == b or b == c or a == c:\n",
    "    print(\"Isosceles triangle\")\n",
    "else:\n",
    "    print(\"Scalene triangle\")\n",
    "\n",
    "    "
   ]
  },
  {
   "cell_type": "code",
   "execution_count": 18,
   "id": "f61b8e35-bb7b-4a06-b8d9-707b95158342",
   "metadata": {},
   "outputs": [
    {
     "name": "stdin",
     "output_type": "stream",
     "text": [
      "Enter a number (1-7):  4\n"
     ]
    },
    {
     "name": "stdout",
     "output_type": "stream",
     "text": [
      "Wednesday\n"
     ]
    }
   ],
   "source": [
    "day_num = int(input(\"Enter a number (1-7): \"))\n",
    "\n",
    "if day_num == 1:\n",
    "    print(\"Sunday\")\n",
    "elif day_num == 2:\n",
    "    print(\"Monday\")\n",
    "elif day_num == 3:\n",
    "    print(\"Tuesday\")\n",
    "elif day_num == 4:\n",
    "    print(\"Wednesday\")\n",
    "elif day_num == 5:\n",
    "    print(\"Thursday\")\n",
    "elif day_num == 6:\n",
    "    print(\"Friday\")\n",
    "elif day_num == 7:\n",
    "    print(\"Saturday\")\n",
    "else:\n",
    "    print(\"Invalid input\")\n"
   ]
  },
  {
   "cell_type": "code",
   "execution_count": 19,
   "id": "87ec9260-d96e-4fc3-934f-153f766dc59f",
   "metadata": {},
   "outputs": [
    {
     "name": "stdin",
     "output_type": "stream",
     "text": [
      "Enter a year:  2024\n"
     ]
    },
    {
     "name": "stdout",
     "output_type": "stream",
     "text": [
      "2024 is a leap year.\n"
     ]
    }
   ],
   "source": [
    "def is_leap_year(year):\n",
    "    if (year % 4 == 0 and year % 100 != 0) or (year % 400 == 0):\n",
    "        return True\n",
    "    else:\n",
    "        return False\n",
    "\n",
    "year = int(input(\"Enter a year: \"))\n",
    "\n",
    "if is_leap_year(year):\n",
    "    print(year, \"is a leap year.\")\n",
    "else:\n",
    "    print(year, \"is not a leap year.\")\n"
   ]
  },
  {
   "cell_type": "code",
   "execution_count": 20,
   "id": "6bbd11bc-2d96-4238-9d7f-68ce0337f5f5",
   "metadata": {},
   "outputs": [
    {
     "name": "stdout",
     "output_type": "stream",
     "text": [
      "x is within the expected range\n"
     ]
    }
   ],
   "source": [
    "x = 10\n",
    "if x > 5:\n",
    "    assert x < 20, \"x should be less than 20\"\n",
    "    print(\"x is within the expected range\")\n",
    "else:\n",
    "    print(\"x is not within the expected range\")\n"
   ]
  },
  {
   "cell_type": "code",
   "execution_count": 21,
   "id": "a1e22bf9-c14f-47a9-a85c-21d8fde2d971",
   "metadata": {},
   "outputs": [
    {
     "name": "stdin",
     "output_type": "stream",
     "text": [
      "Enter your age:  60\n"
     ]
    },
    {
     "name": "stdout",
     "output_type": "stream",
     "text": [
      "You are eligible for a senior citizen discount.\n"
     ]
    }
   ],
   "source": [
    "age = int(input(\"Enter your age: \"))\n",
    "if age >= 60:\n",
    "    print(\"You are eligible for a senior citizen discount.\")\n",
    "else:\n",
    "    print(\"You are not eligible for a senior citizen discount.\")\n"
   ]
  },
  {
   "cell_type": "code",
   "execution_count": 23,
   "id": "348c6479-5630-4138-9bd5-dc42d1ec544e",
   "metadata": {},
   "outputs": [
    {
     "name": "stdin",
     "output_type": "stream",
     "text": [
      "Enter a character:  deepali\n"
     ]
    },
    {
     "name": "stdout",
     "output_type": "stream",
     "text": [
      "Lowercase character\n"
     ]
    }
   ],
   "source": [
    "char = input(\"Enter a character: \")\n",
    "if char.isupper():\n",
    "    print(\"Uppercase character\")\n",
    "elif char.islower():\n",
    "    print(\"Lowercase character\")\n",
    "else:\n",
    "    print(\"Neither uppercase nor lowercase\")\n",
    "\n",
    "    "
   ]
  },
  {
   "cell_type": "code",
   "execution_count": 24,
   "id": "4ab0383c-dbd7-484c-a27e-f0059ff49f76",
   "metadata": {},
   "outputs": [
    {
     "name": "stdin",
     "output_type": "stream",
     "text": [
      "Enter coefficient a:  2\n",
      "Enter coefficient b:  3\n",
      "Enter coefficient c:  4\n"
     ]
    },
    {
     "name": "stdout",
     "output_type": "stream",
     "text": [
      "Roots are complex\n"
     ]
    }
   ],
   "source": [
    "import math\n",
    "\n",
    "a = float(input(\"Enter coefficient a: \"))\n",
    "b = float(input(\"Enter coefficient b: \"))\n",
    "c = float(input(\"Enter coefficient c: \"))\n",
    "\n",
    "discriminant = b**2 - 4*a*c\n",
    "\n",
    "if discriminant > 0:\n",
    "    root1 = (-b + math.sqrt(discriminant)) / (2*a)\n",
    "    root2 = (-b - math.sqrt(discriminant)) / (2*a)\n",
    "    print(\"Roots are real and different:\", root1, \"and\", root2)\n",
    "elif discriminant == 0:\n",
    "    root = -b / (2*a)\n",
    "    print(\"Roots are real and equal:\", root)\n",
    "else:\n",
    "    print(\"Roots are complex\")\n"
   ]
  },
  {
   "cell_type": "code",
   "execution_count": 26,
   "id": "3bdef8f1-0cb1-452d-9a9e-af746deebdd6",
   "metadata": {},
   "outputs": [
    {
     "name": "stdin",
     "output_type": "stream",
     "text": [
      "Enter a year:  2000\n"
     ]
    },
    {
     "name": "stdout",
     "output_type": "stream",
     "text": [
      "2000 is a century year.\n"
     ]
    }
   ],
   "source": [
    "year = int(input(\"Enter a year: \"))\n",
    "if year % 100 == 0:\n",
    "    print(year, \"is a century year.\")\n",
    "else:\n",
    "    print(year, \"is not a century year.\")\n"
   ]
  },
  {
   "cell_type": "code",
   "execution_count": 30,
   "id": "e3685be7-85ac-4e9a-8e9b-ce0c4f876425",
   "metadata": {},
   "outputs": [
    {
     "name": "stdin",
     "output_type": "stream",
     "text": [
      "Enter a number:  44\n"
     ]
    },
    {
     "name": "stdout",
     "output_type": "stream",
     "text": [
      "44 is not a perfect square.\n"
     ]
    }
   ],
   "source": [
    "import math\n",
    "\n",
    "number = int(input(\"Enter a number: \"))\n",
    "sqrt = math.sqrt(number)\n",
    "\n",
    "if sqrt.is_integer():\n",
    "    print(number, \"is a perfect square.\")\n",
    "else:\n",
    "    print(number, \"is not a perfect square.\")\n"
   ]
  },
  {
   "cell_type": "code",
   "execution_count": 31,
   "id": "1ae8b3e5-8574-4c51-bc8d-494fbf258a94",
   "metadata": {},
   "outputs": [
    {
     "ename": "SyntaxError",
     "evalue": "invalid syntax (3948571049.py, line 1)",
     "output_type": "error",
     "traceback": [
      "\u001b[0;36m  Cell \u001b[0;32mIn[31], line 1\u001b[0;36m\u001b[0m\n\u001b[0;31m    continue: Skips the rest of the current iteration of the loop and continues to the next iteration.\u001b[0m\n\u001b[0m            ^\u001b[0m\n\u001b[0;31mSyntaxError\u001b[0m\u001b[0;31m:\u001b[0m invalid syntax\n"
     ]
    }
   ],
   "source": [
    "continue: Skips the rest of the current iteration of the loop and continues to the next iteration.\n",
    "break: Terminates the loop immediately."
   ]
  },
  {
   "cell_type": "code",
   "execution_count": 32,
   "id": "b1e01b21-073b-4217-9a50-8626df72698b",
   "metadata": {},
   "outputs": [
    {
     "name": "stdout",
     "output_type": "stream",
     "text": [
      "1\n",
      "3\n",
      "5\n",
      "7\n"
     ]
    }
   ],
   "source": [
    "for i in range(10):\n",
    "    if i % 2 == 0:\n",
    "        continue  # Skip even numbers\n",
    "    print(i)\n",
    "    if i == 7:\n",
    "        break  # Stop the loop when i is 7"
   ]
  },
  {
   "cell_type": "code",
   "execution_count": 33,
   "id": "8fe208a0-2ee9-4dee-b7ca-fd27d8ed3eee",
   "metadata": {},
   "outputs": [
    {
     "name": "stdin",
     "output_type": "stream",
     "text": [
      "Enter your height in meters:  153\n",
      "Enter your weight in kilograms:  54\n"
     ]
    },
    {
     "name": "stdout",
     "output_type": "stream",
     "text": [
      "Your BMI is: 0.002306805074971165\n",
      "Underweight\n"
     ]
    }
   ],
   "source": [
    "height = float(input(\"Enter your height in meters: \"))\n",
    "weight = float(input(\"Enter your weight in kilograms: \"))\n",
    "\n",
    "bmi = weight / (height ** 2)\n",
    "\n",
    "print(\"Your BMI is:\", bmi)\n",
    "\n",
    "if bmi < 18.5:\n",
    "    print(\"Underweight\")\n",
    "elif 18.5 <= bmi < 25:\n",
    "    print(\"Normal weight\")\n",
    "elif 25 <= bmi < 30:\n",
    "    print(\"Overweight\")\n",
    "else:\n",
    "    print(\"Obese\")\n"
   ]
  },
  {
   "cell_type": "code",
   "execution_count": 34,
   "id": "97a6b244-3ec0-4a69-9d79-8125c01c77c4",
   "metadata": {},
   "outputs": [
    {
     "name": "stdout",
     "output_type": "stream",
     "text": [
      "Even numbers: [2, 4, 6, 8, 10]\n"
     ]
    }
   ],
   "source": [
    "numbers = [1, 2, 3, 4, 5, 6, 7, 8, 9, 10]\n",
    "\n",
    "# Filter even numbers\n",
    "even_numbers = list(filter(lambda x: x % 2 == 0, numbers))\n",
    "\n",
    "print(\"Even numbers:\", even_numbers)\n"
   ]
  },
  {
   "cell_type": "code",
   "execution_count": 35,
   "id": "5c8c7eaa-7273-4aa7-889d-160254dbe74e",
   "metadata": {},
   "outputs": [
    {
     "name": "stdin",
     "output_type": "stream",
     "text": [
      "Enter a number:  3\n"
     ]
    },
    {
     "name": "stdout",
     "output_type": "stream",
     "text": [
      "3 is a prime number.\n"
     ]
    }
   ],
   "source": [
    "num = int(input(\"Enter a number: \"))\n",
    "\n",
    "if num > 1:\n",
    "    for i in range(2, num):\n",
    "        if (num % i) == 0:\n",
    "            print(num, \"is not a prime number.\")\n",
    "            break\n",
    "    else:\n",
    "        print(num, \"is a prime number.\")\n",
    "else:\n",
    "    print(num, \"is not a prime number.\")\n"
   ]
  },
  {
   "cell_type": "code",
   "execution_count": 36,
   "id": "6c508def-49f2-4203-bf54-d53c5bfe26de",
   "metadata": {},
   "outputs": [
    {
     "name": "stdout",
     "output_type": "stream",
     "text": [
      "[1, 4, 9, 16, 25]\n"
     ]
    }
   ],
   "source": [
    "numbers = [1, 2, 3, 4, 5]\n",
    "\n",
    "# Using map() to square each element\n",
    "squared_numbers = map(lambda x: x**2, numbers)\n",
    "\n",
    "# Converting the map object to a list\n",
    "squared_numbers_list = list(squared_numbers)\n",
    "\n",
    "print(squared_numbers_list)\n"
   ]
  },
  {
   "cell_type": "code",
   "execution_count": 37,
   "id": "320a9a49-7dfe-47b8-9124-b4386245b68b",
   "metadata": {},
   "outputs": [
    {
     "name": "stdout",
     "output_type": "stream",
     "text": [
      "['ALICE', 'BOB', 'CHARLIE']\n"
     ]
    }
   ],
   "source": [
    "names = [\"Alice\", \"Bob\", \"Charlie\"]\n",
    "\n",
    "# Using map() to convert names to uppercase\n",
    "uppercase_names = map(str.upper, names)\n",
    "\n",
    "# Converting the map object to a list\n",
    "uppercase_names_list = list(uppercase_names)\n",
    "\n",
    "print(uppercase_names_list)\n"
   ]
  },
  {
   "cell_type": "code",
   "execution_count": 38,
   "id": "ddd129d0-6f9c-467c-8498-66b36f0e999a",
   "metadata": {},
   "outputs": [
    {
     "name": "stdout",
     "output_type": "stream",
     "text": [
      "[5, 6, 6]\n"
     ]
    }
   ],
   "source": [
    "words = [\"apple\", \"banana\", \"orange\"]\n",
    "\n",
    "# Using map() to calculate the length of each word\n",
    "word_lengths = map(len, words)\n",
    "\n",
    "# Converting the map object to a list\n",
    "word_lengths_list = list(word_lengths)\n",
    "\n",
    "print(word_lengths_list)\n"
   ]
  },
  {
   "cell_type": "code",
   "execution_count": 39,
   "id": "e8b15664-d596-4676-88f7-9a23c397e2c7",
   "metadata": {},
   "outputs": [
    {
     "name": "stdout",
     "output_type": "stream",
     "text": [
      "[5, 7, 9]\n"
     ]
    }
   ],
   "source": [
    "# Custom function to add corresponding elements of two lists\n",
    "def add(x, y):\n",
    "    return x + y\n",
    "\n",
    "# Lists to apply the function to\n",
    "list1 = [1, 2, 3]\n",
    "list2 = [4, 5, 6]\n",
    "\n",
    "# Using map() to apply the function to corresponding elements of both lists\n",
    "result = map(add, list1, list2)\n",
    "\n",
    "# Converting the map object to a list\n",
    "result_list = list(result)\n",
    "\n",
    "print(result_list)\n"
   ]
  },
  {
   "cell_type": "code",
   "execution_count": 40,
   "id": "ad31143d-cb63-4f27-aca9-e3983537f0b0",
   "metadata": {},
   "outputs": [
    {
     "name": "stdout",
     "output_type": "stream",
     "text": [
      "[3, 2, 3]\n"
     ]
    }
   ],
   "source": [
    "float_numbers = [3.14, 1.5, 2.8]\n",
    "\n",
    "# Using map() to round each element to the nearest integer\n",
    "rounded_numbers = map(round, float_numbers)\n",
    "\n",
    "# Converting the map object to a list\n",
    "rounded_numbers_list = list(rounded_numbers)\n",
    "\n",
    "print(rounded_numbers_list)\n"
   ]
  },
  {
   "cell_type": "code",
   "execution_count": 41,
   "id": "b120d298-cac1-404b-9774-d349ee616e01",
   "metadata": {},
   "outputs": [
    {
     "name": "stdout",
     "output_type": "stream",
     "text": [
      "Sum of all numbers: 15\n"
     ]
    }
   ],
   "source": [
    "from functools import reduce\n",
    "\n",
    "# Function to add two numbers\n",
    "def add(x, y):\n",
    "    return x + y\n",
    "\n",
    "# List of numbers\n",
    "numbers = [1, 2, 3, 4, 5]\n",
    "\n",
    "# Using reduce() to find the sum of all numbers\n",
    "result = reduce(add, numbers)\n",
    "\n",
    "print(\"Sum of all numbers:\", result)\n"
   ]
  },
  {
   "cell_type": "code",
   "execution_count": 42,
   "id": "88b1f011-ea27-450b-adc7-01a9dfd9a035",
   "metadata": {},
   "outputs": [
    {
     "name": "stdout",
     "output_type": "stream",
     "text": [
      "Product of all numbers: 120\n"
     ]
    }
   ],
   "source": [
    "from functools import reduce\n",
    "\n",
    "# List of numbers\n",
    "numbers = [1, 2, 3, 4, 5]\n",
    "\n",
    "# Using reduce() to find the product of all numbers\n",
    "product = reduce(lambda x, y: x * y, numbers)\n",
    "\n",
    "print(\"Product of all numbers:\", product)\n"
   ]
  },
  {
   "cell_type": "code",
   "execution_count": 43,
   "id": "a2fa3350-3e19-439f-90e5-5f7f08de078e",
   "metadata": {},
   "outputs": [
    {
     "name": "stdout",
     "output_type": "stream",
     "text": [
      "Maximum element: 25\n"
     ]
    }
   ],
   "source": [
    "from functools import reduce\n",
    "\n",
    "# List of numbers\n",
    "numbers = [10, 5, 20, 15, 25]\n",
    "\n",
    "# Using reduce() to find the maximum element\n",
    "max_num = reduce(lambda x, y: x if x > y else y, numbers)\n",
    "\n",
    "print(\"Maximum element:\", max_num)\n"
   ]
  },
  {
   "cell_type": "code",
   "execution_count": 44,
   "id": "5fb6d6a6-dd01-4c49-a3a0-9d73ee54db61",
   "metadata": {},
   "outputs": [
    {
     "name": "stdout",
     "output_type": "stream",
     "text": [
      "Concatenated string: Hello world!\n"
     ]
    }
   ],
   "source": [
    "from functools import reduce\n",
    "\n",
    "# List of strings\n",
    "strings = [\"Hello\", \" \", \"world\", \"!\"]\n",
    "\n",
    "# Using reduce() to concatenate the strings\n",
    "concatenated_string = reduce(lambda x, y: x + y, strings)\n",
    "\n",
    "print(\"Concatenated string:\", concatenated_string)\n"
   ]
  },
  {
   "cell_type": "code",
   "execution_count": 45,
   "id": "2eaf8ee2-7493-4e02-8804-0107022cec1a",
   "metadata": {},
   "outputs": [
    {
     "name": "stdout",
     "output_type": "stream",
     "text": [
      "Factorial of 5 : 120\n"
     ]
    }
   ],
   "source": [
    "from functools import reduce\n",
    "\n",
    "# Function to calculate factorial\n",
    "def factorial(n):\n",
    "    return reduce(lambda x, y: x * y, range(1, n + 1))\n",
    "\n",
    "# Number to calculate factorial for\n",
    "num = 5\n",
    "\n",
    "print(\"Factorial of\", num, \":\", factorial(num))\n"
   ]
  },
  {
   "cell_type": "code",
   "execution_count": 46,
   "id": "6efafcd7-f649-48ae-9014-d618edf8aad6",
   "metadata": {},
   "outputs": [
    {
     "name": "stdout",
     "output_type": "stream",
     "text": [
      "GCD of numbers: 12\n"
     ]
    }
   ],
   "source": [
    "from functools import reduce\n",
    "from math import gcd\n",
    "\n",
    "# List of numbers\n",
    "numbers = [24, 36, 48, 60, 72]\n",
    "\n",
    "# Using reduce() to find the GCD\n",
    "result = reduce(gcd, numbers)\n",
    "\n",
    "print(\"GCD of numbers:\", result)\n"
   ]
  },
  {
   "cell_type": "code",
   "execution_count": 47,
   "id": "4aae2e02-a718-45b6-8704-38703ed792df",
   "metadata": {},
   "outputs": [
    {
     "name": "stdout",
     "output_type": "stream",
     "text": [
      "Sum of digits: 15\n"
     ]
    }
   ],
   "source": [
    "from functools import reduce\n",
    "\n",
    "# Number\n",
    "num = 12345\n",
    "\n",
    "# Using reduce() to find the sum of digits\n",
    "sum_of_digits = reduce(lambda x, y: int(x) + int(y), str(num))\n",
    "\n",
    "print(\"Sum of digits:\", sum_of_digits)\n"
   ]
  },
  {
   "cell_type": "code",
   "execution_count": 48,
   "id": "ce162b40-6aeb-4e51-ae6f-f80e8998d195",
   "metadata": {},
   "outputs": [
    {
     "name": "stdout",
     "output_type": "stream",
     "text": [
      "Even numbers: [2, 4, 6, 8, 10]\n"
     ]
    }
   ],
   "source": [
    "# Function to filter even numbers\n",
    "def is_even(n):\n",
    "    return n % 2 == 0\n",
    "\n",
    "# List of numbers\n",
    "numbers = [1, 2, 3, 4, 5, 6, 7, 8, 9, 10]\n",
    "\n",
    "# Using filter() to select even numbers\n",
    "even_numbers = filter(is_even, numbers)\n",
    "\n",
    "# Converting the filter object to a list\n",
    "even_numbers_list = list(even_numbers)\n",
    "\n",
    "print(\"Even numbers:\", even_numbers_list)\n"
   ]
  },
  {
   "cell_type": "code",
   "execution_count": 49,
   "id": "473523e5-a575-407d-b063-c1f75f25c034",
   "metadata": {},
   "outputs": [
    {
     "name": "stdout",
     "output_type": "stream",
     "text": [
      "Even numbers: [2, 4, 6, 8, 10]\n"
     ]
    }
   ],
   "source": [
    "# List of numbers\n",
    "numbers = [1, 2, 3, 4, 5, 6, 7, 8, 9, 10]\n",
    "\n",
    "# Using filter() to select even numbers\n",
    "even_numbers = filter(lambda x: x % 2 == 0, numbers)\n",
    "\n",
    "# Converting the filter object to a list\n",
    "even_numbers_list = list(even_numbers)\n",
    "\n",
    "print(\"Even numbers:\", even_numbers_list)\n"
   ]
  },
  {
   "cell_type": "code",
   "execution_count": 50,
   "id": "b44ae717-8600-4c18-90db-33ada65adca0",
   "metadata": {},
   "outputs": [
    {
     "name": "stdout",
     "output_type": "stream",
     "text": [
      "Names starting with B: ['Bob']\n"
     ]
    }
   ],
   "source": [
    "# List of names\n",
    "names = [\"Alice\", \"Bob\", \"Charlie\", \"David\", \"Eva\"]\n",
    "\n",
    "# Starting letter to filter by\n",
    "start_letter = \"B\"\n",
    "\n",
    "# Using filter() to select names starting with the specified letter\n",
    "filtered_names = filter(lambda x: x.startswith(start_letter), names)\n",
    "\n",
    "# Converting the filter object to a list\n",
    "filtered_names_list = list(filtered_names)\n",
    "\n",
    "print(\"Names starting with\", start_letter + \":\", filtered_names_list)\n"
   ]
  },
  {
   "cell_type": "code",
   "execution_count": 51,
   "id": "fa86cbbe-d556-4fcc-9c75-05362284f087",
   "metadata": {},
   "outputs": [
    {
     "name": "stdout",
     "output_type": "stream",
     "text": [
      "Prime numbers: [2, 3, 5, 7]\n"
     ]
    }
   ],
   "source": [
    "# Function to check if a number is prime\n",
    "def is_prime(n):\n",
    "    if n <= 1:\n",
    "        return False\n",
    "    for i in range(2, int(n**0.5) + 1):\n",
    "        if n % i == 0:\n",
    "            return False\n",
    "    return True\n",
    "\n",
    "# List of numbers\n",
    "numbers = [1, 2, 3, 4, 5, 6, 7, 8, 9, 10]\n",
    "\n",
    "# Using filter() to select prime numbers\n",
    "prime_numbers = filter(is_prime, numbers)\n",
    "\n",
    "# Converting the filter object to a list\n",
    "prime_numbers_list = list(prime_numbers)\n",
    "\n",
    "print(\"Prime numbers:\", prime_numbers_list)\n"
   ]
  },
  {
   "cell_type": "code",
   "execution_count": 52,
   "id": "3aa354f1-9892-480d-9370-6fb5b89d5511",
   "metadata": {},
   "outputs": [
    {
     "name": "stdout",
     "output_type": "stream",
     "text": [
      "Filtered values: [1, 3, 5, 7]\n"
     ]
    }
   ],
   "source": [
    "# List with None values\n",
    "values = [1, None, 3, None, 5, None, 7]\n",
    "\n",
    "# Using filter() to remove None values\n",
    "filtered_values = filter(lambda x: x is not None, values)\n",
    "\n",
    "# Converting the filter object to a list\n",
    "filtered_values_list = list(filtered_values)\n",
    "\n",
    "print(\"Filtered values:\", filtered_values_list)\n"
   ]
  },
  {
   "cell_type": "code",
   "execution_count": 53,
   "id": "d2d0a628-c254-47a0-80df-2b1eab99b5f6",
   "metadata": {},
   "outputs": [
    {
     "name": "stdout",
     "output_type": "stream",
     "text": [
      "Words longer than 5 characters: ['banana', 'orange']\n"
     ]
    }
   ],
   "source": [
    "# List of strings\n",
    "strings = [\"apple\", \"banana\", \"orange\", \"grape\", \"kiwi\"]\n",
    "\n",
    "# Minimum length to filter by\n",
    "min_length = 5\n",
    "\n",
    "# Using filter() to select words longer than the specified length\n",
    "filtered_strings = filter(lambda x: len(x) > min_length, strings)\n",
    "\n",
    "# Converting the filter object to a list\n",
    "filtered_strings_list = list(filtered_strings)\n",
    "\n",
    "print(\"Words longer than\", min_length, \"characters:\", filtered_strings_list)\n"
   ]
  },
  {
   "cell_type": "code",
   "execution_count": 54,
   "id": "fcd66663-92e3-42f2-933c-ae84f6733dfd",
   "metadata": {},
   "outputs": [
    {
     "name": "stdout",
     "output_type": "stream",
     "text": [
      "Values greater than 40 : [50, 60, 70]\n"
     ]
    }
   ],
   "source": [
    "# List of values\n",
    "values = [10, 20, 30, 40, 50, 60, 70]\n",
    "\n",
    "# Threshold to filter by\n",
    "threshold = 40\n",
    "\n",
    "# Using filter() to select elements greater than the specified threshold\n",
    "filtered_values = filter(lambda x: x > threshold, values)\n",
    "\n",
    "# Converting the filter object to a list\n",
    "filtered_values_list = list(filtered_values)\n",
    "\n",
    "print(\"Values greater than\", threshold, \":\", filtered_values_list)\n"
   ]
  },
  {
   "cell_type": "code",
   "execution_count": 56,
   "id": "93fb9e50-d546-4ccd-84ea-ae9fc323c32c",
   "metadata": {},
   "outputs": [
    {
     "name": "stdin",
     "output_type": "stream",
     "text": [
      "Enter a number:  6\n"
     ]
    },
    {
     "name": "stdout",
     "output_type": "stream",
     "text": [
      "Factorial of 6 is 720\n"
     ]
    }
   ],
   "source": [
    "def factorial(n):\n",
    "    if n == 0:\n",
    "        return 1\n",
    "    else:\n",
    "        return n * factorial(n - 1)\n",
    "\n",
    "# Test the function\n",
    "number = int(input(\"Enter a number: \"))\n",
    "print(\"Factorial of\", number, \"is\", factorial(number))\n"
   ]
  },
  {
   "cell_type": "code",
   "execution_count": 57,
   "id": "4e806f7c-46b8-4d4c-ab75-46ea06a6bc94",
   "metadata": {},
   "outputs": [
    {
     "name": "stdin",
     "output_type": "stream",
     "text": [
      "Enter the value of n:  6\n"
     ]
    },
    {
     "name": "stdout",
     "output_type": "stream",
     "text": [
      "The nth Fibonacci number is 8\n"
     ]
    }
   ],
   "source": [
    "def fibonacci(n):\n",
    "    if n <= 1:\n",
    "        return n\n",
    "    else:\n",
    "        return fibonacci(n - 1) + fibonacci(n - 2)\n",
    "\n",
    "# Test the function\n",
    "n = int(input(\"Enter the value of n: \"))\n",
    "print(\"The nth Fibonacci number is\", fibonacci(n))\n"
   ]
  },
  {
   "cell_type": "code",
   "execution_count": 58,
   "id": "2ce49aff-ea72-4cc1-9107-c7e70bf5710c",
   "metadata": {},
   "outputs": [
    {
     "name": "stdout",
     "output_type": "stream",
     "text": [
      "Sum of elements: 15\n"
     ]
    }
   ],
   "source": [
    "def list_sum(lst):\n",
    "    if len(lst) == 0:\n",
    "        return 0\n",
    "    else:\n",
    "        return lst[0] + list_sum(lst[1:])\n",
    "\n",
    "# Test the function\n",
    "numbers = [1, 2, 3, 4, 5]\n",
    "print(\"Sum of elements:\", list_sum(numbers))\n"
   ]
  },
  {
   "cell_type": "code",
   "execution_count": 59,
   "id": "d2aeb0c8-9556-485a-9870-5e0b3ee5f6ec",
   "metadata": {},
   "outputs": [
    {
     "name": "stdin",
     "output_type": "stream",
     "text": [
      "Enter first number:  4\n",
      "Enter second number:  9\n"
     ]
    },
    {
     "name": "stdout",
     "output_type": "stream",
     "text": [
      "GCD of 4 and 9 is 1\n"
     ]
    }
   ],
   "source": [
    "def gcd(a, b):\n",
    "    if b == 0:\n",
    "        return a\n",
    "    else:\n",
    "        return gcd(b, a % b)\n",
    "\n",
    "# Test the function\n",
    "num1 = int(input(\"Enter first number: \"))\n",
    "num2 = int(input(\"Enter second number: \"))\n",
    "print(\"GCD of\", num1, \"and\", num2, \"is\", gcd(num1, num2))\n"
   ]
  },
  {
   "cell_type": "code",
   "execution_count": 60,
   "id": "e8275f98-d9dd-4ad0-8540-dd7ee98b2435",
   "metadata": {},
   "outputs": [
    {
     "name": "stdin",
     "output_type": "stream",
     "text": [
      "Enter a string:  deepali\n"
     ]
    },
    {
     "name": "stdout",
     "output_type": "stream",
     "text": [
      "Reversed string: ilapeed\n"
     ]
    }
   ],
   "source": [
    "def reverse_string(s):\n",
    "    if len(s) <= 1:\n",
    "        return s\n",
    "    else:\n",
    "        return reverse_string(s[1:]) + s[0]\n",
    "\n",
    "# Test the function\n",
    "string = input(\"Enter a string: \")\n",
    "print(\"Reversed string:\", reverse_string(string))\n"
   ]
  },
  {
   "cell_type": "code",
   "execution_count": 61,
   "id": "88d1e391-24dd-41be-a394-164f92138922",
   "metadata": {},
   "outputs": [
    {
     "name": "stdin",
     "output_type": "stream",
     "text": [
      "Enter the base number (x):  4\n",
      "Enter the power (n):  2\n"
     ]
    },
    {
     "name": "stdout",
     "output_type": "stream",
     "text": [
      "Result: 16\n"
     ]
    }
   ],
   "source": [
    "def power(x, n):\n",
    "    if n == 0:\n",
    "        return 1\n",
    "    else:\n",
    "        return x * power(x, n - 1)\n",
    "\n",
    "# Test the function\n",
    "x = int(input(\"Enter the base number (x): \"))\n",
    "n = int(input(\"Enter the power (n): \"))\n",
    "print(\"Result:\", power(x, n))\n"
   ]
  },
  {
   "cell_type": "code",
   "execution_count": 64,
   "id": "a4ed92c7-c51e-49ad-830c-c03757926c56",
   "metadata": {},
   "outputs": [
    {
     "name": "stdin",
     "output_type": "stream",
     "text": [
      "Enter a string:  deep\n"
     ]
    },
    {
     "name": "stdout",
     "output_type": "stream",
     "text": [
      "Permutations: ['deep', 'depe', 'deep', 'depe', 'dpee', 'dpee', 'edep', 'edpe', 'eedp', 'eepd', 'epde', 'eped', 'edep', 'edpe', 'eedp', 'eepd', 'epde', 'eped', 'pdee', 'pdee', 'pede', 'peed', 'pede', 'peed']\n"
     ]
    }
   ],
   "source": [
    "def permutations(s):\n",
    "    if len(s) == 1:\n",
    "        return [s]\n",
    "    else:\n",
    "        perms = []\n",
    "        for i in range(len(s)):\n",
    "            first_char = s[i]\n",
    "            remaining_chars = s[:i] + s[i+1:]\n",
    "            for perm in permutations(remaining_chars):\n",
    "                perms.append(first_char + perm)\n",
    "        return perms\n",
    "\n",
    "# Test the function\n",
    "string = input(\"Enter a string: \")\n",
    "print(\"Permutations:\", permutations(string))\n"
   ]
  },
  {
   "cell_type": "code",
   "execution_count": 65,
   "id": "2cf97c0e-9be1-4d3d-8dda-5668d4e6219d",
   "metadata": {},
   "outputs": [
    {
     "name": "stdin",
     "output_type": "stream",
     "text": [
      "Enter a string:  deepeed\n"
     ]
    },
    {
     "name": "stdout",
     "output_type": "stream",
     "text": [
      "The string is a palindrome.\n"
     ]
    }
   ],
   "source": [
    "def is_palindrome(s):\n",
    "    if len(s) <= 1:\n",
    "        return True\n",
    "    else:\n",
    "        if s[0] == s[-1]:\n",
    "            return is_palindrome(s[1:-1])\n",
    "        else:\n",
    "            return False\n",
    "\n",
    "# Test the function\n",
    "string = input(\"Enter a string: \")\n",
    "if is_palindrome(string):\n",
    "    print(\"The string is a palindrome.\")\n",
    "else:\n",
    "    print(\"The string is not a palindrome.\")\n"
   ]
  },
  {
   "cell_type": "code",
   "execution_count": 66,
   "id": "1db371cb-dfa9-4585-ae22-45d3bb4907fa",
   "metadata": {},
   "outputs": [
    {
     "name": "stdout",
     "output_type": "stream",
     "text": [
      "Combinations: [[], [1], [2], [1, 2], [3], [1, 3], [2, 3], [1, 2, 3]]\n"
     ]
    }
   ],
   "source": [
    "def combinations(lst):\n",
    "    if len(lst) == 0:\n",
    "        return [[]]\n",
    "    else:\n",
    "        current_element = lst[0]\n",
    "        remaining_elements = lst[1:]\n",
    "        combos_without_current = combinations(remaining_elements)\n",
    "        combos_with_current = []\n",
    "        for combo in combos_without_current:\n",
    "            combos_with_current.append(combo)\n",
    "            combos_with_current.append([current_element] + combo)\n",
    "        return combos_with_current\n",
    "\n",
    "# Test the function\n",
    "elements = [1, 2, 3]\n",
    "print(\"Combinations:\", combinations(elements))\n"
   ]
  },
  {
   "cell_type": "code",
   "execution_count": 67,
   "id": "4a36af23-9824-4a37-ad63-c4817ce8a04f",
   "metadata": {},
   "outputs": [
    {
     "name": "stdout",
     "output_type": "stream",
     "text": [
      "Hello, Alice\n"
     ]
    }
   ],
   "source": [
    "# Function definition with formal parameters\n",
    "def greet(name):\n",
    "    print(\"Hello,\", name)\n",
    "\n",
    "# Function call with actual arguments\n",
    "greet(\"Alice\")  # \"Alice\" is the actual argument passed to the function greet\n"
   ]
  },
  {
   "cell_type": "code",
   "execution_count": 68,
   "id": "b2091bac-49c8-4bca-876e-07876e2d5f2e",
   "metadata": {},
   "outputs": [
    {
     "name": "stdout",
     "output_type": "stream",
     "text": [
      "Hello, Anonymous\n",
      "Hello, Alice\n"
     ]
    }
   ],
   "source": [
    "def greet(name=\"Anonymous\"):\n",
    "    print(\"Hello,\", name)\n",
    "\n",
    "# Call the function without providing any argument\n",
    "greet()  # Output: Hello, Anonymous\n",
    "\n",
    "# Call the function with an argument\n",
    "greet(\"Alice\")  # Output: Hello, Alice\n"
   ]
  },
  {
   "cell_type": "code",
   "execution_count": 69,
   "id": "7c9ac488-b60b-4fa3-9445-414d3fb38398",
   "metadata": {},
   "outputs": [
    {
     "name": "stdout",
     "output_type": "stream",
     "text": [
      "Hi, Alice\n"
     ]
    }
   ],
   "source": [
    "def greet(name, greeting=\"Hello\"):\n",
    "    print(greeting + \",\", name)\n",
    "\n",
    "# Call the function using keyword arguments\n",
    "greet(name=\"Alice\", greeting=\"Hi\")  # Output: Hi, Alice\n"
   ]
  },
  {
   "cell_type": "code",
   "execution_count": 70,
   "id": "92ff25d9-8dad-4565-a906-c0ed2c9a3eab",
   "metadata": {},
   "outputs": [
    {
     "name": "stdout",
     "output_type": "stream",
     "text": [
      "6\n",
      "22\n"
     ]
    }
   ],
   "source": [
    "def sum_values(*args):\n",
    "    total = 0\n",
    "    for num in args:\n",
    "        total += num\n",
    "    return total\n",
    "\n",
    "# Test the function\n",
    "print(sum_values(1, 2, 3))  # Output: 6\n",
    "print(sum_values(4, 5, 6, 7))  # Output: 22\n"
   ]
  },
  {
   "cell_type": "code",
   "execution_count": 71,
   "id": "2776ac45-30c4-4765-abda-472e70adbfb1",
   "metadata": {},
   "outputs": [
    {
     "name": "stdout",
     "output_type": "stream",
     "text": [
      "8\n"
     ]
    }
   ],
   "source": [
    "def add(a, b):\n",
    "    return a + b\n",
    "\n",
    "result = add(3, 5)\n",
    "print(result)  # Output: 8\n"
   ]
  },
  {
   "cell_type": "code",
   "execution_count": 72,
   "id": "274ad1c8-3ca0-4198-8b2c-2b699ac318d2",
   "metadata": {},
   "outputs": [
    {
     "ename": "SyntaxError",
     "evalue": "invalid syntax (1552138594.py, line 1)",
     "output_type": "error",
     "traceback": [
      "\u001b[0;36m  Cell \u001b[0;32mIn[72], line 1\u001b[0;36m\u001b[0m\n\u001b[0;31m    Variable scope in Python:\u001b[0m\n\u001b[0m             ^\u001b[0m\n\u001b[0;31mSyntaxError\u001b[0m\u001b[0;31m:\u001b[0m invalid syntax\n"
     ]
    }
   ],
   "source": [
    "Variable scope in Python:\n",
    "\n",
    "    Variable scope refers to the visibility and accessibility of variables within different parts of a program. In Python, variables can have either local or global scope.\n",
    "    Local variables are defined inside a function and can only be accessed within that function.\n",
    "    Global variables are defined outside of any function and can be accessed by any part of the code."
   ]
  },
  {
   "cell_type": "code",
   "execution_count": 73,
   "id": "942d4ff7-fc3d-4834-b9bc-c7f2f3c2e9bc",
   "metadata": {},
   "outputs": [
    {
     "name": "stdout",
     "output_type": "stream",
     "text": [
      "50\n"
     ]
    }
   ],
   "source": [
    "# Global variable\n",
    "global_var = 10\n",
    "\n",
    "def multiply_by_global(n):\n",
    "    return n * global_var\n",
    "\n",
    "result = multiply_by_global(5)\n",
    "print(result)  # Output: 50\n"
   ]
  },
  {
   "cell_type": "code",
   "execution_count": 74,
   "id": "08fdfeb8-c1fd-406e-9d1c-3e08ecb55d5c",
   "metadata": {},
   "outputs": [
    {
     "name": "stdout",
     "output_type": "stream",
     "text": [
      "120\n"
     ]
    }
   ],
   "source": [
    "def factorial(n):\n",
    "    if n == 0:\n",
    "        return 1\n",
    "    else:\n",
    "        return n * factorial(n - 1)\n",
    "\n",
    "result = factorial(5)\n",
    "print(result)  # Output: 120\n"
   ]
  },
  {
   "cell_type": "code",
   "execution_count": 75,
   "id": "18f76337-448c-4b0a-b6da-1d93c9800fd5",
   "metadata": {},
   "outputs": [
    {
     "name": "stdout",
     "output_type": "stream",
     "text": [
      "15\n"
     ]
    }
   ],
   "source": [
    "global_var = 10\n",
    "\n",
    "def modify_global():\n",
    "    global global_var\n",
    "    global_var += 5\n",
    "\n",
    "modify_global()\n",
    "print(global_var)  # Output: 15\n"
   ]
  },
  {
   "cell_type": "code",
   "execution_count": 76,
   "id": "bf0e211b-2490-4979-9f73-88311f782611",
   "metadata": {},
   "outputs": [
    {
     "name": "stdout",
     "output_type": "stream",
     "text": [
      "Sorted data: [(3, 1), (2, 2), (1, 3)]\n"
     ]
    }
   ],
   "source": [
    "# List of tuples\n",
    "data = [(1, 3), (2, 2), (3, 1)]\n",
    "\n",
    "# Sort the list of tuples based on the second element using a lambda function\n",
    "sorted_data = sorted(data, key=lambda x: x[1])\n",
    "\n",
    "print(\"Sorted data:\", sorted_data)\n"
   ]
  },
  {
   "cell_type": "code",
   "execution_count": 77,
   "id": "f3f2d193-b261-4bce-a6b0-7ae151e6204c",
   "metadata": {},
   "outputs": [
    {
     "ename": "SyntaxError",
     "evalue": "invalid syntax (274585936.py, line 1)",
     "output_type": "error",
     "traceback": [
      "\u001b[0;36m  Cell \u001b[0;32mIn[77], line 1\u001b[0;36m\u001b[0m\n\u001b[0;31m    Lambda functions in Python:\u001b[0m\n\u001b[0m           ^\u001b[0m\n\u001b[0;31mSyntaxError\u001b[0m\u001b[0;31m:\u001b[0m invalid syntax\n"
     ]
    }
   ],
   "source": [
    "Lambda functions in Python:\n",
    "\n",
    "    Lambda functions, also known as anonymous functions, are small, inline functions that do not have a name and are defined using the lambda keyword.\n",
    "    They are typically used when a simple function is required for a short period of time, such as when passing a function as an argument to another function or when defining a function in a single line.\n",
    "    Lambda functions can take any number of arguments but can only have one expression.\n",
    "    "
   ]
  },
  {
   "cell_type": "code",
   "execution_count": 78,
   "id": "4a2ef593-8d1e-44e2-9bc6-d40c71257253",
   "metadata": {},
   "outputs": [
    {
     "ename": "SyntaxError",
     "evalue": "invalid syntax (3675426351.py, line 1)",
     "output_type": "error",
     "traceback": [
      "\u001b[0;36m  Cell \u001b[0;32mIn[78], line 1\u001b[0;36m\u001b[0m\n\u001b[0;31m    Higher-order functions in Python:\u001b[0m\n\u001b[0m                 ^\u001b[0m\n\u001b[0;31mSyntaxError\u001b[0m\u001b[0;31m:\u001b[0m invalid syntax\n"
     ]
    }
   ],
   "source": [
    "Higher-order functions in Python:\n",
    "\n",
    "    Higher-order functions are functions that take other functions as arguments or return functions as results.\n",
    "    They enable functional programming paradigms and are used to implement concepts such as map, filter, and reduce.\n",
    "    In Python, functions are first-class citizens, meaning they can be passed around and manipulated like any other data type.\n",
    "    "
   ]
  },
  {
   "cell_type": "code",
   "execution_count": 79,
   "id": "462a4cdc-d17f-4db4-9ca2-1b269336bd0f",
   "metadata": {},
   "outputs": [
    {
     "name": "stdout",
     "output_type": "stream",
     "text": [
      "Result: [1, 4, 9, 16, 25]\n"
     ]
    }
   ],
   "source": [
    "def apply_function_to_list(lst, func):\n",
    "    return [func(x) for x in lst]\n",
    "\n",
    "# Example function to square a number\n",
    "def square(x):\n",
    "    return x ** 2\n",
    "\n",
    "# List of numbers\n",
    "numbers = [1, 2, 3, 4, 5]\n",
    "\n",
    "# Apply the square function to each element in the list\n",
    "result = apply_function_to_list(numbers, square)\n",
    "\n",
    "print(\"Result:\", result)\n"
   ]
  },
  {
   "cell_type": "code",
   "execution_count": null,
   "id": "0a8c8509-3503-420c-bb6c-c468283a442d",
   "metadata": {},
   "outputs": [],
   "source": [
    "Role of built-in functions like len(), max(), and min() in Python:\n",
    "\n",
    "    len(): Returns the length (number of items) of an object such as a string, list, tuple, dictionary, etc.\n",
    "    max(): Returns the maximum value from a sequence (e.g., list, tuple, or set) or the largest item among two or more arguments.\n",
    "    min(): Returns the minimum value from a sequence or the smallest item among two or more arguments."
   ]
  },
  {
   "cell_type": "code",
   "execution_count": 80,
   "id": "f86a1c2f-18f6-41b5-a9a6-8a3be760822d",
   "metadata": {},
   "outputs": [
    {
     "name": "stdout",
     "output_type": "stream",
     "text": [
      "Doubled numbers: [2, 4, 6, 8, 10]\n"
     ]
    }
   ],
   "source": [
    "# Function to double a number\n",
    "def double(x):\n",
    "    return 2 * x\n",
    "\n",
    "# List of numbers\n",
    "numbers = [1, 2, 3, 4, 5]\n",
    "\n",
    "# Use map() to double each element in the list\n",
    "doubled_numbers = list(map(double, numbers))\n",
    "\n",
    "print(\"Doubled numbers:\", doubled_numbers)\n"
   ]
  },
  {
   "cell_type": "code",
   "execution_count": null,
   "id": "626fb1f1-45ae-45cc-b578-51120d44a03f",
   "metadata": {},
   "outputs": [],
   "source": [
    "How does the filter() function work in Python, and when would you use it?:\n",
    "\n",
    "    The filter() function is used to filter elements from an iterable (e.g., list, tuple) based on a function that returns either True or False.\n",
    "    It takes two arguments: the function to apply for filtering and the iterable to filter.\n",
    "    The function passed to filter() should return True for elements to be included in the result and False for elements to be excluded.\n",
    "    filter() returns an iterator containing the elements for which the function returns True.\n",
    "    You would use filter() when you need to selectively extract elements from a sequence based on certain criteria."
   ]
  },
  {
   "cell_type": "code",
   "execution_count": 81,
   "id": "92e79b31-6736-406f-b25a-14daae14d621",
   "metadata": {},
   "outputs": [
    {
     "name": "stdout",
     "output_type": "stream",
     "text": [
      "Product of all elements: 120\n"
     ]
    }
   ],
   "source": [
    "from functools import reduce\n",
    "\n",
    "# List of numbers\n",
    "numbers = [1, 2, 3, 4, 5]\n",
    "\n",
    "# Use reduce() to find the product of all elements in the list\n",
    "product = reduce(lambda x, y: x * y, numbers)\n",
    "\n",
    "print(\"Product of all elements:\", product)\n"
   ]
  },
  {
   "cell_type": "code",
   "execution_count": null,
   "id": "be183bc9-cfa5-43bd-a731-5b53d7026843",
   "metadata": {},
   "outputs": [],
   "source": [
    "Purpose of docstrings in Python functions:\n",
    "\n",
    "    Docstrings are used to provide documentation for Python functions, modules, classes, and methods.\n",
    "    They serve as a concise way to describe the purpose, usage, parameters, return values, and any other relevant information about the function.\n",
    "    Docstrings are accessible via the __doc__ attribute of the function and can be viewed using the help() function or tools like Sphinx for generating documentation.\n",
    "    Writing clear and informative docstrings helps improve code readability, maintainability, and collaboration.\n",
    "\n",
    "How to write docstrings:\n",
    "\n",
    "    Docstrings are enclosed in triple quotes (either single or double) immediately after the function, class, or module definition.\n",
    "    The docstring should start with a brief summary on the first line, followed by a more detailed description.\n",
    "    If applicable, include sections such as Parameters, Returns, Raises, Examples, and Notes to provide additional context and information.\n",
    "    Use the appropriate indentation and follow the PEP 257 conventions for formatting docstrings."
   ]
  },
  {
   "cell_type": "code",
   "execution_count": 82,
   "id": "e5ee25f6-495b-4749-88f4-08b9461bb949",
   "metadata": {},
   "outputs": [],
   "source": [
    "def calculate_square(n):\n",
    "    \"\"\"\n",
    "    Calculate the square of a number.\n",
    "\n",
    "    Parameters:\n",
    "    n (int): The number to calculate the square of.\n",
    "\n",
    "    Returns:\n",
    "    int: The square of the input number.\n",
    "    \"\"\"\n",
    "    return n ** 2\n"
   ]
  },
  {
   "cell_type": "code",
   "execution_count": null,
   "id": "54a937da-9b2a-4fbd-b429-26890f989ac6",
   "metadata": {},
   "outputs": [],
   "source": [
    "Best practices for naming functions and variables in Python:\n",
    "\n",
    "    Use descriptive and meaningful names that reflect the purpose or functionality of the function or variable.\n",
    "    Follow the Python naming conventions (PEP 8) which recommend using lowercase letters with underscores for function and variable names (snake_case).\n",
    "    Use descriptive verbs or verb phrases for function names to indicate actions (e.g., calculate_sum, process_data).\n",
    "    Use nouns or noun phrases for variable names to describe the data they hold (e.g., user_name, total_count).\n",
    "    Avoid using single-letter variable names except for loop iterators or well-known conventions like i, j, k.\n",
    "    Be consistent in naming conventions within your codebase to enhance readability and maintainability.\n",
    "    Use meaningful prefixes or suffixes when appropriate to distinguish between related variables or functions (e.g., get_, set_, is_)."
   ]
  },
  {
   "cell_type": "code",
   "execution_count": 83,
   "id": "100ccdcd-78ab-48ba-bae5-59881ecbe7f6",
   "metadata": {},
   "outputs": [],
   "source": [
    "# Good function and variable names\n",
    "def calculate_total_price(item_price, quantity):\n",
    "    total_price = item_price * quantity\n",
    "    return total_price\n",
    "\n",
    "# Bad function and variable names\n",
    "def calc(item, qty):\n",
    "    t_price = item * qty\n",
    "    return t_price\n"
   ]
  },
  {
   "cell_type": "code",
   "execution_count": null,
   "id": "1c4e69e5-164b-47f2-938f-df000a13352a",
   "metadata": {},
   "outputs": [],
   "source": []
  }
 ],
 "metadata": {
  "kernelspec": {
   "display_name": "Python 3 (ipykernel)",
   "language": "python",
   "name": "python3"
  },
  "language_info": {
   "codemirror_mode": {
    "name": "ipython",
    "version": 3
   },
   "file_extension": ".py",
   "mimetype": "text/x-python",
   "name": "python",
   "nbconvert_exporter": "python",
   "pygments_lexer": "ipython3",
   "version": "3.10.8"
  }
 },
 "nbformat": 4,
 "nbformat_minor": 5
}
