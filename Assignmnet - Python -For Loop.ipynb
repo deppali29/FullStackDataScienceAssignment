{
 "cells": [
  {
   "cell_type": "code",
   "execution_count": 1,
   "id": "94434abf-c9bf-47aa-a17a-07b6183f4646",
   "metadata": {},
   "outputs": [
    {
     "name": "stdout",
     "output_type": "stream",
     "text": [
      "1\n",
      "2\n",
      "3\n",
      "4\n",
      "5\n",
      "6\n",
      "7\n",
      "8\n",
      "9\n",
      "10\n"
     ]
    }
   ],
   "source": [
    "for number in range(1, 11):\n",
    "    print(number)"
   ]
  },
  {
   "cell_type": "code",
   "execution_count": 2,
   "id": "2e5a9a95-3f27-4959-9ebd-da97b93f0209",
   "metadata": {},
   "outputs": [
    {
     "name": "stdout",
     "output_type": "stream",
     "text": [
      "Sum of numbers: 55\n"
     ]
    }
   ],
   "source": [
    "# Sample list of numbers\n",
    "numbers = [1, 2, 3, 4, 5, 6, 7, 8, 9, 10]\n",
    "\n",
    "# Initialize a variable to store the sum\n",
    "sum_of_numbers = 0\n",
    "\n",
    "# Loop through each number in the list and add it to the sum\n",
    "for number in numbers:\n",
    "    sum_of_numbers += number\n",
    "\n",
    "# Print the result\n",
    "print(\"Sum of numbers:\", sum_of_numbers)"
   ]
  },
  {
   "cell_type": "code",
   "execution_count": 3,
   "id": "0dad6edb-642a-4b13-9842-f33c4c3e9eac",
   "metadata": {},
   "outputs": [
    {
     "name": "stdout",
     "output_type": "stream",
     "text": [
      "!dlroW ,olleH"
     ]
    }
   ],
   "source": [
    "# Sample string\n",
    "input_string = \"Hello, World!\"\n",
    "\n",
    "# Iterate through each character in reverse order and print it\n",
    "for char in reversed(input_string):\n",
    "    print(char, end='')"
   ]
  },
  {
   "cell_type": "code",
   "execution_count": 4,
   "id": "74a00c44-200b-4d7f-98b4-221ce9bd3d46",
   "metadata": {},
   "outputs": [
    {
     "name": "stdin",
     "output_type": "stream",
     "text": [
      "Enter a number to calculate its factorial:  5\n"
     ]
    },
    {
     "name": "stdout",
     "output_type": "stream",
     "text": [
      "The factorial of 5 is: 120\n"
     ]
    }
   ],
   "source": [
    "# Function to calculate factorial\n",
    "def calculate_factorial(number):\n",
    "    factorial = 1\n",
    "    for i in range(1, number + 1):\n",
    "        factorial *= i\n",
    "    return factorial\n",
    "\n",
    "# Input: Get a number from the user\n",
    "user_input = int(input(\"Enter a number to calculate its factorial: \"))\n",
    "\n",
    "# Calculate and print the factorial\n",
    "result = calculate_factorial(user_input)\n",
    "print(f\"The factorial of {user_input} is: {result}\")"
   ]
  },
  {
   "cell_type": "code",
   "execution_count": 5,
   "id": "abbb54c7-1fac-4470-8b87-374725dc7b03",
   "metadata": {},
   "outputs": [
    {
     "name": "stdin",
     "output_type": "stream",
     "text": [
      "Enter a number to print its multiplication table:  7\n"
     ]
    },
    {
     "name": "stdout",
     "output_type": "stream",
     "text": [
      "Multiplication table for 7:\n",
      "7 x 1 = 7\n",
      "7 x 2 = 14\n",
      "7 x 3 = 21\n",
      "7 x 4 = 28\n",
      "7 x 5 = 35\n",
      "7 x 6 = 42\n",
      "7 x 7 = 49\n",
      "7 x 8 = 56\n",
      "7 x 9 = 63\n",
      "7 x 10 = 70\n"
     ]
    }
   ],
   "source": [
    "# Function to print multiplication table\n",
    "def print_multiplication_table(number):\n",
    "    print(f\"Multiplication table for {number}:\")\n",
    "    for i in range(1, 11):\n",
    "        result = number * i\n",
    "        print(f\"{number} x {i} = {result}\")\n",
    "\n",
    "# Input: Get a number from the user\n",
    "user_input = int(input(\"Enter a number to print its multiplication table: \"))\n",
    "\n",
    "# Call the function to print the multiplication table\n",
    "print_multiplication_table(user_input)"
   ]
  },
  {
   "cell_type": "code",
   "execution_count": 6,
   "id": "15ed2e9e-5795-4706-b10e-912136c1fb8c",
   "metadata": {},
   "outputs": [
    {
     "name": "stdout",
     "output_type": "stream",
     "text": [
      "Number of even numbers: 5\n",
      "Number of odd numbers: 5\n"
     ]
    }
   ],
   "source": [
    "# Sample list of numbers\n",
    "numbers = [1, 2, 3, 4, 5, 6, 7, 8, 9, 10]\n",
    "\n",
    "# Initialize counters for even and odd numbers\n",
    "even_count = 0\n",
    "odd_count = 0\n",
    "\n",
    "# Loop through each number in the list and count even and odd numbers\n",
    "for number in numbers:\n",
    "    if number % 2 == 0:\n",
    "        even_count += 1\n",
    "    else:\n",
    "        odd_count += 1\n",
    "\n",
    "# Print the results\n",
    "print(\"Number of even numbers:\", even_count)\n",
    "print(\"Number of odd numbers:\", odd_count)"
   ]
  },
  {
   "cell_type": "code",
   "execution_count": 7,
   "id": "4ac114cf-19ac-4741-b085-ce1f7f405a88",
   "metadata": {},
   "outputs": [
    {
     "name": "stdout",
     "output_type": "stream",
     "text": [
      "The square of 1 is: 1\n",
      "The square of 2 is: 4\n",
      "The square of 3 is: 9\n",
      "The square of 4 is: 16\n",
      "The square of 5 is: 25\n"
     ]
    }
   ],
   "source": [
    "# Using a for loop to print the squares of numbers from 1 to 5\n",
    "for number in range(1, 6):\n",
    "    square = number ** 2\n",
    "    print(f\"The square of {number} is: {square}\")"
   ]
  },
  {
   "cell_type": "code",
   "execution_count": 8,
   "id": "90f9a04c-94bf-4007-b809-272a1ec7e117",
   "metadata": {},
   "outputs": [
    {
     "name": "stdin",
     "output_type": "stream",
     "text": [
      "Enter a string:  deepali\n"
     ]
    },
    {
     "name": "stdout",
     "output_type": "stream",
     "text": [
      "The length of the string is: 7\n"
     ]
    }
   ],
   "source": [
    "# Function to calculate the length of a string\n",
    "def calculate_string_length(input_string):\n",
    "    length = 0\n",
    "    for char in input_string:\n",
    "        length += 1\n",
    "    return length\n",
    "\n",
    "# Input: Get a string from the user\n",
    "user_input = input(\"Enter a string: \")\n",
    "\n",
    "# Calculate and print the length of the string\n",
    "result = calculate_string_length(user_input)\n",
    "print(f\"The length of the string is: {result}\")"
   ]
  },
  {
   "cell_type": "code",
   "execution_count": 9,
   "id": "9123e205-4fcf-4362-9321-b8fc0f5d7712",
   "metadata": {},
   "outputs": [
    {
     "name": "stdout",
     "output_type": "stream",
     "text": [
      "The average of the numbers is: 15.0\n"
     ]
    }
   ],
   "source": [
    "# Function to calculate the average of a list of numbers\n",
    "def calculate_average(number_list):\n",
    "    total_sum = 0\n",
    "    count = 0\n",
    "\n",
    "    for number in number_list:\n",
    "        total_sum += number\n",
    "        count += 1\n",
    "\n",
    "    # Avoid division by zero\n",
    "    if count == 0:\n",
    "        return 0\n",
    "\n",
    "    average = total_sum / count\n",
    "    return average\n",
    "\n",
    "# Sample list of numbers\n",
    "numbers = [5, 10, 15, 20, 25]\n",
    "\n",
    "# Calculate and print the average\n",
    "result = calculate_average(numbers)\n",
    "print(f\"The average of the numbers is: {result}\")\n"
   ]
  },
  {
   "cell_type": "code",
   "execution_count": 10,
   "id": "fb8609b5-414c-469f-baec-ce1dfe30b87b",
   "metadata": {},
   "outputs": [
    {
     "name": "stdin",
     "output_type": "stream",
     "text": [
      "Enter the value of n:  4\n"
     ]
    },
    {
     "name": "stdout",
     "output_type": "stream",
     "text": [
      "The first 4 Fibonacci numbers are: [0, 1, 1, 2]\n"
     ]
    }
   ],
   "source": [
    "# Function to generate and print the first n Fibonacci numbers\n",
    "def print_fibonacci_numbers(n):\n",
    "    fib_numbers = [0, 1]\n",
    "\n",
    "    for _ in range(2, n):\n",
    "        next_fibonacci = fib_numbers[-1] + fib_numbers[-2]\n",
    "        fib_numbers.append(next_fibonacci)\n",
    "\n",
    "    print(f\"The first {n} Fibonacci numbers are: {fib_numbers}\")\n",
    "\n",
    "# Input: Get the value of n from the user\n",
    "n = int(input(\"Enter the value of n: \"))\n",
    "\n",
    "# Call the function to print the Fibonacci numbers\n",
    "print_fibonacci_numbers(n)"
   ]
  },
  {
   "cell_type": "code",
   "execution_count": 11,
   "id": "4367f22f-6bf6-49ab-acac-fff50e98a26c",
   "metadata": {},
   "outputs": [
    {
     "name": "stdout",
     "output_type": "stream",
     "text": [
      "The list does not contain duplicates.\n"
     ]
    }
   ],
   "source": [
    "# Function to check for duplicates in a list\n",
    "def has_duplicates(input_list):\n",
    "    seen = set()\n",
    "\n",
    "    for item in input_list:\n",
    "        if item in seen:\n",
    "            return True\n",
    "        seen.add(item)\n",
    "\n",
    "    return False\n",
    "\n",
    "# Sample list of numbers\n",
    "numbers = [1, 2, 3, 4, 5, 6, 7, 8, 9, 10]\n",
    "\n",
    "# Check for duplicates and print the result\n",
    "result = has_duplicates(numbers)\n",
    "\n",
    "if result:\n",
    "    print(\"The list contains duplicates.\")\n",
    "else:\n",
    "    print(\"The list does not contain duplicates.\")"
   ]
  },
  {
   "cell_type": "code",
   "execution_count": 12,
   "id": "746c719d-a0ea-46ca-93c6-253d0101832b",
   "metadata": {},
   "outputs": [
    {
     "name": "stdin",
     "output_type": "stream",
     "text": [
      "Enter the starting range:  6\n",
      "Enter the ending range:  12\n"
     ]
    },
    {
     "name": "stdout",
     "output_type": "stream",
     "text": [
      "Prime numbers in the range 6 to 12:\n",
      "7\n",
      "11\n"
     ]
    }
   ],
   "source": [
    "# Function to check if a number is prime\n",
    "def is_prime(num):\n",
    "    if num < 2:\n",
    "        return False\n",
    "    for i in range(2, int(num**0.5) + 1):\n",
    "        if num % i == 0:\n",
    "            return False\n",
    "    return True\n",
    "\n",
    "# Function to print prime numbers in a given range\n",
    "def print_primes_in_range(start, end):\n",
    "    print(f\"Prime numbers in the range {start} to {end}:\")\n",
    "    for number in range(start, end + 1):\n",
    "        if is_prime(number):\n",
    "            print(number)\n",
    "\n",
    "# Input: Get the range from the user\n",
    "start_range = int(input(\"Enter the starting range: \"))\n",
    "end_range = int(input(\"Enter the ending range: \"))\n",
    "\n",
    "# Call the function to print prime numbers in the given range\n",
    "print_primes_in_range(start_range, end_range)"
   ]
  },
  {
   "cell_type": "code",
   "execution_count": 13,
   "id": "36e1a6f1-81d9-4df3-a032-ee1881e27327",
   "metadata": {},
   "outputs": [
    {
     "name": "stdin",
     "output_type": "stream",
     "text": [
      "Enter a string:  Deepali Shedge\n"
     ]
    },
    {
     "name": "stdout",
     "output_type": "stream",
     "text": [
      "The number of vowels in the string is: 6\n"
     ]
    }
   ],
   "source": [
    "# Function to count vowels in a string\n",
    "def count_vowels(input_string):\n",
    "    vowels = \"aeiouAEIOU\"\n",
    "    vowel_count = 0\n",
    "\n",
    "    for char in input_string:\n",
    "        if char in vowels:\n",
    "            vowel_count += 1\n",
    "\n",
    "    return vowel_count\n",
    "\n",
    "# Input: Get a string from the user\n",
    "user_input = input(\"Enter a string: \")\n",
    "\n",
    "# Call the function to count vowels and print the result\n",
    "result = count_vowels(user_input)\n",
    "print(f\"The number of vowels in the string is: {result}\")"
   ]
  },
  {
   "cell_type": "code",
   "execution_count": 14,
   "id": "e1bf5e0d-9555-4b24-8309-cef527512a60",
   "metadata": {},
   "outputs": [
    {
     "name": "stdout",
     "output_type": "stream",
     "text": [
      "The maximum element in the 2D list is: 9\n"
     ]
    }
   ],
   "source": [
    "# Function to find the maximum element in a 2D list\n",
    "def find_max_element(matrix):\n",
    "    max_element = float('-inf')\n",
    "\n",
    "    for row in matrix:\n",
    "        for element in row:\n",
    "            if element > max_element:\n",
    "                max_element = element\n",
    "\n",
    "    return max_element\n",
    "\n",
    "# Sample 2D list\n",
    "matrix = [\n",
    "    [3, 7, 2],\n",
    "    [1, 8, 4],\n",
    "    [9, 5, 6]\n",
    "]\n",
    "\n",
    "# Call the function to find the maximum element\n",
    "result = find_max_element(matrix)\n",
    "print(f\"The maximum element in the 2D list is: {result}\")"
   ]
  },
  {
   "cell_type": "code",
   "execution_count": 15,
   "id": "76f0bc2e-327f-4db7-a3ac-18d05857bc91",
   "metadata": {},
   "outputs": [
    {
     "name": "stdin",
     "output_type": "stream",
     "text": [
      "Enter the element to remove:  2\n"
     ]
    },
    {
     "name": "stdout",
     "output_type": "stream",
     "text": [
      "The list after removing all occurrences of 2: [1, 3, 4, 5, 6]\n"
     ]
    }
   ],
   "source": [
    "# Function to remove all occurrences of a specific element from a list\n",
    "def remove_element(lst, element_to_remove):\n",
    "    updated_list = [item for item in lst if item != element_to_remove]\n",
    "    return updated_list\n",
    "\n",
    "# Sample list\n",
    "my_list = [1, 2, 3, 4, 2, 5, 2, 6]\n",
    "\n",
    "# Input: Get the element to remove from the user\n",
    "element_to_remove = int(input(\"Enter the element to remove: \"))\n",
    "\n",
    "# Call the function to remove all occurrences of the element\n",
    "updated_list = remove_element(my_list, element_to_remove)\n",
    "\n",
    "# Print the updated list\n",
    "print(f\"The list after removing all occurrences of {element_to_remove}: {updated_list}\")"
   ]
  },
  {
   "cell_type": "code",
   "execution_count": 16,
   "id": "29a1ddcb-defa-4e02-ba37-f5a846e51ce6",
   "metadata": {},
   "outputs": [
    {
     "name": "stdout",
     "output_type": "stream",
     "text": [
      "\n",
      "Multiplication table for 1:\n",
      "1 x 1 = 1\n",
      "1 x 2 = 2\n",
      "1 x 3 = 3\n",
      "1 x 4 = 4\n",
      "1 x 5 = 5\n",
      "1 x 6 = 6\n",
      "1 x 7 = 7\n",
      "1 x 8 = 8\n",
      "1 x 9 = 9\n",
      "1 x 10 = 10\n",
      "\n",
      "Multiplication table for 2:\n",
      "2 x 1 = 2\n",
      "2 x 2 = 4\n",
      "2 x 3 = 6\n",
      "2 x 4 = 8\n",
      "2 x 5 = 10\n",
      "2 x 6 = 12\n",
      "2 x 7 = 14\n",
      "2 x 8 = 16\n",
      "2 x 9 = 18\n",
      "2 x 10 = 20\n",
      "\n",
      "Multiplication table for 3:\n",
      "3 x 1 = 3\n",
      "3 x 2 = 6\n",
      "3 x 3 = 9\n",
      "3 x 4 = 12\n",
      "3 x 5 = 15\n",
      "3 x 6 = 18\n",
      "3 x 7 = 21\n",
      "3 x 8 = 24\n",
      "3 x 9 = 27\n",
      "3 x 10 = 30\n",
      "\n",
      "Multiplication table for 4:\n",
      "4 x 1 = 4\n",
      "4 x 2 = 8\n",
      "4 x 3 = 12\n",
      "4 x 4 = 16\n",
      "4 x 5 = 20\n",
      "4 x 6 = 24\n",
      "4 x 7 = 28\n",
      "4 x 8 = 32\n",
      "4 x 9 = 36\n",
      "4 x 10 = 40\n",
      "\n",
      "Multiplication table for 5:\n",
      "5 x 1 = 5\n",
      "5 x 2 = 10\n",
      "5 x 3 = 15\n",
      "5 x 4 = 20\n",
      "5 x 5 = 25\n",
      "5 x 6 = 30\n",
      "5 x 7 = 35\n",
      "5 x 8 = 40\n",
      "5 x 9 = 45\n",
      "5 x 10 = 50\n"
     ]
    }
   ],
   "source": [
    "# Function to generate a multiplication table\n",
    "def generate_multiplication_table():\n",
    "    for i in range(1, 6):\n",
    "        print(f\"\\nMultiplication table for {i}:\")\n",
    "        for j in range(1, 11):\n",
    "            result = i * j\n",
    "            print(f\"{i} x {j} = {result}\")\n",
    "\n",
    "# Call the function to generate the multiplication table\n",
    "generate_multiplication_table()"
   ]
  },
  {
   "cell_type": "code",
   "execution_count": 17,
   "id": "48275357-772b-4bff-b355-3f6599d12935",
   "metadata": {},
   "outputs": [
    {
     "name": "stdout",
     "output_type": "stream",
     "text": [
      "Fahrenheit temperatures: [32, 68, 86, 104, 212]\n",
      "Celsius temperatures: [0.0, 20.0, 30.0, 40.0, 100.0]\n"
     ]
    }
   ],
   "source": [
    "# Function to convert Fahrenheit to Celsius\n",
    "def fahrenheit_to_celsius(fahrenheit):\n",
    "    return (fahrenheit - 32) * 5/9\n",
    "\n",
    "# Sample list of Fahrenheit temperatures\n",
    "fahrenheit_temperatures = [32, 68, 86, 104, 212]\n",
    "\n",
    "# Convert temperatures and store in a new list\n",
    "celsius_temperatures = [fahrenheit_to_celsius(temp) for temp in fahrenheit_temperatures]\n",
    "\n",
    "# Print the converted temperatures\n",
    "print(\"Fahrenheit temperatures:\", fahrenheit_temperatures)\n",
    "print(\"Celsius temperatures:\", celsius_temperatures)"
   ]
  },
  {
   "cell_type": "code",
   "execution_count": 18,
   "id": "d8107048-3c7d-418c-9801-e361bcc45f2c",
   "metadata": {},
   "outputs": [
    {
     "name": "stdout",
     "output_type": "stream",
     "text": [
      "Common elements: [3, 4, 5]\n"
     ]
    }
   ],
   "source": [
    "# Function to find common elements in two lists\n",
    "def find_common_elements(list1, list2):\n",
    "    common_elements = []\n",
    "\n",
    "    for element in list1:\n",
    "        if element in list2 and element not in common_elements:\n",
    "            common_elements.append(element)\n",
    "\n",
    "    return common_elements\n",
    "\n",
    "# Sample lists\n",
    "list1 = [1, 2, 3, 4, 5]\n",
    "list2 = [3, 4, 5, 6, 7]\n",
    "\n",
    "# Call the function to find and print common elements\n",
    "common_elements = find_common_elements(list1, list2)\n",
    "print(\"Common elements:\", common_elements)"
   ]
  },
  {
   "cell_type": "code",
   "execution_count": 19,
   "id": "1d48fc89-a995-4428-90bd-66b6eb7e4c78",
   "metadata": {},
   "outputs": [
    {
     "name": "stdin",
     "output_type": "stream",
     "text": [
      "Enter the number of rows for the right-angled triangle pattern:  3\n"
     ]
    },
    {
     "name": "stdout",
     "output_type": "stream",
     "text": [
      "* \n",
      "* * \n",
      "* * * \n"
     ]
    }
   ],
   "source": [
    "# Function to print a right-angled triangle pattern\n",
    "def print_right_triangle_pattern(rows):\n",
    "    for i in range(1, rows + 1):\n",
    "        for j in range(1, i + 1):\n",
    "            print('*', end=' ')\n",
    "        print()\n",
    "\n",
    "# Input: Get the number of rows from the user\n",
    "num_rows = int(input(\"Enter the number of rows for the right-angled triangle pattern: \"))\n",
    "\n",
    "# Call the function to print the pattern\n",
    "print_right_triangle_pattern(num_rows)"
   ]
  },
  {
   "cell_type": "code",
   "execution_count": 20,
   "id": "639b9616-5790-4487-9f6f-220395b5b6db",
   "metadata": {},
   "outputs": [
    {
     "name": "stdin",
     "output_type": "stream",
     "text": [
      "Enter the first number:  4\n",
      "Enter the second number:  9\n"
     ]
    },
    {
     "name": "stdout",
     "output_type": "stream",
     "text": [
      "The GCD of 4 and 9 is: 1\n"
     ]
    }
   ],
   "source": [
    "# Function to calculate the GCD of two numbers\n",
    "def calculate_gcd(num1, num2):\n",
    "    # Ensure num1 is greater than or equal to num2\n",
    "    if num1 < num2:\n",
    "        num1, num2 = num2, num1\n",
    "\n",
    "    for i in range(num2, 0, -1):\n",
    "        if num1 % i == 0 and num2 % i == 0:\n",
    "            return i\n",
    "\n",
    "# Input: Get two numbers from the user\n",
    "num1 = int(input(\"Enter the first number: \"))\n",
    "num2 = int(input(\"Enter the second number: \"))\n",
    "\n",
    "# Call the function to calculate and print the GCD\n",
    "result = calculate_gcd(num1, num2)\n",
    "print(f\"The GCD of {num1} and {num2} is: {result}\")"
   ]
  },
  {
   "cell_type": "code",
   "execution_count": 21,
   "id": "07290705-a427-4aef-a485-9348e86eba2c",
   "metadata": {},
   "outputs": [
    {
     "name": "stdout",
     "output_type": "stream",
     "text": [
      "Original list of numbers: [123, 456, 789, 12, 34]\n",
      "Sums of digits for each number: [6, 15, 24, 3, 7]\n"
     ]
    }
   ],
   "source": [
    "# Function to calculate the sum of digits in a number\n",
    "def sum_of_digits(number):\n",
    "    return sum(int(digit) for digit in str(number))\n",
    "\n",
    "# Sample list of numbers\n",
    "numbers = [123, 456, 789, 12, 34]\n",
    "\n",
    "# Using list comprehension to calculate the sum of digits for each number\n",
    "sums_of_digits = [sum_of_digits(num) for num in numbers]\n",
    "\n",
    "# Print the original list and the corresponding sums of digits\n",
    "print(\"Original list of numbers:\", numbers)\n",
    "print(\"Sums of digits for each number:\", sums_of_digits)"
   ]
  },
  {
   "cell_type": "code",
   "execution_count": 1,
   "id": "c014969b-94a4-43bc-b891-89e4802b85fb",
   "metadata": {},
   "outputs": [
    {
     "name": "stdin",
     "output_type": "stream",
     "text": [
      "Enter a number:  9\n"
     ]
    },
    {
     "name": "stdout",
     "output_type": "stream",
     "text": [
      "Prime factors of 9: [3]\n"
     ]
    }
   ],
   "source": [
    "def find_prime_factors(number):\n",
    "    prime_factors = [factor for factor in range(2, number + 1) if number % factor == 0 and all(factor % i != 0 for i in range(2, int(factor**0.5) + 1))]\n",
    "    return prime_factors\n",
    "\n",
    "# Input: The number for which you want to find prime factors\n",
    "input_number = int(input(\"Enter a number: \"))\n",
    "\n",
    "# Find and print the prime factors of the input number\n",
    "result = find_prime_factors(input_number)\n",
    "print(f\"Prime factors of {input_number}: {result}\")"
   ]
  },
  {
   "cell_type": "code",
   "execution_count": 2,
   "id": "e8cb6284-0c25-4db9-bcc1-4a03a905c744",
   "metadata": {},
   "outputs": [
    {
     "name": "stdin",
     "output_type": "stream",
     "text": [
      "Enter elements separated by space:   2 3 5 2 8 0 4 7 8 4 5\n"
     ]
    },
    {
     "name": "stdout",
     "output_type": "stream",
     "text": [
      "Unique elements: [2, 3, 5, 8, 0, 4, 7]\n"
     ]
    }
   ],
   "source": [
    "def extract_unique_elements(input_list):\n",
    "    unique_elements = [element for index, element in enumerate(input_list) if element not in input_list[:index]]\n",
    "    return unique_elements\n",
    "\n",
    "# Input: A list containing elements\n",
    "input_list = input(\"Enter elements separated by space: \").split()\n",
    "\n",
    "# Convert input elements to the appropriate data type (e.g., integers)\n",
    "input_list = [int(element) for element in input_list]\n",
    "\n",
    "# Extract and print the unique elements from the input list\n",
    "result = extract_unique_elements(input_list)\n",
    "print(f\"Unique elements: {result}\")"
   ]
  },
  {
   "cell_type": "code",
   "execution_count": 6,
   "id": "3d492dca-fdfb-4a28-bb20-fa93fba4fada",
   "metadata": {},
   "outputs": [
    {
     "name": "stdin",
     "output_type": "stream",
     "text": [
      "Enter the upper limit:  100\n"
     ]
    },
    {
     "name": "stdout",
     "output_type": "stream",
     "text": [
      "Palindromic numbers up to 100: [0, 1, 2, 3, 4, 5, 6, 7, 8, 9, 11, 22, 33, 44, 55, 66, 77, 88, 99]\n"
     ]
    }
   ],
   "source": [
    "def is_palindrome(number):\n",
    "    return str(number) == str(number)[::-1]\n",
    "\n",
    "def generate_palindromic_numbers(limit):\n",
    "    palindromic_numbers = [num for num in range(limit + 1) if is_palindrome(num)]\n",
    "    return palindromic_numbers\n",
    "\n",
    "# Input: The upper limit for generating palindromic numbers\n",
    "limit = int(input(\"Enter the upper limit: \"))\n",
    "\n",
    "# Generate and print the list of palindromic numbers up to the specified limit\n",
    "result = generate_palindromic_numbers(limit)\n",
    "print(f\"Palindromic numbers up to {limit}: {result}\")"
   ]
  },
  {
   "cell_type": "code",
   "execution_count": 9,
   "id": "b94561eb-900e-4a47-8567-4388bc2f0bb8",
   "metadata": {},
   "outputs": [
    {
     "name": "stdin",
     "output_type": "stream",
     "text": [
      "Enter a nested list:  [[1, 2, [3, 4]], [5, [6, 7]], 8, [9, 10]]\n"
     ]
    },
    {
     "name": "stdout",
     "output_type": "stream",
     "text": [
      "Flattened list: [1, 2, 3, 4, 5, 6, 7, 8, 9, 10]\n"
     ]
    }
   ],
   "source": [
    "def flatten_nested_list(nested_list):\n",
    "    flattened_list = [item for sublist in nested_list for item in (flatten_nested_list(sublist) if isinstance(sublist, list) else [sublist])]\n",
    "    return flattened_list\n",
    "\n",
    "# Input: A nested list\n",
    "nested_list = eval(input(\"Enter a nested list: \"))  # Using eval to convert input string to a nested list\n",
    "\n",
    "# Flatten the nested list and print the result\n",
    "result = flatten_nested_list(nested_list)\n",
    "print(f\"Flattened list: {result}\")"
   ]
  },
  {
   "cell_type": "code",
   "execution_count": 10,
   "id": "a334b3cb-71f1-47a7-be4c-9d99c22ef143",
   "metadata": {},
   "outputs": [
    {
     "name": "stdin",
     "output_type": "stream",
     "text": [
      "Enter numbers separated by space:  3 4 5 90 100 33 77 25\n"
     ]
    },
    {
     "name": "stdout",
     "output_type": "stream",
     "text": [
      "Sum of even numbers: 194\n",
      "Sum of odd numbers: 143\n"
     ]
    }
   ],
   "source": [
    "def sum_even_odd_numbers(input_list):\n",
    "    even_sum = sum(num for num in input_list if num % 2 == 0)\n",
    "    odd_sum = sum(num for num in input_list if num % 2 != 0)\n",
    "    return even_sum, odd_sum\n",
    "\n",
    "# Input: A list of numbers\n",
    "input_list = [int(x) for x in input(\"Enter numbers separated by space: \").split()]\n",
    "\n",
    "# Compute and print the sum of even and odd numbers separately\n",
    "even_sum, odd_sum = sum_even_odd_numbers(input_list)\n",
    "print(f\"Sum of even numbers: {even_sum}\")\n",
    "print(f\"Sum of odd numbers: {odd_sum}\")"
   ]
  },
  {
   "cell_type": "code",
   "execution_count": 11,
   "id": "795a6476-d8a7-46b0-a187-7b1b9b024819",
   "metadata": {},
   "outputs": [
    {
     "name": "stdout",
     "output_type": "stream",
     "text": [
      "Squares of odd numbers between 1 and 10: [1, 9, 25, 49, 81]\n"
     ]
    }
   ],
   "source": [
    "# Generate a list of squares of odd numbers between 1 and 10\n",
    "squares_of_odd_numbers = [num**2 for num in range(1, 11) if num % 2 != 0]\n",
    "\n",
    "# Print the result\n",
    "print(f\"Squares of odd numbers between 1 and 10: {squares_of_odd_numbers}\")"
   ]
  },
  {
   "cell_type": "code",
   "execution_count": 12,
   "id": "65643cb8-b5ac-4c97-b80d-c07e29905991",
   "metadata": {},
   "outputs": [
    {
     "name": "stdin",
     "output_type": "stream",
     "text": [
      "Enter keys separated by space:  3 4 1 2 \n",
      "Enter values separated by space:  33 8 77 33\n"
     ]
    },
    {
     "name": "stdout",
     "output_type": "stream",
     "text": [
      "Combined dictionary: {'3': '33', '4': '8', '1': '77', '2': '33'}\n"
     ]
    }
   ],
   "source": [
    "# Input: Two lists, one for keys and one for values\n",
    "keys = input(\"Enter keys separated by space: \").split()\n",
    "values = input(\"Enter values separated by space: \").split()\n",
    "\n",
    "# Create a dictionary using list comprehension\n",
    "combined_dict = {keys[i]: values[i] for i in range(min(len(keys), len(values)))}\n",
    "\n",
    "# Print the resulting dictionary\n",
    "print(\"Combined dictionary:\", combined_dict)"
   ]
  },
  {
   "cell_type": "code",
   "execution_count": 13,
   "id": "5a78444f-f8e6-431f-aeed-c320f6553fce",
   "metadata": {},
   "outputs": [
    {
     "name": "stdin",
     "output_type": "stream",
     "text": [
      "Enter a string:  Deepali shedge\n"
     ]
    },
    {
     "name": "stdout",
     "output_type": "stream",
     "text": [
      "Vowels in the string: ['e', 'e', 'a', 'i', 'e', 'e']\n"
     ]
    }
   ],
   "source": [
    "# Input: A string\n",
    "input_string = input(\"Enter a string: \")\n",
    "\n",
    "# Extract vowels using list comprehension\n",
    "vowels = [char for char in input_string if char.lower() in 'aeiou']\n",
    "\n",
    "# Print the resulting list of vowels\n",
    "print(\"Vowels in the string:\", vowels)"
   ]
  },
  {
   "cell_type": "code",
   "execution_count": 15,
   "id": "ab870151-68b4-4ef3-88d2-7b2117244ad5",
   "metadata": {},
   "outputs": [
    {
     "name": "stdin",
     "output_type": "stream",
     "text": [
      "Enter strings separated by space:  Deepali 29 Nov 2023 Today 18 Jan 2024\n"
     ]
    },
    {
     "name": "stdout",
     "output_type": "stream",
     "text": [
      "Strings with only numeric characters: ['', '29', '', '2023', '', '18', '', '2024']\n"
     ]
    }
   ],
   "source": [
    "# Input: A list of strings\n",
    "input_list = input(\"Enter strings separated by space: \").split()\n",
    "\n",
    "# Remove non-numeric characters using list comprehension\n",
    "numeric_strings = [''.join(char for char in string if char.isnumeric()) for string in input_list]\n",
    "\n",
    "# Print the resulting list of strings with only numeric characters\n",
    "print(\"Strings with only numeric characters:\", numeric_strings)"
   ]
  },
  {
   "cell_type": "code",
   "execution_count": 18,
   "id": "70c7e4b6-9ded-4a40-a0a1-eed47375774c",
   "metadata": {},
   "outputs": [
    {
     "name": "stdin",
     "output_type": "stream",
     "text": [
      "Enter the upper limit:  100\n"
     ]
    },
    {
     "name": "stdout",
     "output_type": "stream",
     "text": [
      "Prime numbers up to 100: [2, 3, 5, 7, 11, 13, 17, 19, 23, 29, 31, 37, 41, 43, 47, 53, 59, 61, 67, 71, 73, 79, 83, 89, 97]\n"
     ]
    }
   ],
   "source": [
    "def sieve_of_eratosthenes(limit):\n",
    "    primes = [True] * (limit + 1)\n",
    "    primes[0], primes[1] = False, False  # 0 and 1 are not prime numbers\n",
    "\n",
    "    for i in range(2, int(limit**0.5) + 1):\n",
    "        if primes[i]:\n",
    "            primes[i*i : limit+1 : i] = [False] * len(primes[i*i : limit+1 : i])\n",
    "\n",
    "    return [num for num in range(2, limit + 1) if primes[num]]\n",
    "\n",
    "# Input: The upper limit for generating prime numbers\n",
    "limit = int(input(\"Enter the upper limit: \"))\n",
    "\n",
    "# Generate and print the list of prime numbers up to the specified limit\n",
    "result = sieve_of_eratosthenes(limit)\n",
    "print(f\"Prime numbers up to {limit}: {result}\")"
   ]
  },
  {
   "cell_type": "code",
   "execution_count": 20,
   "id": "c697216b-c8ba-4ef3-91d2-37b5e81e198a",
   "metadata": {},
   "outputs": [
    {
     "name": "stdin",
     "output_type": "stream",
     "text": [
      "Enter the upper limit:  10\n"
     ]
    },
    {
     "name": "stdout",
     "output_type": "stream",
     "text": [
      "Pythagorean triplets up to 10: [(3, 4, 5), (6, 8, 10)]\n"
     ]
    }
   ],
   "source": [
    "def generate_pythagorean_triplets(limit):\n",
    "    triplets = [(a, b, c) for a in range(1, limit + 1) for b in range(a, limit + 1) for c in range(b, limit + 1) if a**2 + b**2 == c**2]\n",
    "    return triplets\n",
    "\n",
    "# Input: The upper limit for generating Pythagorean triplets\n",
    "limit = int(input(\"Enter the upper limit: \"))\n",
    "\n",
    "# Generate and print the list of Pythagorean triplets up to the specified limit\n",
    "result = generate_pythagorean_triplets(limit)\n",
    "print(f\"Pythagorean triplets up to {limit}: {result}\")"
   ]
  },
  {
   "cell_type": "code",
   "execution_count": 22,
   "id": "4b34e494-596b-4e8d-9b2b-97fac806b5ce",
   "metadata": {},
   "outputs": [
    {
     "name": "stdin",
     "output_type": "stream",
     "text": [
      "Enter elements for the first list separated by space:   1 2 3\n",
      "Enter elements for the second list separated by space:  22 77 99\n"
     ]
    },
    {
     "name": "stdout",
     "output_type": "stream",
     "text": [
      "All possible combinations of the two lists: [(1, 22), (1, 77), (1, 99), (2, 22), (2, 77), (2, 99), (3, 22), (3, 77), (3, 99)]\n"
     ]
    }
   ],
   "source": [
    "# Input: Two lists\n",
    "list1 = input(\"Enter elements for the first list separated by space: \").split()\n",
    "list2 = input(\"Enter elements for the second list separated by space: \").split()\n",
    "\n",
    "# Convert input elements to the appropriate data type (e.g., integers)\n",
    "list1 = [int(element) for element in list1]\n",
    "list2 = [int(element) for element in list2]\n",
    "\n",
    "# Generate all possible combinations using list comprehension\n",
    "combinations = [(x, y) for x in list1 for y in list2]\n",
    "\n",
    "# Print the resulting list of combinations\n",
    "print(\"All possible combinations of the two lists:\", combinations)"
   ]
  },
  {
   "cell_type": "code",
   "execution_count": 23,
   "id": "9f399da1-e00d-4702-b21e-985d83106da0",
   "metadata": {},
   "outputs": [
    {
     "name": "stdin",
     "output_type": "stream",
     "text": [
      "Enter numbers separated by space:  2 4 5 77 \n"
     ]
    },
    {
     "name": "stdout",
     "output_type": "stream",
     "text": [
      "Mean: 22.0\n",
      "Median: 4.5\n",
      "Mode: 2.0\n"
     ]
    }
   ],
   "source": [
    "from statistics import mean, median, mode\n",
    "\n",
    "# Input: A list of numbers\n",
    "numbers = [float(x) for x in input(\"Enter numbers separated by space: \").split()]\n",
    "\n",
    "# Calculate mean, median, and mode using list comprehension\n",
    "mean_value = mean(numbers)\n",
    "median_value = median(numbers)\n",
    "mode_value = mode(numbers)\n",
    "\n",
    "# Print the calculated mean, median, and mode\n",
    "print(f\"Mean: {mean_value}\")\n",
    "print(f\"Median: {median_value}\")\n",
    "print(f\"Mode: {mode_value}\")"
   ]
  },
  {
   "cell_type": "code",
   "execution_count": 32,
   "id": "a2737eb2-8f1e-4aa9-8ed0-b13eb4c55aae",
   "metadata": {},
   "outputs": [
    {
     "name": "stdin",
     "output_type": "stream",
     "text": [
      "Enter the number of rows for Pascal's Triangle:  4\n"
     ]
    },
    {
     "ename": "NameError",
     "evalue": "free variable 'triangle' referenced before assignment in enclosing scope",
     "output_type": "error",
     "traceback": [
      "\u001b[0;31m---------------------------------------------------------------------------\u001b[0m",
      "\u001b[0;31mNameError\u001b[0m                                 Traceback (most recent call last)",
      "Cell \u001b[0;32mIn[32], line 9\u001b[0m\n\u001b[1;32m      6\u001b[0m num_rows \u001b[38;5;241m=\u001b[39m \u001b[38;5;28mint\u001b[39m(\u001b[38;5;28minput\u001b[39m(\u001b[38;5;124m\"\u001b[39m\u001b[38;5;124mEnter the number of rows for Pascal\u001b[39m\u001b[38;5;124m'\u001b[39m\u001b[38;5;124ms Triangle: \u001b[39m\u001b[38;5;124m\"\u001b[39m))\n\u001b[1;32m      8\u001b[0m \u001b[38;5;66;03m# Generate and print Pascal's Triangle\u001b[39;00m\n\u001b[0;32m----> 9\u001b[0m result \u001b[38;5;241m=\u001b[39m \u001b[43mgenerate_pascals_triangle\u001b[49m\u001b[43m(\u001b[49m\u001b[43mnum_rows\u001b[49m\u001b[43m)\u001b[49m\n\u001b[1;32m     10\u001b[0m \u001b[38;5;28;01mfor\u001b[39;00m row \u001b[38;5;129;01min\u001b[39;00m result:\n\u001b[1;32m     11\u001b[0m     \u001b[38;5;28mprint\u001b[39m(row)\n",
      "Cell \u001b[0;32mIn[32], line 2\u001b[0m, in \u001b[0;36mgenerate_pascals_triangle\u001b[0;34m(num_rows)\u001b[0m\n\u001b[1;32m      1\u001b[0m \u001b[38;5;28;01mdef\u001b[39;00m \u001b[38;5;21mgenerate_pascals_triangle\u001b[39m(num_rows):\n\u001b[0;32m----> 2\u001b[0m     triangle \u001b[38;5;241m=\u001b[39m [[\u001b[38;5;241m1\u001b[39m] \u001b[38;5;28;01mif\u001b[39;00m i \u001b[38;5;241m==\u001b[39m \u001b[38;5;241m0\u001b[39m \u001b[38;5;28;01melse\u001b[39;00m [\u001b[38;5;241m1\u001b[39m] \u001b[38;5;241m+\u001b[39m [triangle[i\u001b[38;5;241m-\u001b[39m\u001b[38;5;241m1\u001b[39m][j\u001b[38;5;241m-\u001b[39m\u001b[38;5;241m1\u001b[39m] \u001b[38;5;241m+\u001b[39m triangle[i\u001b[38;5;241m-\u001b[39m\u001b[38;5;241m1\u001b[39m][j] \u001b[38;5;28;01mfor\u001b[39;00m j \u001b[38;5;129;01min\u001b[39;00m \u001b[38;5;28mrange\u001b[39m(\u001b[38;5;241m1\u001b[39m, i)] \u001b[38;5;241m+\u001b[39m [\u001b[38;5;241m1\u001b[39m] \u001b[38;5;28;01mfor\u001b[39;00m i \u001b[38;5;129;01min\u001b[39;00m \u001b[38;5;28mrange\u001b[39m(num_rows)]\n\u001b[1;32m      3\u001b[0m     \u001b[38;5;28;01mreturn\u001b[39;00m triangle\n",
      "Cell \u001b[0;32mIn[32], line 2\u001b[0m, in \u001b[0;36m<listcomp>\u001b[0;34m(.0)\u001b[0m\n\u001b[1;32m      1\u001b[0m \u001b[38;5;28;01mdef\u001b[39;00m \u001b[38;5;21mgenerate_pascals_triangle\u001b[39m(num_rows):\n\u001b[0;32m----> 2\u001b[0m     triangle \u001b[38;5;241m=\u001b[39m [[\u001b[38;5;241m1\u001b[39m] \u001b[38;5;28;01mif\u001b[39;00m i \u001b[38;5;241m==\u001b[39m \u001b[38;5;241m0\u001b[39m \u001b[38;5;28;01melse\u001b[39;00m [\u001b[38;5;241m1\u001b[39m] \u001b[38;5;241m+\u001b[39m [triangle[i\u001b[38;5;241m-\u001b[39m\u001b[38;5;241m1\u001b[39m][j\u001b[38;5;241m-\u001b[39m\u001b[38;5;241m1\u001b[39m] \u001b[38;5;241m+\u001b[39m triangle[i\u001b[38;5;241m-\u001b[39m\u001b[38;5;241m1\u001b[39m][j] \u001b[38;5;28;01mfor\u001b[39;00m j \u001b[38;5;129;01min\u001b[39;00m \u001b[38;5;28mrange\u001b[39m(\u001b[38;5;241m1\u001b[39m, i)] \u001b[38;5;241m+\u001b[39m [\u001b[38;5;241m1\u001b[39m] \u001b[38;5;28;01mfor\u001b[39;00m i \u001b[38;5;129;01min\u001b[39;00m \u001b[38;5;28mrange\u001b[39m(num_rows)]\n\u001b[1;32m      3\u001b[0m     \u001b[38;5;28;01mreturn\u001b[39;00m triangle\n",
      "Cell \u001b[0;32mIn[32], line 2\u001b[0m, in \u001b[0;36m<listcomp>\u001b[0;34m(.0)\u001b[0m\n\u001b[1;32m      1\u001b[0m \u001b[38;5;28;01mdef\u001b[39;00m \u001b[38;5;21mgenerate_pascals_triangle\u001b[39m(num_rows):\n\u001b[0;32m----> 2\u001b[0m     triangle \u001b[38;5;241m=\u001b[39m [[\u001b[38;5;241m1\u001b[39m] \u001b[38;5;28;01mif\u001b[39;00m i \u001b[38;5;241m==\u001b[39m \u001b[38;5;241m0\u001b[39m \u001b[38;5;28;01melse\u001b[39;00m [\u001b[38;5;241m1\u001b[39m] \u001b[38;5;241m+\u001b[39m [\u001b[43mtriangle\u001b[49m[i\u001b[38;5;241m-\u001b[39m\u001b[38;5;241m1\u001b[39m][j\u001b[38;5;241m-\u001b[39m\u001b[38;5;241m1\u001b[39m] \u001b[38;5;241m+\u001b[39m triangle[i\u001b[38;5;241m-\u001b[39m\u001b[38;5;241m1\u001b[39m][j] \u001b[38;5;28;01mfor\u001b[39;00m j \u001b[38;5;129;01min\u001b[39;00m \u001b[38;5;28mrange\u001b[39m(\u001b[38;5;241m1\u001b[39m, i)] \u001b[38;5;241m+\u001b[39m [\u001b[38;5;241m1\u001b[39m] \u001b[38;5;28;01mfor\u001b[39;00m i \u001b[38;5;129;01min\u001b[39;00m \u001b[38;5;28mrange\u001b[39m(num_rows)]\n\u001b[1;32m      3\u001b[0m     \u001b[38;5;28;01mreturn\u001b[39;00m triangle\n",
      "\u001b[0;31mNameError\u001b[0m: free variable 'triangle' referenced before assignment in enclosing scope"
     ]
    }
   ],
   "source": [
    "def generate_pascals_triangle(num_rows):\n",
    "    triangle = [[1] if i == 0 else [1] + [triangle[i-1][j-1] + triangle[i-1][j] for j in range(1, i)] + [1] for i in range(num_rows)]\n",
    "    return triangle\n",
    "\n",
    "# Input: Number of rows for Pascal's Triangle\n",
    "num_rows = int(input(\"Enter the number of rows for Pascal's Triangle: \"))\n",
    "\n",
    "# Generate and print Pascal's Triangle\n",
    "result = generate_pascals_triangle(num_rows)\n",
    "for row in result:\n",
    "    print(row)"
   ]
  },
  {
   "cell_type": "code",
   "execution_count": 33,
   "id": "efcb10c3-d3a6-4e29-9c8a-c2d17b2f4f3c",
   "metadata": {},
   "outputs": [
    {
     "name": "stdout",
     "output_type": "stream",
     "text": [
      "Sum of digits of 1! : 1\n",
      "Sum of digits of 2! : 2\n",
      "Sum of digits of 3! : 6\n",
      "Sum of digits of 4! : 6\n",
      "Sum of digits of 5! : 3\n"
     ]
    }
   ],
   "source": [
    "from math import factorial\n",
    "\n",
    "# Calculate the sum of digits of the factorial for numbers from 1 to 5 using list comprehension\n",
    "sums_of_digits = [sum(int(digit) for digit in str(factorial(num))) for num in range(1, 6)]\n",
    "\n",
    "# Print the results\n",
    "for num, digit_sum in zip(range(1, 6), sums_of_digits):\n",
    "    print(f\"Sum of digits of {num}! : {digit_sum}\")"
   ]
  },
  {
   "cell_type": "code",
   "execution_count": 35,
   "id": "02f7cad8-c3c7-4704-a739-e2ec6e10bf62",
   "metadata": {},
   "outputs": [
    {
     "name": "stdin",
     "output_type": "stream",
     "text": [
      "Enter a sentence:  Deepali Shedge BE ComputerSciecne Engg\n"
     ]
    },
    {
     "name": "stdout",
     "output_type": "stream",
     "text": [
      "The longest word in the sentence is: ComputerSciecne\n"
     ]
    }
   ],
   "source": [
    "# Input: A sentence\n",
    "sentence = input(\"Enter a sentence: \")\n",
    "\n",
    "# Find the longest word using list comprehension\n",
    "longest_word = max((word.strip(\".,?!\") for word in sentence.split()), key=len)\n",
    "\n",
    "# Print the result\n",
    "print(f\"The longest word in the sentence is: {longest_word}\")"
   ]
  },
  {
   "cell_type": "code",
   "execution_count": 36,
   "id": "da46bacd-7257-4faf-8c68-80a79f413f18",
   "metadata": {},
   "outputs": [
    {
     "name": "stdin",
     "output_type": "stream",
     "text": [
      "Enter strings separated by space:  Deepali Shedge BE Computer Sciecne\n"
     ]
    },
    {
     "name": "stdout",
     "output_type": "stream",
     "text": [
      "Strings with more than three vowels: ['Deepali']\n"
     ]
    }
   ],
   "source": [
    "# Input: A list of strings\n",
    "string_list = input(\"Enter strings separated by space: \").split()\n",
    "\n",
    "# Define a function to count vowels in a string\n",
    "def count_vowels(s):\n",
    "    return sum(1 for char in s.lower() if char in 'aeiou')\n",
    "\n",
    "# Filter strings with more than three vowels using list comprehension\n",
    "filtered_strings = [string for string in string_list if count_vowels(string) > 3]\n",
    "\n",
    "# Print the resulting list of strings\n",
    "print(\"Strings with more than three vowels:\", filtered_strings)"
   ]
  },
  {
   "cell_type": "code",
   "execution_count": 37,
   "id": "9791ef10-014f-48ea-9aad-b09599b13fa4",
   "metadata": {},
   "outputs": [
    {
     "name": "stdout",
     "output_type": "stream",
     "text": [
      "The sum of digits for numbers from 1 to 1000 is: 13501\n"
     ]
    }
   ],
   "source": [
    "# Calculate the sum of digits for numbers from 1 to 1000 using list comprehension\n",
    "sums_of_digits = [sum(int(digit) for digit in str(num)) for num in range(1, 1001)]\n",
    "\n",
    "# Print the result\n",
    "total_sum = sum(sums_of_digits)\n",
    "print(f\"The sum of digits for numbers from 1 to 1000 is: {total_sum}\")"
   ]
  },
  {
   "cell_type": "code",
   "execution_count": 38,
   "id": "fbab8f8c-ae90-46f2-9f2a-1fa4a2cc1930",
   "metadata": {},
   "outputs": [
    {
     "name": "stdout",
     "output_type": "stream",
     "text": [
      "Prime palindromic numbers up to 1000: [2, 3, 5, 7, 11, 101, 131, 151, 181, 191, 313, 353, 373, 383, 727, 757, 787, 797, 919, 929]\n"
     ]
    }
   ],
   "source": [
    "def is_prime(num):\n",
    "    if num < 2:\n",
    "        return False\n",
    "    for i in range(2, int(num**0.5) + 1):\n",
    "        if num % i == 0:\n",
    "            return False\n",
    "    return True\n",
    "\n",
    "def is_palindrome(num):\n",
    "    return str(num) == str(num)[::-1]\n",
    "\n",
    "# Generate a list of prime palindromic numbers using list comprehension\n",
    "prime_palindromes = [num for num in range(1, 1000) if is_prime(num) and is_palindrome(num)]\n",
    "\n",
    "# Print the resulting list\n",
    "print(\"Prime palindromic numbers up to 1000:\", prime_palindromes)"
   ]
  },
  {
   "cell_type": "code",
   "execution_count": null,
   "id": "3fa9e57e-f0af-476a-931f-b4124e791dc5",
   "metadata": {},
   "outputs": [],
   "source": []
  }
 ],
 "metadata": {
  "kernelspec": {
   "display_name": "Python 3 (ipykernel)",
   "language": "python",
   "name": "python3"
  },
  "language_info": {
   "codemirror_mode": {
    "name": "ipython",
    "version": 3
   },
   "file_extension": ".py",
   "mimetype": "text/x-python",
   "name": "python",
   "nbconvert_exporter": "python",
   "pygments_lexer": "ipython3",
   "version": "3.10.8"
  }
 },
 "nbformat": 4,
 "nbformat_minor": 5
}
