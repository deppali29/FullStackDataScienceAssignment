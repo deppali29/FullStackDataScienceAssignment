{
 "cells": [
  {
   "cell_type": "code",
   "execution_count": 1,
   "id": "e3dfe56c-926e-46f6-ac48-bc6a99c8e78c",
   "metadata": {},
   "outputs": [
    {
     "ename": "SyntaxError",
     "evalue": "unterminated string literal (detected at line 1) (2140104992.py, line 1)",
     "output_type": "error",
     "traceback": [
      "\u001b[0;36m  Cell \u001b[0;32mIn[1], line 1\u001b[0;36m\u001b[0m\n\u001b[0;31m    A constructor in Python is a special method used for initializing newly created objects. It is automatically called when a new instance of a class is created. The purpose of a constructor is to set up initial values for the object's attributes or perform any necessary setup tasks.\u001b[0m\n\u001b[0m                                                                                                                                                                                                                                          ^\u001b[0m\n\u001b[0;31mSyntaxError\u001b[0m\u001b[0;31m:\u001b[0m unterminated string literal (detected at line 1)\n"
     ]
    }
   ],
   "source": [
    "A constructor in Python is a special method used for initializing newly created objects. \n",
    "It is automatically called when a new instance of a class is created. The purpose of a constructor \n",
    "is to set up initial values for the object's attributes or perform any necessary setup tasks."
   ]
  },
  {
   "cell_type": "code",
   "execution_count": null,
   "id": "5eedbbba-d200-4273-907d-84154da3fd8f",
   "metadata": {},
   "outputs": [],
   "source": [
    "In Python, a parameterless constructor doesn't take any arguments, whereas a parameterized constructor \n",
    "accepts one or more parameters to initialize the object's attributes with specific values."
   ]
  },
  {
   "cell_type": "code",
   "execution_count": 2,
   "id": "32d5f271-54ad-478f-87aa-f13161cf2114",
   "metadata": {},
   "outputs": [],
   "source": [
    "class MyClass:\n",
    "    def __init__(self, parameter1, parameter2):\n",
    "        self.attribute1 = parameter1\n",
    "        self.attribute2 = parameter2\n"
   ]
  },
  {
   "cell_type": "code",
   "execution_count": null,
   "id": "51222072-fe7a-4ebf-8325-331a8ae04981",
   "metadata": {},
   "outputs": [],
   "source": [
    "The __init__ method in Python is a special method used for initializing newly created objects. It is commonly known as the constructor. When a new instance of a class is created, Python automatically calls the __init__ method for that class. Its role is to initialize \n",
    "the object's attributes with the values provided during object creation."
   ]
  },
  {
   "cell_type": "code",
   "execution_count": 3,
   "id": "325d6c7b-602d-4db7-87e4-a4e44b714c84",
   "metadata": {},
   "outputs": [],
   "source": [
    "class Person:\n",
    "    def __init__(self, name, age):\n",
    "        self.name = name\n",
    "        self.age = age\n",
    "\n",
    "# Creating an object of the Person class\n",
    "person1 = Person(\"Alice\", 30)\n"
   ]
  },
  {
   "cell_type": "code",
   "execution_count": 4,
   "id": "691f123d-cbbd-402c-a513-9ad6ddd33bc2",
   "metadata": {},
   "outputs": [],
   "source": [
    "class MyClass:\n",
    "    def __init__(self, parameter1, parameter2):\n",
    "        self.attribute1 = parameter1\n",
    "        self.attribute2 = parameter2\n",
    "\n",
    "# Explicitly calling the constructor\n",
    "my_object = MyClass(\"value1\", \"value2\")\n"
   ]
  },
  {
   "cell_type": "code",
   "execution_count": 5,
   "id": "e32bed8f-f728-4e00-9e70-49cf3d97517e",
   "metadata": {},
   "outputs": [
    {
     "name": "stdout",
     "output_type": "stream",
     "text": [
      "example\n"
     ]
    }
   ],
   "source": [
    "class MyClass:\n",
    "    def __init__(self, value):\n",
    "        self.attribute = value\n",
    "\n",
    "# Creating an object of the MyClass class\n",
    "my_object = MyClass(\"example\")\n",
    "\n",
    "# Accessing the attribute using the self parameter\n",
    "print(my_object.attribute)  # Output: example\n"
   ]
  },
  {
   "cell_type": "code",
   "execution_count": null,
   "id": "16a1b0fa-72d2-438b-b78c-2afbe868dc61",
   "metadata": {},
   "outputs": [],
   "source": [
    "In Python, there are no default constructors in the traditional sense as seen in \n",
    "languages like Java or C++. In those languages, if you don't define a constructor explicitly,\n",
    "the compiler provides a default constructor with no parameters. In Python, however, if you don't\n",
    "define a constructor (__init__ method), Python provides one by default which does nothing.\n",
    "This means that if you don't define an __init__ method, instances of the class will \n",
    "still be created, but they won't have any attributes or any initialization logic."
   ]
  },
  {
   "cell_type": "code",
   "execution_count": 6,
   "id": "bd8d18aa-4d23-43c7-8c0f-46cb91cf33f9",
   "metadata": {},
   "outputs": [
    {
     "name": "stdout",
     "output_type": "stream",
     "text": [
      "Area of the rectangle: 50\n"
     ]
    }
   ],
   "source": [
    "class Rectangle:\n",
    "    def __init__(self, width, height):\n",
    "        self.width = width\n",
    "        self.height = height\n",
    "\n",
    "    def calculate_area(self):\n",
    "        return self.width * self.height\n",
    "\n",
    "# Creating an object of the Rectangle class\n",
    "rectangle = Rectangle(5, 10)\n",
    "print(\"Area of the rectangle:\", rectangle.calculate_area())  # Output: 50\n"
   ]
  },
  {
   "cell_type": "code",
   "execution_count": 7,
   "id": "dc62f9f0-9a5c-4bf6-91d8-0a6bc7c257d4",
   "metadata": {},
   "outputs": [],
   "source": [
    "class MyClass:\n",
    "    def __init__(self, value1, value2=None):\n",
    "        if value2 is None:\n",
    "            self.attribute = value1\n",
    "        else:\n",
    "            self.attribute = value1 + value2\n",
    "\n",
    "# Using different constructor forms\n",
    "obj1 = MyClass(5)\n",
    "obj2 = MyClass(2, 3)\n"
   ]
  },
  {
   "cell_type": "code",
   "execution_count": null,
   "id": "27d152ed-88d4-4d7a-8c83-c582eaada16d",
   "metadata": {},
   "outputs": [],
   "source": [
    "Method overloading is a concept in object-oriented programming where multiple\n",
    "methods with the same name can exist in a class, but with different signatures\n",
    "(i.e., different number or types of parameters). In Python, method overloading \n",
    "is not directly supported like in some other languages. However, you can achieve \n",
    "similar functionality by using default parameter values or variable-length argument lists. Constructors in Python\n",
    "can also be considered overloaded if they have different sets of parameters."
   ]
  },
  {
   "cell_type": "code",
   "execution_count": 8,
   "id": "5abc7fbc-ecee-4461-b5f6-ac77f900ee07",
   "metadata": {},
   "outputs": [
    {
     "name": "stdout",
     "output_type": "stream",
     "text": [
      "parent value\n",
      "child value\n"
     ]
    }
   ],
   "source": [
    "class Parent:\n",
    "    def __init__(self, value):\n",
    "        self.value = value\n",
    "\n",
    "class Child(Parent):\n",
    "    def __init__(self, value1, value2):\n",
    "        super().__init__(value1)\n",
    "        self.another_value = value2\n",
    "\n",
    "# Creating an object of the Child class\n",
    "child = Child(\"parent value\", \"child value\")\n",
    "print(child.value)          # Output: parent value\n",
    "print(child.another_value)  # Output: child value\n"
   ]
  },
  {
   "cell_type": "code",
   "execution_count": 9,
   "id": "9afd3546-6076-40ef-a6a0-8dacbc23fac1",
   "metadata": {},
   "outputs": [
    {
     "name": "stdout",
     "output_type": "stream",
     "text": [
      "Title: Python Programming\n",
      "Author: John Doe\n",
      "Published Year: 2020\n"
     ]
    }
   ],
   "source": [
    "class Book:\n",
    "    def __init__(self, title, author, published_year):\n",
    "        self.title = title\n",
    "        self.author = author\n",
    "        self.published_year = published_year\n",
    "\n",
    "    def display_details(self):\n",
    "        print(\"Title:\", self.title)\n",
    "        print(\"Author:\", self.author)\n",
    "        print(\"Published Year:\", self.published_year)\n",
    "\n",
    "# Creating an object of the Book class\n",
    "book = Book(\"Python Programming\", \"John Doe\", 2020)\n",
    "book.display_details()\n"
   ]
  },
  {
   "cell_type": "code",
   "execution_count": null,
   "id": "10968c6e-8c5f-4a0b-ab1a-12d53e8c2f01",
   "metadata": {},
   "outputs": [],
   "source": [
    "Constructors in Python are special methods (__init__) used \n",
    "for initializing objects when they are created. \n",
    "They are automatically called when a new instance of a class is created.\n",
    "Regular methods, on the other hand, are ordinary \n",
    "functions defined within a class that operate on the object's data.\n",
    "While constructors are used for initializing object state, regular methods\n",
    "are used for performing actions or operations on objects after they have been initialized."
   ]
  },
  {
   "cell_type": "code",
   "execution_count": 10,
   "id": "11fee310-c178-4bcb-9bac-66b78c26e920",
   "metadata": {},
   "outputs": [
    {
     "name": "stdout",
     "output_type": "stream",
     "text": [
      "5\n",
      "10\n"
     ]
    }
   ],
   "source": [
    "class MyClass:\n",
    "    def __init__(self, value):\n",
    "        self.instance_variable = value\n",
    "\n",
    "# Creating an object of the MyClass class\n",
    "obj1 = MyClass(5)\n",
    "obj2 = MyClass(10)\n",
    "\n",
    "print(obj1.instance_variable)  # Output: 5\n",
    "print(obj2.instance_variable)  # Output: 10\n"
   ]
  },
  {
   "cell_type": "code",
   "execution_count": 11,
   "id": "2b014f35-48dd-4302-8265-9a8620352e48",
   "metadata": {},
   "outputs": [
    {
     "name": "stdout",
     "output_type": "stream",
     "text": [
      "True\n"
     ]
    }
   ],
   "source": [
    "class Singleton:\n",
    "    _instance = None\n",
    "\n",
    "    def __new__(cls):\n",
    "        if cls._instance is None:\n",
    "            cls._instance = super().__new__(cls)\n",
    "        return cls._instance\n",
    "\n",
    "# Testing the Singleton class\n",
    "obj1 = Singleton()\n",
    "obj2 = Singleton()\n",
    "\n",
    "print(obj1 is obj2)  # Output: True\n"
   ]
  },
  {
   "cell_type": "code",
   "execution_count": 12,
   "id": "1ddfae82-bab1-41e0-9770-1dea552ed998",
   "metadata": {},
   "outputs": [],
   "source": [
    "class Student:\n",
    "    def __init__(self, subjects):\n",
    "        self.subjects = subjects\n",
    "\n",
    "# Creating an object of the Student class\n",
    "student = Student([\"Math\", \"Science\", \"History\"])\n"
   ]
  },
  {
   "cell_type": "code",
   "execution_count": null,
   "id": "6ad15b60-02af-45e5-b2f4-30b6706c497c",
   "metadata": {},
   "outputs": [],
   "source": [
    "The __del__ method in \n",
    "Python classes is called when an object is about to be destroyed, i.e., when the object is garbage collected. \n",
    "It can be used to perform cleanup actions before an object is removed from memory. The __del__ method is the\n",
    "destructor in Python, and it's not directly related to constructors. Constructors (__init__) initialize objects, \n",
    "while destructors (__del__) clean up resources associated with objects before they are destroyed."
   ]
  },
  {
   "cell_type": "code",
   "execution_count": 13,
   "id": "a2b66ad8-3599-4732-9d82-4bffcc7bfb04",
   "metadata": {},
   "outputs": [
    {
     "name": "stdout",
     "output_type": "stream",
     "text": [
      "parent value\n",
      "child value\n"
     ]
    }
   ],
   "source": [
    "class Parent:\n",
    "    def __init__(self, value):\n",
    "        self.value = value\n",
    "\n",
    "class Child(Parent):\n",
    "    def __init__(self, value1, value2):\n",
    "        super().__init__(value1)\n",
    "        self.another_value = value2\n",
    "\n",
    "# Creating an object of the Child class\n",
    "child = Child(\"parent value\", \"child value\")\n",
    "print(child.value)          # Output: parent value\n",
    "print(child.another_value)  # Output: child value\n"
   ]
  },
  {
   "cell_type": "code",
   "execution_count": 14,
   "id": "a26b95c2-8fbb-42e3-b830-f1d37df24a9d",
   "metadata": {},
   "outputs": [
    {
     "name": "stdout",
     "output_type": "stream",
     "text": [
      "Make: Toyota\n",
      "Model: Camry\n"
     ]
    }
   ],
   "source": [
    "class Car:\n",
    "    def __init__(self, make, model):\n",
    "        self.make = make\n",
    "        self.model = model\n",
    "\n",
    "    def display_info(self):\n",
    "        print(\"Make:\", self.make)\n",
    "        print(\"Model:\", self.model)\n",
    "\n",
    "# Creating an object of the Car class\n",
    "car = Car(\"Toyota\", \"Camry\")\n",
    "car.display_info()\n"
   ]
  },
  {
   "cell_type": "code",
   "execution_count": null,
   "id": "50e780da-495f-465f-9858-9d75e395e2e7",
   "metadata": {},
   "outputs": [],
   "source": [
    "Inheritance in Python is a mechanism where a new class (called a derived class or child class) is\n",
    "created from an existing class (called a base class or parent class), and it inherits all the properties\n",
    "(attributes and methods) of the parent class. Inheritance allows code reuse, promotes code organization, \n",
    "and facilitates the creation of hierarchical relationships between classes. It is a fundamental concept in\n",
    "object-oriented programming (OOP) that enables the creation of more specialized classes based on existing ones, \n",
    "thus promoting modularity and extensibility."
   ]
  },
  {
   "cell_type": "code",
   "execution_count": 15,
   "id": "58cffec7-3d99-47b5-83e5-447ad93ee7d3",
   "metadata": {},
   "outputs": [
    {
     "name": "stdout",
     "output_type": "stream",
     "text": [
      "Parent method called\n",
      "Child method called\n"
     ]
    }
   ],
   "source": [
    "class Parent:\n",
    "    def parent_method(self):\n",
    "        print(\"Parent method called\")\n",
    "\n",
    "class Child(Parent):\n",
    "    def child_method(self):\n",
    "        print(\"Child method called\")\n",
    "\n",
    "# Creating an object of the Child class\n",
    "child_obj = Child()\n",
    "child_obj.parent_method()  # Output: Parent method called\n",
    "child_obj.child_method()   # Output: Child method called\n"
   ]
  },
  {
   "cell_type": "code",
   "execution_count": 16,
   "id": "4a37b1f0-cf1f-45ab-b9c8-7adb400d6f05",
   "metadata": {},
   "outputs": [
    {
     "name": "stdout",
     "output_type": "stream",
     "text": [
      "Parent 1 method called\n",
      "Parent 2 method called\n",
      "Child method called\n"
     ]
    }
   ],
   "source": [
    "class Parent1:\n",
    "    def method1(self):\n",
    "        print(\"Parent 1 method called\")\n",
    "\n",
    "class Parent2:\n",
    "    def method2(self):\n",
    "        print(\"Parent 2 method called\")\n",
    "\n",
    "class Child(Parent1, Parent2):\n",
    "    def child_method(self):\n",
    "        print(\"Child method called\")\n",
    "\n",
    "# Creating an object of the Child class\n",
    "child_obj = Child()\n",
    "child_obj.method1()  # Output: Parent 1 method called\n",
    "child_obj.method2()  # Output: Parent 2 method called\n",
    "child_obj.child_method()  # Output: Child method called\n"
   ]
  },
  {
   "cell_type": "code",
   "execution_count": 17,
   "id": "c6134079-48c4-4ec7-885d-a6c1493c31af",
   "metadata": {},
   "outputs": [
    {
     "name": "stdout",
     "output_type": "stream",
     "text": [
      "Color: Red\n",
      "Speed: 100\n",
      "Brand: Toyota\n"
     ]
    }
   ],
   "source": [
    "class Vehicle:\n",
    "    def __init__(self, color, speed):\n",
    "        self.color = color\n",
    "        self.speed = speed\n",
    "\n",
    "class Car(Vehicle):\n",
    "    def __init__(self, color, speed, brand):\n",
    "        super().__init__(color, speed)\n",
    "        self.brand = brand\n",
    "\n",
    "# Creating a Car object\n",
    "car = Car(\"Red\", 100, \"Toyota\")\n",
    "print(\"Color:\", car.color)\n",
    "print(\"Speed:\", car.speed)\n",
    "print(\"Brand:\", car.brand)\n"
   ]
  },
  {
   "cell_type": "code",
   "execution_count": 18,
   "id": "b7d43958-a5d9-43ff-b12c-e98c65d972b5",
   "metadata": {},
   "outputs": [
    {
     "name": "stdout",
     "output_type": "stream",
     "text": [
      "Child's method\n"
     ]
    }
   ],
   "source": [
    "class Parent:\n",
    "    def method(self):\n",
    "        print(\"Parent's method\")\n",
    "\n",
    "class Child(Parent):\n",
    "    def method(self):\n",
    "        print(\"Child's method\")\n",
    "\n",
    "# Creating an object of the Child class\n",
    "child = Child()\n",
    "child.method()  # Output: Child's method\n"
   ]
  },
  {
   "cell_type": "code",
   "execution_count": 19,
   "id": "ab2b3616-ea3f-4e8b-bb1f-6374b75ececf",
   "metadata": {},
   "outputs": [
    {
     "name": "stdout",
     "output_type": "stream",
     "text": [
      "Parent's method\n",
      "Child's method\n"
     ]
    }
   ],
   "source": [
    "class Parent:\n",
    "    def parent_method(self):\n",
    "        print(\"Parent's method\")\n",
    "\n",
    "class Child(Parent):\n",
    "    def child_method(self):\n",
    "        super().parent_method()  # Call parent's method\n",
    "        print(\"Child's method\")\n",
    "\n",
    "# Creating an object of the Child class\n",
    "child = Child()\n",
    "child.child_method()\n"
   ]
  },
  {
   "cell_type": "code",
   "execution_count": 20,
   "id": "d07fa561-4f94-4c56-b7d5-b3b85040cdc8",
   "metadata": {},
   "outputs": [
    {
     "name": "stdout",
     "output_type": "stream",
     "text": [
      "Parent's method\n",
      "Child's method\n"
     ]
    }
   ],
   "source": [
    "class Parent:\n",
    "    def method(self):\n",
    "        print(\"Parent's method\")\n",
    "\n",
    "class Child(Parent):\n",
    "    def method(self):\n",
    "        super().method()  # Call parent's method\n",
    "        print(\"Child's method\")\n",
    "\n",
    "# Creating an object of the Child class\n",
    "child = Child()\n",
    "child.method()\n"
   ]
  },
  {
   "cell_type": "code",
   "execution_count": 21,
   "id": "9f434561-6e46-4f58-bac8-c25647aa93a3",
   "metadata": {},
   "outputs": [
    {
     "name": "stdout",
     "output_type": "stream",
     "text": [
      "Parent's method\n",
      "Child's method\n"
     ]
    }
   ],
   "source": [
    "class Parent:\n",
    "    def method(self):\n",
    "        print(\"Parent's method\")\n",
    "\n",
    "class Child(Parent):\n",
    "    def method(self):\n",
    "        super().method()  # Call parent's method\n",
    "        print(\"Child's method\")\n",
    "\n",
    "# Creating an object of the Child class\n",
    "child = Child()\n",
    "child.method()\n"
   ]
  },
  {
   "cell_type": "code",
   "execution_count": 22,
   "id": "b57fc655-63fd-40a0-9c82-0aa76e26236d",
   "metadata": {},
   "outputs": [
    {
     "name": "stdout",
     "output_type": "stream",
     "text": [
      "Woof\n",
      "Meow\n"
     ]
    }
   ],
   "source": [
    "class Animal:\n",
    "    def speak(self):\n",
    "        pass\n",
    "\n",
    "class Dog(Animal):\n",
    "    def speak(self):\n",
    "        print(\"Woof\")\n",
    "\n",
    "class Cat(Animal):\n",
    "    def speak(self):\n",
    "        print(\"Meow\")\n",
    "\n",
    "# Creating objects of the Dog and Cat classes\n",
    "dog = Dog()\n",
    "cat = Cat()\n",
    "\n",
    "dog.speak()  # Output: Woof\n",
    "cat.speak()  # Output: Meow\n"
   ]
  },
  {
   "cell_type": "code",
   "execution_count": null,
   "id": "d6fd6f5f-538c-4d32-a3b7-658a351b3d2f",
   "metadata": {},
   "outputs": [],
   "source": [
    "The isinstance() function in Python is used to check if an object belongs to a particular class or \n",
    "is an instance of a subclass. It returns True if the object is an instance of the specified class or\n",
    "any of its subclasses, otherwise, it returns False. It relates to inheritance by allowing you to test \n",
    "the type of an object and determine if it inherits from a specific class. This function is particularly useful when dealing with \n",
    "polymorphism and dynamic typing in Python."
   ]
  },
  {
   "cell_type": "code",
   "execution_count": 23,
   "id": "bdb76472-b7f5-4a12-b95b-89b681fb35c9",
   "metadata": {},
   "outputs": [
    {
     "name": "stdout",
     "output_type": "stream",
     "text": [
      "True\n"
     ]
    }
   ],
   "source": [
    "class Parent:\n",
    "    pass\n",
    "\n",
    "class Child(Parent):\n",
    "    pass\n",
    "\n",
    "print(issubclass(Child, Parent))  # Output: True\n"
   ]
  },
  {
   "cell_type": "code",
   "execution_count": null,
   "id": "4f832085-8b41-4541-b1db-d99aeecd2bd5",
   "metadata": {},
   "outputs": [],
   "source": [
    "\n",
    "Constructor inheritance in Python occurs automatically when a child class is created. \n",
    "If the child class does not have its own constructor, it automatically inherits the constructor\n",
    "of its parent class. If the child class does have its own constructor, it can explicitly call the \n",
    "constructor of the parent class using the super() function to initialize inherited attributes. \n",
    "Constructors are inherited similarly to other methods in Python."
   ]
  },
  {
   "cell_type": "code",
   "execution_count": 24,
   "id": "d0bbce03-c7e3-4db4-b7ce-a2bb51e1a0b6",
   "metadata": {},
   "outputs": [
    {
     "name": "stdout",
     "output_type": "stream",
     "text": [
      "Area of the circle: 78.53981633974483\n",
      "Area of the rectangle: 24\n"
     ]
    }
   ],
   "source": [
    "import math\n",
    "\n",
    "class Shape:\n",
    "    def area(self):\n",
    "        pass\n",
    "\n",
    "class Circle(Shape):\n",
    "    def __init__(self, radius):\n",
    "        self.radius = radius\n",
    "\n",
    "    def area(self):\n",
    "        return math.pi * self.radius ** 2\n",
    "\n",
    "class Rectangle(Shape):\n",
    "    def __init__(self, length, width):\n",
    "        self.length = length\n",
    "        self.width = width\n",
    "\n",
    "    def area(self):\n",
    "        return self.length * self.width\n",
    "\n",
    "# Creating objects of the Circle and Rectangle classes\n",
    "circle = Circle(5)\n",
    "rectangle = Rectangle(4, 6)\n",
    "\n",
    "print(\"Area of the circle:\", circle.area())       # Output: Area of the circle: 78.53981633974483\n",
    "print(\"Area of the rectangle:\", rectangle.area()) # Output: Area of the rectangle: 24\n"
   ]
  },
  {
   "cell_type": "code",
   "execution_count": 25,
   "id": "08fe0dad-8ae9-4a0d-932d-9d84432024c4",
   "metadata": {},
   "outputs": [
    {
     "name": "stdout",
     "output_type": "stream",
     "text": [
      "Area of the circle: 78.53981633974483\n",
      "Area of the rectangle: 24\n"
     ]
    }
   ],
   "source": [
    "from abc import ABC, abstractmethod\n",
    "\n",
    "class Shape(ABC):\n",
    "    @abstractmethod\n",
    "    def area(self):\n",
    "        pass\n",
    "\n",
    "class Circle(Shape):\n",
    "    def __init__(self, radius):\n",
    "        self.radius = radius\n",
    "\n",
    "    def area(self):\n",
    "        return math.pi * self.radius ** 2\n",
    "\n",
    "class Rectangle(Shape):\n",
    "    def __init__(self, length, width):\n",
    "        self.length = length\n",
    "        self.width = width\n",
    "\n",
    "    def area(self):\n",
    "        return self.length * self.width\n",
    "\n",
    "# Creating objects of the Circle and Rectangle classes\n",
    "circle = Circle(5)\n",
    "rectangle = Rectangle(4, 6)\n",
    "\n",
    "print(\"Area of the circle:\", circle.area())       # Output: Area of the circle: 78.53981633974483\n",
    "print(\"Area of the rectangle:\", rectangle.area()) # Output: Area of the rectangle: 24\n"
   ]
  },
  {
   "cell_type": "code",
   "execution_count": null,
   "id": "da919eea-aaab-4339-beb2-3e64e619a19b",
   "metadata": {},
   "outputs": [],
   "source": [
    "In Python, you can prevent a child class from modifying certain attributes or methods inherited \n",
    "from a parent class by using name mangling or making those attributes or methods private.\n",
    "Name mangling involves prefixing the attribute or method name with double underscores (__). \n",
    "This makes it difficult for child classes to directly access or modify the attributes or methods.\n",
    "However, this is more of a convention than\n",
    "a strict enforcement of access control."
   ]
  },
  {
   "cell_type": "code",
   "execution_count": 26,
   "id": "95f7f8b5-9254-4217-b376-623480559f75",
   "metadata": {},
   "outputs": [
    {
     "name": "stdout",
     "output_type": "stream",
     "text": [
      "Name: John Doe\n",
      "Salary: 50000\n",
      "Department: HR\n"
     ]
    }
   ],
   "source": [
    "class Employee:\n",
    "    def __init__(self, name, salary):\n",
    "        self.name = name\n",
    "        self.salary = salary\n",
    "\n",
    "class Manager(Employee):\n",
    "    def __init__(self, name, salary, department):\n",
    "        super().__init__(name, salary)\n",
    "        self.department = department\n",
    "\n",
    "# Creating an object of the Manager class\n",
    "manager = Manager(\"John Doe\", 50000, \"HR\")\n",
    "print(\"Name:\", manager.name)\n",
    "print(\"Salary:\", manager.salary)\n",
    "print(\"Department:\", manager.department)\n"
   ]
  },
  {
   "cell_type": "code",
   "execution_count": null,
   "id": "532e713b-ffc4-41f9-ab33-267c760b6005",
   "metadata": {},
   "outputs": [],
   "source": [
    "Encapsulation in Python: Encapsulation is one of the fundamental concepts of object-oriented programming (OOP). \n",
    "It involves bundling the data (attributes) and methods (functions) that operate on the data into a single unit\n",
    "called a class. Encapsulation helps in hiding the internal state of an object and only exposing the necessary\n",
    "functionalities,\n",
    "thus promoting data integrity and security."
   ]
  },
  {
   "cell_type": "code",
   "execution_count": null,
   "id": "7dc6fa8c-4f43-4e55-9ed9-c75e81bff5f6",
   "metadata": {},
   "outputs": [],
   "source": [
    "Key Principles of Encapsulation:\n",
    "\n",
    "    Access Control: Encapsulation allows us to control the access to the members of a \n",
    "    class. This means we can specify which parts of the program can access\n",
    "    the data and methods of the class.\n",
    "    Data Hiding: Encapsulation also involves hiding the internal state of objects from \n",
    "    the outside world. This prevents direct modification of the object's data and ensures \n",
    "    that the object's state remains consistent."
   ]
  },
  {
   "cell_type": "code",
   "execution_count": 1,
   "id": "e028a503-c79f-45db-88e1-8b344230c139",
   "metadata": {},
   "outputs": [],
   "source": [
    "class MyClass:\n",
    "    def __init__(self):\n",
    "        self._protected_attribute = 10\n",
    "        self.__private_attribute = 20\n"
   ]
  },
  {
   "cell_type": "code",
   "execution_count": null,
   "id": "b88d6775-3782-4387-972d-a884d4594fc8",
   "metadata": {},
   "outputs": [],
   "source": [
    "Access Modifiers in Python:\n",
    "\n",
    "    Public: No symbol is required for public members. They can be accessed from anywhere.\n",
    "    Private: Members prefixed with double underscores (__) are considered private and are not accessible from outside the\n",
    "    class. However, Python implements name mangling for private members, making it possible to access them with some additional \n",
    "    effort.\n",
    "    Protected: Members prefixed with a single underscore (_) are considered protected. They can be accessed within the same package \n",
    "    or subclass."
   ]
  },
  {
   "cell_type": "code",
   "execution_count": 2,
   "id": "bfb5aa9e-ec8a-4cfc-a77b-91383e8e3f98",
   "metadata": {},
   "outputs": [],
   "source": [
    "class Person:\n",
    "    def __init__(self, name):\n",
    "        self.__name = name\n",
    "\n",
    "    def get_name(self):\n",
    "        return self.__name\n",
    "\n",
    "    def set_name(self, name):\n",
    "        self.__name = name\n"
   ]
  },
  {
   "cell_type": "code",
   "execution_count": null,
   "id": "a3a15583-4491-4b3c-a670-bf6e35ddca6b",
   "metadata": {},
   "outputs": [],
   "source": [
    "Purpose of Getter and Setter Methods:\n",
    "\n",
    "    Getter Method: Provides controlled access to the private attributes of a class by returning their values.\n",
    "    Setter Method: Allows controlled modification of the private attributes of a class by updating their values.\n",
    "    \n",
    "    person = Person(\"Alice\")\n",
    "print(person.get_name())  # Output: Alice\n",
    "person.set_name(\"Bob\")\n",
    "print(person.get_name())  # Output: Bob\n"
   ]
  },
  {
   "cell_type": "code",
   "execution_count": 3,
   "id": "111911c2-b592-497a-9dab-a2ea26a0897a",
   "metadata": {},
   "outputs": [
    {
     "ename": "AttributeError",
     "evalue": "'MyClass' object has no attribute '__private_attribute'",
     "output_type": "error",
     "traceback": [
      "\u001b[0;31m---------------------------------------------------------------------------\u001b[0m",
      "\u001b[0;31mAttributeError\u001b[0m                            Traceback (most recent call last)",
      "Cell \u001b[0;32mIn[3], line 6\u001b[0m\n\u001b[1;32m      3\u001b[0m         \u001b[38;5;28mself\u001b[39m\u001b[38;5;241m.\u001b[39m__private_attribute \u001b[38;5;241m=\u001b[39m \u001b[38;5;241m10\u001b[39m\n\u001b[1;32m      5\u001b[0m obj \u001b[38;5;241m=\u001b[39m MyClass()\n\u001b[0;32m----> 6\u001b[0m \u001b[38;5;28mprint\u001b[39m(\u001b[43mobj\u001b[49m\u001b[38;5;241;43m.\u001b[39;49m\u001b[43m__private_attribute\u001b[49m)  \u001b[38;5;66;03m# Error: AttributeError: 'MyClass' object has no attribute '__private_attribute'\u001b[39;00m\n\u001b[1;32m      7\u001b[0m \u001b[38;5;28mprint\u001b[39m(obj\u001b[38;5;241m.\u001b[39m_MyClass__private_attribute)  \u001b[38;5;66;03m# Output: 10\u001b[39;00m\n",
      "\u001b[0;31mAttributeError\u001b[0m: 'MyClass' object has no attribute '__private_attribute'"
     ]
    }
   ],
   "source": [
    "class MyClass:\n",
    "    def __init__(self):\n",
    "        self.__private_attribute = 10\n",
    "\n",
    "obj = MyClass()\n",
    "print(obj.__private_attribute)  # Error: AttributeError: 'MyClass' object has no attribute '__private_attribute'\n",
    "print(obj._MyClass__private_attribute)  # Output: 10\n"
   ]
  },
  {
   "cell_type": "code",
   "execution_count": 4,
   "id": "66009421-1005-4450-808e-3543574a01ad",
   "metadata": {},
   "outputs": [
    {
     "ename": "SyntaxError",
     "evalue": "unterminated string literal (detected at line 13) (1827918231.py, line 13)",
     "output_type": "error",
     "traceback": [
      "\u001b[0;36m  Cell \u001b[0;32mIn[4], line 13\u001b[0;36m\u001b[0m\n\u001b[0;31m    print(f\"Withdrew {amount} from account {sel\u001b[0m\n\u001b[0m          ^\u001b[0m\n\u001b[0;31mSyntaxError\u001b[0m\u001b[0;31m:\u001b[0m unterminated string literal (detected at line 13)\n"
     ]
    }
   ],
   "source": [
    "class BankAccount:\n",
    "    def __init__(self, account_number):\n",
    "        self.__balance = 0\n",
    "        self.__account_number = account_number\n",
    "\n",
    "    def deposit(self, amount):\n",
    "        self.__balance += amount\n",
    "        print(f\"Deposited {amount} into account {self.__account_number}\")\n",
    "\n",
    "    def withdraw(self, amount):\n",
    "        if amount <= self.__balance:\n",
    "            self.__balance -= amount\n",
    "            print(f\"Withdrew {amount} from account {sel\n"
   ]
  },
  {
   "cell_type": "code",
   "execution_count": null,
   "id": "11df2437-c9e5-453b-85f2-9c69b02a40f5",
   "metadata": {},
   "outputs": [],
   "source": [
    "Advantages of Encapsulation:\n",
    "\n",
    "    Code Maintainability: Encapsulation helps in maintaining and organizing code by keeping related data and methods together \n",
    "    within a class. This improves code readability and makes it easier to understand and modify.\n",
    "    Security: Encapsulation hides the internal state of objects, preventing direct access to sensitive data. This helps in\n",
    "    maintaining data integrity and security by controlling access to the data through well-defined\n",
    "    interfaces."
   ]
  },
  {
   "cell_type": "code",
   "execution_count": null,
   "id": "05f23098-421f-480e-a2e5-26d2e1f16d12",
   "metadata": {},
   "outputs": [],
   "source": [
    "class MyClass:\n",
    "    def __init__(self):\n",
    "        self.__private_attribute = 10\n",
    "\n",
    "obj = MyClass()\n",
    "print(obj.__private_attribute)  # Error: AttributeError\n",
    "print(obj._MyClass__private_attribute)  # Output: 10\n"
   ]
  },
  {
   "cell_type": "code",
   "execution_count": null,
   "id": "aab2b02e-1c8f-4d83-a03a-522f1b791e38",
   "metadata": {},
   "outputs": [],
   "source": [
    "class Student:\n",
    "    def __init__(self, name, student_id):\n",
    "        self.__name = name\n",
    "        self.__student_id = student_id\n",
    "\n",
    "    # Methods to access and modify student's information\n",
    "\n",
    "class Teacher:\n",
    "    def __init__(self, name, teacher_id):\n",
    "        self.__name = name\n",
    "        self.__teacher_id = teacher_id\n",
    "\n",
    "    # Methods to access and modify teacher's information\n",
    "\n",
    "class Course:\n",
    "    def __init__(self, course_name, course_code):\n",
    "        self.__course_name = course_name\n",
    "        self.__course_code = course_code\n",
    "        self.__students = []  # List of enrolled students\n",
    "\n",
    "    # Methods to enroll students, view enrolled students, etc.\n"
   ]
  },
  {
   "cell_type": "code",
   "execution_count": null,
   "id": "0f0e6e7b-eee3-4d3b-82df-62dba9ffa97d",
   "metadata": {},
   "outputs": [],
   "source": [
    "Property Decorators and Encapsulation:\n",
    "Property decorators in Python provide a way to define getters, setters, and deleters for class attributes.\n",
    "They help in encapsulation by allowing controlled access and modification of attributes while still exposing \n",
    "them as properties. This ensures that the class interface remains consistent even when the internal\n",
    "implementation changes."
   ]
  },
  {
   "cell_type": "code",
   "execution_count": null,
   "id": "b9f8a96e-dbbe-44b1-bd6b-97c60c179c47",
   "metadata": {},
   "outputs": [],
   "source": [
    "Data Hiding in Encapsulation:\n",
    "Data hiding involves restricting access to certain parts of an object, typically its attributes, from the \n",
    "outside world. This prevents direct manipulation of the object's state and ensures that it remains in a\n",
    "consistent and valid state. For example, in the BankAccount class, making __balance and __account_number \n",
    "private ensures that they can only be accessed and modified through defined methods,\n",
    "maintaining data integrity."
   ]
  },
  {
   "cell_type": "code",
   "execution_count": null,
   "id": "6c1a67d7-4ec2-4464-921b-bcdfeb643bef",
   "metadata": {},
   "outputs": [],
   "source": [
    "class Employee:\n",
    "    def __init__(self, salary, employee_id):\n",
    "        self.__salary = salary\n",
    "        self.__employee_id = employee_id\n",
    "\n",
    "    def calculate_bonus(self):\n",
    "        # Some logic to calculate bonus based on salary and performance\n",
    "        return self.__salary * 0.1  # Assuming 10% bonus\n"
   ]
  },
  {
   "cell_type": "code",
   "execution_count": null,
   "id": "499881df-5463-4fb9-99ce-b02577e4b047",
   "metadata": {},
   "outputs": [],
   "source": [
    "Accessors and Mutators in Encapsulation:\n",
    "Accessors (getter methods) are used to retrieve the values of private attributes, while mutators (setter methods) \n",
    "are used to modify them. They help in maintaining control over attribute access by encapsulating the internal\n",
    "representation of the object and providing controlled interfaces for interacting with it. This ensures that changes \n",
    "to the internal state of an object are made in a controlled and consistent manner,\n",
    "promoting data integrity and security."
   ]
  },
  {
   "cell_type": "code",
   "execution_count": null,
   "id": "8fa4fa63-1e2a-460f-b7a7-487c5d2535ea",
   "metadata": {},
   "outputs": [],
   "source": [
    "    Potential Drawbacks of Encapsulation in Python:\n",
    "\n",
    "    Overhead: Implementing encapsulation with getter and setter methods can introduce additional code overhead, making the\n",
    "    codebase more verbose.\n",
    "    Complexity: Encapsulation can sometimes lead to increased complexity, especially in larger codebases, if not implemented \n",
    "    properly. This complexity can make the code harder to understand and maintain.\n",
    "    Performance: In some cases, the use of getter and setter methods can result in slightly slower performance compared to\n",
    "    direct attribute access, although this difference is often negligible in \n",
    "    most scenarios."
   ]
  },
  {
   "cell_type": "code",
   "execution_count": null,
   "id": "eaa60861-bf25-43fb-a96c-33fb50a099a8",
   "metadata": {},
   "outputs": [],
   "source": [
    "class Book:\n",
    "    def __init__(self, title, author):\n",
    "        self.__title = title\n",
    "        self.__author = author\n",
    "        self.__available = True\n",
    "\n",
    "    def get_title(self):\n",
    "        return self.__title\n",
    "\n",
    "    def get_author(self):\n",
    "        return self.__author\n",
    "\n",
    "    def is_available(self):\n",
    "        return self.__available\n",
    "\n",
    "    def borrow_book(self):\n",
    "        if self.__available:\n",
    "            self.__available = False\n",
    "            print(f\"Book '{self.__title}' by {self.__author} has been borrowed.\")\n",
    "        else:\n",
    "            print(\"Sorry, the book is currently not available.\")\n",
    "\n",
    "    def return_book(self):\n",
    "        self.__available = True\n",
    "        print(f\"Book '{self.__title}' by {self.__author} has been returned.\")\n"
   ]
  },
  {
   "cell_type": "code",
   "execution_count": null,
   "id": "71948e99-2c6f-45c3-84c8-f6c5f87f0527",
   "metadata": {},
   "outputs": [],
   "source": [
    "Encapsulation Enhancing Reusability and Modularity:\n",
    "Encapsulation promotes code reusability and modularity by encapsulating the implementation details within classes. \n",
    "By hiding the internal state and providing well-defined interfaces, encapsulation allows classes to be reused in\n",
    "different parts of the program without worrying about how they are implemented internally. This makes the codebase \n",
    "more modular and easier\n",
    "to maintain and extend."
   ]
  },
  {
   "cell_type": "code",
   "execution_count": null,
   "id": "6a530196-33d9-41e4-bf43-efddbcb010d3",
   "metadata": {},
   "outputs": [],
   "source": [
    "Information Hiding in Encapsulation:\n",
    "Information hiding is the principle of hiding the internal details of a class from the outside world. \n",
    "In encapsulation, information hiding is achieved by making the implementation details, such as data members\n",
    "and methods, private or protected. This ensures that the internal state of an object is not directly accessible \n",
    "from outside the class, promoting data integrity and security. Information hiding is essential in software development\n",
    "to prevent unintended access and manipulation of sensitive data, as well as to encapsulate implementation details and\n",
    "reduce dependencies between \n",
    "different parts of the codebase."
   ]
  },
  {
   "cell_type": "code",
   "execution_count": null,
   "id": "291fd6f8-fc3a-472d-9b6f-0306d9c6ebd0",
   "metadata": {},
   "outputs": [],
   "source": [
    "class Customer:\n",
    "    def __init__(self, name, address, contact):\n",
    "        self.__name = name\n",
    "        self.__address = address\n",
    "        self.__contact = contact\n",
    "\n",
    "    def get_name(self):\n",
    "        return self.__name\n",
    "\n",
    "    def get_address(self):\n",
    "        return self.__address\n",
    "\n",
    "    def get_contact(self):\n",
    "        return self.__contact\n",
    "\n",
    "    # Additional methods for modifying customer details can be added here\n"
   ]
  },
  {
   "cell_type": "code",
   "execution_count": null,
   "id": "5a0140e5-01d4-4c4b-b504-57ffff2d8868",
   "metadata": {},
   "outputs": [],
   "source": [
    "Polymorphism in Python: Polymorphism is a core concept in object-oriented programming (OOP) that refers to the \n",
    "ability of different objects to respond to the same message or method invocation in different ways. In Python, \n",
    "polymorphism allows objects of different types to be treated as objects of a common superclass, enabling code to \n",
    "be written that can work with\n",
    "objects of multiple types."
   ]
  },
  {
   "cell_type": "code",
   "execution_count": null,
   "id": "84188dd5-4550-488c-a61e-1dd56dada613",
   "metadata": {},
   "outputs": [],
   "source": [
    "Compile-time Polymorphism vs. Runtime Polymorphism:\n",
    "\n",
    "    Compile-time Polymorphism: Also known as static polymorphism, it refers to the polymorphic behavior determined \n",
    "    at compile time. In Python, this is typically achieved through method overloading or function overloading. However, \n",
    "    Python does not support method overloading natively like some other languages.\n",
    "    Runtime Polymorphism: Also known as dynamic polymorphism, it refers to the polymorphic behavior determined at\n",
    "    runtime. In Python, this is achieved through method overriding, where a method in a subclass overrides a method\n",
    "    with the same name in its superclass."
   ]
  },
  {
   "cell_type": "code",
   "execution_count": null,
   "id": "178f39cd-51a3-4989-93e8-1e263b7e336d",
   "metadata": {},
   "outputs": [],
   "source": [
    "class Shape:\n",
    "    def calculate_area(self):\n",
    "        pass  # Abstract method to be overridden in subclasses\n",
    "\n",
    "class Circle(Shape):\n",
    "    def __init__(self, radius):\n",
    "        self.radius = radius\n",
    "\n",
    "    def calculate_area(self):\n",
    "        return 3.14 * self.radius ** 2\n",
    "\n",
    "class Square(Shape):\n",
    "    def __init__(self, side):\n",
    "        self.side = side\n",
    "\n",
    "    def calculate_area(self):\n",
    "        return self.side ** 2\n",
    "\n",
    "class Triangle(Shape):\n",
    "    def __init__(self, base, height):\n",
    "        self.base = base\n",
    "        self.height = height\n",
    "\n",
    "    def calculate_area(self):\n",
    "        return 0.5 * self.base * self.height\n"
   ]
  },
  {
   "cell_type": "code",
   "execution_count": null,
   "id": "43c07bd9-8b6c-4dd6-9b1e-3bd53c35f8a3",
   "metadata": {},
   "outputs": [],
   "source": [
    "class Animal:\n",
    "    def speak(self):\n",
    "        print(\"Animal speaks\")\n",
    "\n",
    "class Dog(Animal):\n",
    "    def speak(self):\n",
    "        print(\"Dog barks\")\n",
    "\n",
    "dog = Dog()\n",
    "dog.speak()  # Output: Dog barks\n",
    "Method Overriding in Polymorphism:\n",
    "Method overriding occurs when a subclass provides a specific implementation of a method that is already defined\n",
    "in its superclass. This allows the subclass to provide its own behavior while still maintaining \n",
    "the same method signature as the superclass."
   ]
  },
  {
   "cell_type": "code",
   "execution_count": 5,
   "id": "45a5a968-de80-4ab5-901b-eb8c9cd0679e",
   "metadata": {},
   "outputs": [
    {
     "ename": "SyntaxError",
     "evalue": "invalid syntax (3242404139.py, line 1)",
     "output_type": "error",
     "traceback": [
      "\u001b[0;36m  Cell \u001b[0;32mIn[5], line 1\u001b[0;36m\u001b[0m\n\u001b[0;31m    Difference between Polymorphism and Method Overloading:\u001b[0m\n\u001b[0m               ^\u001b[0m\n\u001b[0;31mSyntaxError\u001b[0m\u001b[0;31m:\u001b[0m invalid syntax\n"
     ]
    }
   ],
   "source": [
    "Difference between Polymorphism and Method Overloading:\n",
    "\n",
    "    Polymorphism: Refers to the ability of different objects to respond to the same message or\n",
    "    method invocation in different ways.\n",
    "    Method Overloading: Refers to defining multiple methods with the same name in a class, but \n",
    "    with different signatures (i.e., different parameters). Python does not support method overloading natively, \n",
    "    but polymorphism can be achieved through method overriding.\n",
    "    \n",
    "    class Math:\n",
    "    def add(self, x, y):\n",
    "        return x + y\n",
    "\n",
    "    def add(self, x, y, z):\n",
    "        return x + y + z\n",
    "\n",
    "math = Math()\n",
    "print(math.add(1, 2))  # Error: TypeError: add() missing 1 required positional argument: 'z'\n"
   ]
  },
  {
   "cell_type": "code",
   "execution_count": null,
   "id": "dc8c0060-7fb2-4aa9-bffe-9b0e6564d9dd",
   "metadata": {},
   "outputs": [],
   "source": [
    "class Animal:\n",
    "    def speak(self):\n",
    "        pass\n",
    "\n",
    "class Dog(Animal):\n",
    "    def speak(self):\n",
    "        return \"Woof!\"\n",
    "\n",
    "class Cat(Animal):\n",
    "    def speak(self):\n",
    "        return \"Meow!\"\n",
    "\n",
    "class Bird(Animal):\n",
    "    def speak(self):\n",
    "        return \"Tweet!\"\n",
    "\n",
    "dog = Dog()\n",
    "cat = Cat()\n",
    "bird = Bird()\n",
    "\n",
    "print(dog.speak())  # Output: Woof!\n",
    "print(cat.speak())  # Output: Meow!\n",
    "print(bird.speak())  # Output: Tweet!\n"
   ]
  },
  {
   "cell_type": "code",
   "execution_count": null,
   "id": "7e4a85f8-1034-43fe-90d1-6fd981caef15",
   "metadata": {},
   "outputs": [],
   "source": [
    "Use of Abstract Methods and Classes for Polymorphism:\n",
    "Python's abc module allows the creation of abstract base classes and abstract methods, which can be used to\n",
    "define a common interface for subclasses to implement. This promotes polymorphism\n",
    "by ensuring that all subclasses adhere to a common interface.\n",
    "from abc import ABC, abstractmethod\n",
    "\n",
    "class Animal(ABC):\n",
    "    @abstractmethod\n",
    "    def speak(self):\n",
    "        pass\n",
    "\n",
    "class Dog(Animal):\n",
    "    def speak(self):\n",
    "        return \"Woof!\"\n",
    "\n",
    "class Cat(Animal):\n",
    "    def speak(self):\n",
    "        return \"Meow!\"\n",
    "\n",
    "class Bird(Animal):\n",
    "    def speak(self):\n",
    "        return \"Tweet!\"\n"
   ]
  },
  {
   "cell_type": "code",
   "execution_count": null,
   "id": "9c146970-b519-477d-bd13-699b1552db67",
   "metadata": {},
   "outputs": [],
   "source": [
    "class Vehicle:\n",
    "    def start(self):\n",
    "        pass\n",
    "\n",
    "class Car(Vehicle):\n",
    "    def start(self):\n",
    "        return \"Car started.\"\n",
    "\n",
    "class Bicycle(Vehicle):\n",
    "    def start(self):\n",
    "        return \"Bicycle started.\"\n",
    "\n",
    "class Boat(Vehicle):\n",
    "    def start(self):\n",
    "        return \"Boat started.\"\n"
   ]
  },
  {
   "cell_type": "code",
   "execution_count": null,
   "id": "16db2917-98d7-4837-ba32-f87cb936ecbf",
   "metadata": {},
   "outputs": [],
   "source": [
    "isinstance() and issubclass() in Python Polymorphism:\n",
    "\n",
    "    isinstance(object, class_or_tuple): Checks if an object is an instance of a class or any of its subclasses.\n",
    "    issubclass(subclass, class_or_tuple): Checks if a class is a subclass of another class or any of its subclasses.\n",
    "    These functions are significant in polymorphism as they allow dynamic type checking and help determine the compatibility of objects and classes, enabling polymorphic behavior."
   ]
  },
  {
   "cell_type": "code",
   "execution_count": null,
   "id": "7ce82823-4bc9-4134-a10c-490b1b2ef2b7",
   "metadata": {},
   "outputs": [],
   "source": [
    "from abc import ABC, abstractmethod\n",
    "\n",
    "class Shape(ABC):\n",
    "    @abstractmethod\n",
    "    def area(self):\n",
    "        pass\n",
    "\n",
    "class Circle(Shape):\n",
    "    def __init__(self, radius):\n",
    "        self.radius = radius\n",
    "\n",
    "    def area(self):\n",
    "        return 3.14 * self.radius ** 2\n"
   ]
  },
  {
   "cell_type": "code",
   "execution_count": null,
   "id": "239f86a7-ca69-48be-8cd3-dbc8587210f9",
   "metadata": {},
   "outputs": [],
   "source": [
    "class Shape:\n",
    "    def area(self):\n",
    "        pass\n",
    "\n",
    "class Circle(Shape):\n",
    "    def __init__(self, radius):\n",
    "        self.radius = radius\n",
    "\n",
    "    def area(self):\n",
    "        return 3.14 * self.radius ** 2\n",
    "\n",
    "class Rectangle(Shape):\n",
    "    def __init__(self, length, width):\n",
    "        self.length = length\n",
    "        self.width = width\n",
    "\n",
    "    def area(self):\n",
    "        return self.length * self.width\n",
    "\n",
    "class Triangle(Shape):\n",
    "    def __init__(self, base, height):\n",
    "        self.base = base\n",
    "        self.height = height\n",
    "\n",
    "    def area(self):\n",
    "        return 0.5 * self.base * self.height\n"
   ]
  },
  {
   "cell_type": "code",
   "execution_count": null,
   "id": "260feedb-83fa-4f01-a0fe-5ada2f1e66cc",
   "metadata": {},
   "outputs": [],
   "source": [
    "Benefits of Polymorphism in Python:\n",
    "\n",
    "    Code Reusability: Polymorphism allows code to be written in a more generic and reusable manner, as the same code\n",
    "    can be used with different types of objects.\n",
    "    Flexibility: Polymorphism enables dynamic binding of methods at runtime, allowing objects of different types to\n",
    "    be treated uniformly. This flexibility makes the code more adaptable to changes \n",
    "    and promotes extensibility."
   ]
  },
  {
   "cell_type": "code",
   "execution_count": null,
   "id": "ea894dec-514c-4ef7-9c15-c66829174091",
   "metadata": {},
   "outputs": [],
   "source": [
    "Use of super() Function in Python Polymorphism:\n",
    "The super() function is used to call methods of the superclass from the subclass. It helps in achieving method\n",
    "overriding and ensures that the overridden method in the subclass can still invoke the\n",
    "method from the parent class."
   ]
  },
  {
   "cell_type": "code",
   "execution_count": 6,
   "id": "4276e512-2a5b-475b-b2f5-774c0b65ed66",
   "metadata": {},
   "outputs": [],
   "source": [
    "class Account:\n",
    "    def __init__(self, account_number, balance):\n",
    "        self.account_number = account_number\n",
    "        self.balance = balance\n",
    "\n",
    "    def deposit(self, amount):\n",
    "        self.balance += amount\n",
    "\n",
    "    def withdraw(self, amount):\n",
    "        if amount <= self.balance:\n",
    "            self.balance -= amount\n",
    "        else:\n",
    "            print(\"Insufficient funds\")\n",
    "\n",
    "class SavingsAccount(Account):\n",
    "    def __init__(self, account_number, balance, interest_rate):\n",
    "        super().__init__(account_number, balance)\n",
    "        self.interest_rate = interest_rate\n",
    "\n",
    "    def calculate_interest(self):\n",
    "        return self.balance * self.interest_rate / 100\n",
    "\n",
    "class CheckingAccount(Account):\n",
    "    def __init__(self, account_number, balance, overdraft_limit):\n",
    "        super().__init__(account_number, balance)\n",
    "        self.overdraft_limit = overdraft_limit\n",
    "\n",
    "    def withdraw(self, amount):\n",
    "        if amount <= self.balance + self.overdraft_limit:\n",
    "            self.balance -= amount\n",
    "        else:\n",
    "            print(\"Exceeded overdraft limit\")\n"
   ]
  },
  {
   "cell_type": "code",
   "execution_count": null,
   "id": "e307a1e3-5d3d-4c3c-9db9-efea48cb5f1c",
   "metadata": {},
   "outputs": [],
   "source": [
    "class Vector:\n",
    "    def __init__(self, x, y):\n",
    "        self.x = x\n",
    "        self.y = y\n",
    "\n",
    "    def __add__(self, other):\n",
    "        return Vector(self.x + other.x, self.y + other.y)\n",
    "\n",
    "    def __mul__(self, scalar):\n",
    "        return Vector(self.x * scalar, self.y * scalar)\n",
    "\n",
    "v1 = Vector(2, 3)\n",
    "v2 = Vector(1, 4)\n",
    "\n",
    "result_addition = v1 + v2  # Calls __add__() method\n",
    "result_multiplication = v1 * 2  # Calls __mul__() method\n"
   ]
  },
  {
   "cell_type": "code",
   "execution_count": null,
   "id": "e8fb27a7-9436-4282-b0ff-6ea45ff6d10d",
   "metadata": {},
   "outputs": [],
   "source": [
    "Dynamic Polymorphism and its Achievement in Python:\n",
    "Dynamic polymorphism, also known as runtime polymorphism, refers to the ability of objects to exhibit different\n",
    "behaviors at runtime based on their specific types. In Python, dynamic polymorphism is achieved through method\n",
    "overriding, where a method in a subclass overrides a method with the same name in its superclass. At runtime, the \n",
    "Python interpreter dynamically binds the method call to the appropriate implementation \n",
    "based on the object's type."
   ]
  },
  {
   "cell_type": "code",
   "execution_count": null,
   "id": "76a8a5f0-783b-40da-92d7-328925ad634f",
   "metadata": {},
   "outputs": [],
   "source": [
    "class Employee:\n",
    "    def __init__(self, name, salary):\n",
    "        self.name = name\n",
    "        self.salary = salary\n",
    "\n",
    "    def calculate_salary(self):\n",
    "        return self.salary\n",
    "\n",
    "class Manager(Employee):\n",
    "    def calculate_salary(self):\n",
    "        return self.salary + 5000\n",
    "\n",
    "class Developer(Employee):\n",
    "    def calculate_salary(self):\n",
    "        return self.salary + 3000\n",
    "\n",
    "class Designer(Employee):\n",
    "    def calculate_salary(self):\n",
    "        return self.salary + 2000\n"
   ]
  },
  {
   "cell_type": "code",
   "execution_count": null,
   "id": "41cedfa0-47c4-440f-8a58-4d6368730c9b",
   "metadata": {},
   "outputs": [],
   "source": [
    "Function Pointers and Polymorphism:\n",
    "Function pointers are not directly available in Python, but the concept is achieved through first-class functions\n",
    "and higher-order functions. Polymorphism can be achieved by passing functions as arguments to other functions or by \n",
    "storing them in data structures, allowing different functions to be used interchangeably\n",
    "in different contexts."
   ]
  },
  {
   "cell_type": "code",
   "execution_count": null,
   "id": "609da8a5-55d1-4d43-bd6c-69d04088d9f1",
   "metadata": {},
   "outputs": [],
   "source": [
    "Interfaces vs. Abstract Classes in Polymorphism:\n",
    "\n",
    "    Interfaces: In Python, interfaces are not explicitly defined, but the concept is achieved through abstract\n",
    "    base classes (ABCs) and abstract methods. An interface specifies a contract that concrete classes must adhere\n",
    "    to, defining a common set of methods that subclasses must implement.\n",
    "    Abstract Classes: Abstract classes in Python are classes that contain one or more abstract methods, which are\n",
    "    methods without an implementation. Abstract classes cannot be instantiated directly but serve as blueprints for \n",
    "    concrete subclasses. Both interfaces and abstract classes play a role in achieving polymorphism by defining common interfaces\n",
    "    for objects of different types."
   ]
  },
  {
   "cell_type": "code",
   "execution_count": null,
   "id": "20edee86-c07e-41d5-9c74-654beda50941",
   "metadata": {},
   "outputs": [],
   "source": [
    "class Animal:\n",
    "    def make_sound(self):\n",
    "        pass\n",
    "\n",
    "class Mammal(Animal):\n",
    "    def make_sound(self):\n",
    "        return \"Mammal sound\"\n",
    "\n",
    "class Bird(Animal):\n",
    "    def make_sound(self):\n",
    "        return \"Bird sound\"\n",
    "\n",
    "class Reptile(Animal):\n",
    "    def make_sound(self):\n",
    "        return \"Reptile sound\"\n",
    "\n",
    "# Usage\n",
    "animals = [Mammal(), Bird(), Reptile()]\n",
    "\n",
    "for animal in animals:\n",
    "    print(animal.make_sound())\n"
   ]
  },
  {
   "cell_type": "code",
   "execution_count": null,
   "id": "3b2716cb-c45a-4e8f-b9fb-c286b218f593",
   "metadata": {},
   "outputs": [],
   "source": [
    "Abstraction in Python and its Relation to Object-Oriented Programming:\n",
    "Abstraction is the process of hiding the implementation details and showing only the essential features of an \n",
    "object. In object-oriented programming (OOP), abstraction allows us to focus on the relevant attributes and behaviors\n",
    "of objects while hiding unnecessary details. This promotes encapsulation and modularity by providing a clear interface for\n",
    "interacting with objects."
   ]
  },
  {
   "cell_type": "code",
   "execution_count": null,
   "id": "c1b0d0c2-d1b9-44c2-9ec9-648156ff85cd",
   "metadata": {},
   "outputs": [],
   "source": [
    "Benefits of Abstraction:\n",
    "\n",
    "    Code Organization: Abstraction helps in organizing code by hiding complex implementation details, making it easier to\n",
    "    understand and maintain.\n",
    "    Complexity Reduction: By abstracting away unnecessary details, abstraction reduces the complexity of code, making it more\n",
    "    manageable and less\n",
    "    error-prone."
   ]
  },
  {
   "cell_type": "code",
   "execution_count": null,
   "id": "33a0a599-3733-4112-8749-26ef8d7f369c",
   "metadata": {},
   "outputs": [],
   "source": [
    "from abc import ABC, abstractmethod\n",
    "\n",
    "class Shape(ABC):\n",
    "    @abstractmethod\n",
    "    def calculate_area(self):\n",
    "        pass\n",
    "\n",
    "class Circle(Shape):\n",
    "    def __init__(self, radius):\n",
    "        self.radius = radius\n",
    "\n",
    "    def calculate_area(self):\n",
    "        return 3.14 * self.radius ** 2\n",
    "\n",
    "class Rectangle(Shape):\n",
    "    def __init__(self, length, width):\n",
    "        self.length = length\n",
    "        self.width = width\n",
    "\n",
    "    def calculate_area(self):\n",
    "        return self.length * self.width\n",
    "\n",
    "# Example\n",
    "circle = Circle(5)\n",
    "print(\"Area of circle:\", circle.calculate_area())\n",
    "\n",
    "rectangle = Rectangle(4, 6)\n",
    "print(\"Area of rectangle:\", rectangle.calculate_area())\n"
   ]
  },
  {
   "cell_type": "code",
   "execution_count": null,
   "id": "b74af7ff-3d1b-4e0a-acab-03a93cef0c8f",
   "metadata": {},
   "outputs": [],
   "source": [
    "from abc import ABC, abstractmethod\n",
    "\n",
    "class MyAbstractClass(ABC):\n",
    "    @abstractmethod\n",
    "    def my_abstract_method(self):\n",
    "        pass\n"
   ]
  },
  {
   "cell_type": "code",
   "execution_count": null,
   "id": "c93f8bfa-9f56-4b4f-8ff0-5351aa64180e",
   "metadata": {},
   "outputs": [],
   "source": [
    "Differences between Abstract Classes and Regular Classes:\n",
    "\n",
    "    Abstract Classes: Cannot be instantiated directly, may contain abstract methods without implementations, and serve as blueprints for concrete subclasses.\n",
    "    Regular Classes: Can be instantiated directly, all methods have implementations, and can be used to create objects directly.\n",
    "\n",
    "Use cases:\n",
    "\n",
    "    Abstract classes are useful when defining a common interface for a group of related classes, ensuring consistency and enforcing method implementation.\n",
    "    Regular classes are used to create concrete objects with specific attributes and behaviors."
   ]
  },
  {
   "cell_type": "code",
   "execution_count": null,
   "id": "6c72693e-b420-43c2-a3d5-8235521ed1f2",
   "metadata": {},
   "outputs": [],
   "source": [
    "class BankAccount:\n",
    "    def __init__(self):\n",
    "        self.__balance = 0\n",
    "\n",
    "    def deposit(self, amount):\n",
    "        self.__balance += amount\n",
    "\n",
    "    def withdraw(self, amount):\n",
    "        if amount <= self.__balance:\n",
    "            self.__balance -= amount\n",
    "        else:\n",
    "            print(\"Insufficient funds\")\n",
    "\n",
    "    def get_balance(self):\n",
    "        return self.__balance\n"
   ]
  },
  {
   "cell_type": "code",
   "execution_count": null,
   "id": "3446c0d2-2ac1-47e2-9778-1b2963f52110",
   "metadata": {},
   "outputs": [],
   "source": [
    "Interface Classes in Python and their Role in Achieving Abstraction:\n",
    "Interface classes in Python are not explicitly defined, but the concept is achieved through abstract base \n",
    "classes (ABCs) and abstract methods. An interface specifies a contract that concrete classes must adhere to, \n",
    "defining a common set of methods that subclasses must implement. Interface classes play a crucial role in achieving \n",
    "abstraction by providing a clear and consistent interface for interacting with objects, hiding \n",
    "unnecessary implementation details."
   ]
  },
  {
   "cell_type": "code",
   "execution_count": 8,
   "id": "e8ac1906-4a0b-47c6-98d0-15f55d7795b6",
   "metadata": {},
   "outputs": [
    {
     "name": "stdout",
     "output_type": "stream",
     "text": [
      "Dog is eating\n",
      "Dog is sleeping\n"
     ]
    }
   ],
   "source": [
    "from abc import ABC, abstractmethod\n",
    "\n",
    "class Animal(ABC):\n",
    "    @abstractmethod\n",
    "    def eat(self):\n",
    "        pass\n",
    "\n",
    "    @abstractmethod\n",
    "    def sleep(self):\n",
    "        pass\n",
    "\n",
    "class Dog(Animal):\n",
    "    def eat(self):\n",
    "        print(\"Dog is eating\")\n",
    "\n",
    "    def sleep(self):\n",
    "        print(\"Dog is sleeping\")\n",
    "\n",
    "class Cat(Animal):\n",
    "    def eat(self):\n",
    "        print(\"Cat is eating\")\n",
    "\n",
    "    def sleep(self):\n",
    "        print(\"Cat is sleeping\")\n",
    "\n",
    "# Example\n",
    "dog = Dog()\n",
    "dog.eat()  # Output: Dog is eating\n",
    "dog.sleep()  # Output: Dog is sleeping\n"
   ]
  },
  {
   "cell_type": "code",
   "execution_count": 9,
   "id": "36bf1a6a-51f6-4686-a133-45f31128f35c",
   "metadata": {},
   "outputs": [
    {
     "name": "stdout",
     "output_type": "stream",
     "text": [
      "78.5\n",
      "5\n"
     ]
    }
   ],
   "source": [
    "class Circle:\n",
    "    def __init__(self, radius):\n",
    "        self.radius = radius\n",
    "\n",
    "    def calculate_area(self):\n",
    "        return 3.14 * self.radius ** 2\n",
    "\n",
    "circle = Circle(5)\n",
    "print(circle.calculate_area())  # Output: 78.5\n",
    "\n",
    "# Without encapsulation\n",
    "print(circle.radius)  # Output: 5 (direct access to attribute)\n"
   ]
  },
  {
   "cell_type": "code",
   "execution_count": null,
   "id": "72d209a4-a5b9-476d-84ce-f3fc95d74981",
   "metadata": {},
   "outputs": [],
   "source": [
    "Purpose of Abstract Methods and their Enforcement of Abstraction:\n",
    "Abstract methods in Python are methods declared in abstract base classes (ABCs) without an implementation.\n",
    "They serve as placeholders for methods that must be implemented by concrete subclasses. Abstract methods\n",
    "enforce abstraction by defining a common interface that concrete subclasses must adhere to, ensuring consistency\n",
    "and providing a clear contract \n",
    "for subclass implementation."
   ]
  },
  {
   "cell_type": "code",
   "execution_count": 10,
   "id": "09f6944c-d95b-44c5-90cf-d536fad66567",
   "metadata": {},
   "outputs": [
    {
     "name": "stdout",
     "output_type": "stream",
     "text": [
      "Car started\n",
      "Car stopped\n"
     ]
    }
   ],
   "source": [
    "from abc import ABC, abstractmethod\n",
    "\n",
    "class Vehicle(ABC):\n",
    "    @abstractmethod\n",
    "    def start(self):\n",
    "        pass\n",
    "\n",
    "    @abstractmethod\n",
    "    def stop(self):\n",
    "        pass\n",
    "\n",
    "class Car(Vehicle):\n",
    "    def start(self):\n",
    "        print(\"Car started\")\n",
    "\n",
    "    def stop(self):\n",
    "        print(\"Car stopped\")\n",
    "\n",
    "class Bicycle(Vehicle):\n",
    "    def start(self):\n",
    "        print(\"Bicycle started\")\n",
    "\n",
    "    def stop(self):\n",
    "        print(\"Bicycle stopped\")\n",
    "\n",
    "# Example\n",
    "car = Car()\n",
    "car.start()  # Output: Car started\n",
    "car.stop()   # Output: Car stopped\n"
   ]
  },
  {
   "cell_type": "code",
   "execution_count": null,
   "id": "9e024950-8c9b-42f4-bdb4-58477e804ea6",
   "metadata": {},
   "outputs": [],
   "source": [
    "Use of Abstract Properties in Python Abstract Classes:\n",
    "Abstract properties are properties declared in abstract base classes (ABCs) without a concrete implementation. \n",
    "They serve as placeholders for properties that must be implemented by concrete subclasses. Abstract properties can \n",
    "be employed in abstract classes to enforce consistency and provide a clear contract\n",
    "for subclass implementation."
   ]
  },
  {
   "cell_type": "code",
   "execution_count": 11,
   "id": "5e102da8-b439-4305-834a-957b1c4a95a8",
   "metadata": {},
   "outputs": [
    {
     "name": "stdout",
     "output_type": "stream",
     "text": [
      "Manager's salary: 5000\n"
     ]
    }
   ],
   "source": [
    "from abc import ABC, abstractmethod\n",
    "\n",
    "class Employee(ABC):\n",
    "    @abstractmethod\n",
    "    def get_salary(self):\n",
    "        pass\n",
    "\n",
    "class Manager(Employee):\n",
    "    def get_salary(self):\n",
    "        return 5000\n",
    "\n",
    "class Developer(Employee):\n",
    "    def get_salary(self):\n",
    "        return 3000\n",
    "\n",
    "class Designer(Employee):\n",
    "    def get_salary(self):\n",
    "        return 2000\n",
    "\n",
    "# Example\n",
    "manager = Manager()\n",
    "print(\"Manager's salary:\", manager.get_salary())  # Output: Manager's salary: 5000\n"
   ]
  },
  {
   "cell_type": "code",
   "execution_count": null,
   "id": "0fef1899-66aa-4371-bf14-d3e64f2a802a",
   "metadata": {},
   "outputs": [],
   "source": [
    "Differences between Abstract Classes and Concrete Classes in Python:\n",
    "\n",
    "    Abstract Classes: Cannot be instantiated directly, may contain abstract methods without implementations, and serve as blueprints for concrete subclasses.\n",
    "    Concrete Classes: Can be instantiated directly, all methods have implementations, and can be used to create objects directly.\n",
    "\n",
    "Use cases:\n",
    "\n",
    "    Abstract classes are used to define a common interface for a group of related classes, ensuring consistency and enforcing method implementation.\n",
    "    Concrete classes are used to create objects with specific attributes and behaviors."
   ]
  },
  {
   "cell_type": "code",
   "execution_count": null,
   "id": "a15e49db-3bd8-46b9-b437-9bfa5f9af00e",
   "metadata": {},
   "outputs": [],
   "source": [
    "Abstract Data Types (ADTs) and their Role in Achieving Abstraction in Python:\n",
    "Abstract data types (ADTs) are data types defined by their behavior and operations, rather than their \n",
    "implementation details. In Python, ADTs are often implemented using abstract base classes (ABCs) and abstract\n",
    "methods. By defining a common interface for a group of related classes, ADTs promote encapsulation and modularity,\n",
    "enabling code reuse and abstraction."
   ]
  },
  {
   "cell_type": "code",
   "execution_count": null,
   "id": "b7ae6445-ed2a-45b2-ae78-7844e1633d33",
   "metadata": {},
   "outputs": [],
   "source": [
    "from abc import ABC, abstractmethod\n",
    "\n",
    "class ComputerSystem(ABC):\n",
    "    @abstractmethod\n",
    "    def power_on(self):\n",
    "        pass\n",
    "\n",
    "    @abstractmethod\n",
    "    def shutdown(self):\n",
    "        pass\n",
    "\n",
    "class Desktop(ComputerSystem):\n",
    "    def power_on(self):\n",
    "        print(\"Desktop is powering on\")\n",
    "\n",
    "    def shutdown(self):\n",
    "        print(\"Desktop is shutting down\")\n",
    "\n",
    "class Laptop(ComputerSystem):\n",
    "    def power_on(self):\n",
    "        print(\"Laptop is powering on\")\n",
    "\n",
    "    def shutdown(self):\n",
    "        print(\"Laptop is shutting down\")\n"
   ]
  },
  {
   "cell_type": "code",
   "execution_count": null,
   "id": "a7e0daec-e538-4ed7-b2da-9c1e0cd69353",
   "metadata": {},
   "outputs": [],
   "source": [
    "Benefits of Abstraction in Large-Scale Software Development:\n",
    "\n",
    "    Simplification of Complexity: Abstraction hides complex implementation details, allowing developers to focus on high-level design and architecture.\n",
    "    Modularity and Scalability: Abstraction promotes modularity by breaking down complex systems into smaller, manageable components. This facilitates easier maintenance, testing, and future enhancements.\n",
    "    Code Reusability: Abstraction encourages the reuse of code components, reducing redundancy and promoting a more efficient development process.\n",
    "    Team Collaboration: Abstraction provides a common language and interface for team members, improving communication and collaboration in large-scale projects."
   ]
  },
  {
   "cell_type": "code",
   "execution_count": null,
   "id": "4f5e140b-ae0b-40fe-9578-149a4541d29a",
   "metadata": {},
   "outputs": [],
   "source": [
    "How Abstraction Enhances Code Reusability and Modularity:\n",
    "\n",
    "    Code Reusability: Abstraction allows developers to create reusable components with well-defined interfaces, \n",
    "    enabling them to be used in different parts of the codebase without modification.\n",
    "    Modularity: Abstraction breaks down complex systems into smaller, more manageable modules, each responsible for\n",
    "    a specific task or functionality. This modular design promotes easier maintenance, testing, \n",
    "    and extensibility of the codebase."
   ]
  },
  {
   "cell_type": "code",
   "execution_count": 12,
   "id": "c3b105d1-7dc5-4e52-b7bc-0700fa63f04c",
   "metadata": {},
   "outputs": [],
   "source": [
    "from abc import ABC, abstractmethod\n",
    "\n",
    "class LibrarySystem(ABC):\n",
    "    @abstractmethod\n",
    "    def add_book(self, book):\n",
    "        pass\n",
    "\n",
    "    @abstractmethod\n",
    "    def borrow_book(self, book):\n",
    "        pass\n",
    "\n",
    "class PublicLibrary(LibrarySystem):\n",
    "    def add_book(self, book):\n",
    "        print(f\"Book '{book}' added to public library\")\n",
    "\n",
    "    def borrow_book(self, book):\n",
    "        print(f\"Book '{book}' borrowed from public library\")\n",
    "\n",
    "class SchoolLibrary(LibrarySystem):\n",
    "    def add_book(self, book):\n",
    "        print(f\"Book '{book}' added to school library\")\n",
    "\n",
    "    def borrow_book(self, book):\n",
    "        print(f\"Book '{book}' borrowed from school library\")\n"
   ]
  },
  {
   "cell_type": "code",
   "execution_count": null,
   "id": "fa39d73a-5d81-49f7-b338-623a10595604",
   "metadata": {},
   "outputs": [],
   "source": [
    "Method Abstraction in Python and its Relation to Polymorphism:\n",
    "Method abstraction is the process of hiding the implementation details of a method, exposing only its essential \n",
    "features and behavior. In Python, method abstraction is achieved through abstract methods in abstract base classes\n",
    "(ABCs). This abstraction allows different subclasses to provide their own implementations of the abstract methods,\n",
    "resulting in polymorphic behavior where objects of different types can respond to the same method invocation in different\n",
    "ways. Thus, method abstraction and polymorphism are closely related concepts that enable flexible and extensible \n",
    "object-oriented designs"
   ]
  },
  {
   "cell_type": "code",
   "execution_count": null,
   "id": "f8d278f3-4540-424d-8256-7a1ba638bc7b",
   "metadata": {},
   "outputs": [],
   "source": [
    "Composition in Python:\n",
    "Composition is a design technique in object-oriented programming where a class contains one or more objects of \n",
    "other classes as member variables. In composition, objects are combined to form more complex objects, allowing for \n",
    "building complex structures \n",
    "from simpler components."
   ]
  },
  {
   "cell_type": "code",
   "execution_count": null,
   "id": "88ff3862-4e8d-4700-b9a3-5145a516bbf8",
   "metadata": {},
   "outputs": [],
   "source": [
    "Difference between Composition and Inheritance:\n",
    "\n",
    "    Composition: In composition, objects of one class are contained within another class, forming a \"has-a\" relationship.\n",
    "    The containing class is composed of instances of other classes, and the relationship between them is typically more loosely coupled.\n",
    "    Inheritance: In inheritance, a class (subclass) inherits attributes and methods from another class (superclass). The \n",
    "    subclass is considered to be a specialized version of the superclass, forming an \"is-a\" relationship. Inheritance promotes \n",
    "    code reuse by allowing subclasses to extend or override the behavior \n",
    "    of the superclass."
   ]
  },
  {
   "cell_type": "code",
   "execution_count": null,
   "id": "318abe5b-0a62-4406-9ad8-79670f75657e",
   "metadata": {},
   "outputs": [],
   "source": [
    "class Author:\n",
    "    def __init__(self, name, birthdate):\n",
    "        self.name = name\n",
    "        self.birthdate = birthdate\n",
    "\n",
    "class Book:\n",
    "    def __init__(self, title, author, year):\n",
    "        self.title = title\n",
    "        self.author = author\n",
    "        self.year = year\n",
    "\n",
    "# Example\n",
    "author = Author(\"John Doe\", \"1990-01-01\")\n",
    "book = Book(\"Python Programming\", author, 2022)\n"
   ]
  },
  {
   "cell_type": "code",
   "execution_count": null,
   "id": "51080126-b16b-4055-b96d-bdc35c801b25",
   "metadata": {},
   "outputs": [],
   "source": [
    "Benefits of Composition over Inheritance:\n",
    "\n",
    "    Code Flexibility: Composition allows for more flexible and dynamic relationships between classes, as objects can be \n",
    "    composed of other objects dynamically at runtime.\n",
    "    Code Reusability: Composition promotes greater code reusability by favoring composition of objects over inheritance.\n",
    "    It allows for building complex objects from simpler components, which can be reused in various contexts.\n",
    "    Reduced Coupling: Composition typically results in lower coupling between classes compared to inheritance, as it does \n",
    "    not create a tight coupling between the subclass and superclass. This makes the codebase more modular and\n",
    "    easier to maintain."
   ]
  },
  {
   "cell_type": "code",
   "execution_count": null,
   "id": "ae1b9219-f6f4-446e-8f95-b93ffde02495",
   "metadata": {},
   "outputs": [],
   "source": [
    "class Engine:\n",
    "    def start(self):\n",
    "        print(\"Engine started\")\n",
    "\n",
    "class Car:\n",
    "    def __init__(self):\n",
    "        self.engine = Engine()\n",
    "\n",
    "my_car = Car()\n",
    "my_car.engine.start()  # Output: Engine started\n"
   ]
  },
  {
   "cell_type": "code",
   "execution_count": null,
   "id": "23452b9e-eb95-473a-a3cc-aa669a9febe8",
   "metadata": {},
   "outputs": [],
   "source": [
    "class Song:\n",
    "    def __init__(self, title, artist):\n",
    "        self.title = title\n",
    "        self.artist = artist\n",
    "\n",
    "class Playlist:\n",
    "    def __init__(self, name):\n",
    "        self.name = name\n",
    "        self.songs = []\n",
    "\n",
    "    def add_song(self, song):\n",
    "        self.songs.append(song)\n",
    "\n",
    "class MusicPlayer:\n",
    "    def __init__(self):\n",
    "        self.playlists = []\n",
    "\n",
    "    def create_playlist(self, name):\n",
    "        playlist = Playlist(name)\n",
    "        self.playlists.append(playlist)\n",
    "        return playlist\n",
    "\n",
    "# Example\n",
    "player = MusicPlayer()\n",
    "playlist1 = player.create_playlist(\"Workout\")\n",
    "playlist1.add_song(Song(\"Eye of the Tiger\", \"Survivor\"))\n"
   ]
  },
  {
   "cell_type": "code",
   "execution_count": null,
   "id": "7b10be36-4344-4671-bc71-c0ba146003c5",
   "metadata": {},
   "outputs": [],
   "source": [
    "Concept of \"Has-a\" Relationships in Composition:\n",
    "\"Has-a\" relationships in composition indicate that an object contains or is composed of other objects. \n",
    "This relationship is based on the idea that an object has references to other objects as part of its internal\n",
    "state. It helps design software systems by allowing complex objects to be built from simpler components, promoting code reuse and \n",
    "modular design principles."
   ]
  },
  {
   "cell_type": "code",
   "execution_count": null,
   "id": "e26d851a-771e-4068-b384-d817828f569d",
   "metadata": {},
   "outputs": [],
   "source": [
    "class CPU:\n",
    "    def __init__(self, model):\n",
    "        self.model = model\n",
    "\n",
    "class RAM:\n",
    "    def __init__(self, capacity):\n",
    "        self.capacity = capacity\n",
    "\n",
    "class Storage:\n",
    "    def __init__(self, size):\n",
    "        self.size = size\n",
    "\n",
    "class ComputerSystem:\n",
    "    def __init__(self, cpu, ram, storage):\n",
    "        self.cpu = cpu\n",
    "        self.ram = ram\n",
    "        self.storage = storage\n",
    "\n",
    "# Example\n",
    "cpu = CPU(\"Intel Core i7\")\n",
    "ram = RAM(16)\n",
    "storage = Storage(512)\n",
    "computer = ComputerSystem(cpu, ram, storage)\n"
   ]
  },
  {
   "cell_type": "code",
   "execution_count": null,
   "id": "d776d101-6eac-4320-b23b-47a46e50519b",
   "metadata": {},
   "outputs": [],
   "source": [
    "Concept of \"Delegation\" in Composition:\n",
    "Delegation in composition involves delegating responsibilities to other objects rather than handling them internally. \n",
    "It simplifies the design of complex systems by allowing objects to rely on the behavior of their composed components, \n",
    "reducing the need for complex internal logic \n",
    "and promoting code reuse."
   ]
  },
  {
   "cell_type": "code",
   "execution_count": null,
   "id": "3815d61b-83d1-45a7-98b3-ae485b979dc9",
   "metadata": {},
   "outputs": [],
   "source": [
    "class Engine:\n",
    "    def start(self):\n",
    "        print(\"Engine started\")\n",
    "\n",
    "class Wheels:\n",
    "    def rotate(self):\n",
    "        print(\"Wheels rotating\")\n",
    "\n",
    "class Transmission:\n",
    "    def shift_gear(self):\n",
    "        print(\"Gear shifted\")\n",
    "\n",
    "class Car:\n",
    "    def __init__(self, engine, wheels, transmission):\n",
    "        self.engine = engine\n",
    "        self.wheels = wheels\n",
    "        self.transmission = transmission\n",
    "\n",
    "# Example\n",
    "engine = Engine()\n",
    "wheels = Wheels()\n",
    "transmission = Transmission()\n",
    "car = Car(engine, wheels, transmission)\n"
   ]
  },
  {
   "cell_type": "code",
   "execution_count": null,
   "id": "d31ee0b6-2af6-41dd-ac82-cb4f0258dd44",
   "metadata": {},
   "outputs": [],
   "source": [
    "Encapsulation and Hiding Details of Composed Objects:\n",
    "Encapsulation and abstraction can be maintained in Python classes by exposing only the necessary interfaces \n",
    "and hiding the internal details of composed objects. This can be achieved by providing appropriate getter and\n",
    "setter methods for accessing and modifying the composed objects' attributes, thereby encapsulating \n",
    "their implementation details."
   ]
  },
  {
   "cell_type": "code",
   "execution_count": null,
   "id": "d4d4f083-0854-41c0-b7ff-846aa969146c",
   "metadata": {},
   "outputs": [],
   "source": [
    "class Student:\n",
    "    def __init__(self, name):\n",
    "        self.name = name\n",
    "\n",
    "class Instructor:\n",
    "    def __init__(self, name):\n",
    "        self.name = name\n",
    "\n",
    "class Course:\n",
    "    def __init__(self, students, instructor, materials):\n",
    "        self.students = students\n",
    "        self.instructor = instructor\n",
    "        self.materials = materials\n",
    "\n",
    "# Example\n",
    "student1 = Student(\"Alice\")\n",
    "student2 = Student(\"Bob\")\n",
    "instructor = Instructor(\"Dr. Smith\")\n",
    "materials = [\"Textbook\", \"Slides\"]\n",
    "course = Course([student1, student2], instructor, materials)\n"
   ]
  },
  {
   "cell_type": "code",
   "execution_count": null,
   "id": "1cc0dce8-3b3d-455f-9d3f-e0ee5d7729cb",
   "metadata": {},
   "outputs": [],
   "source": [
    "Challenges and Drawbacks of Composition:\n",
    "\n",
    "    Increased Complexity: Composition can lead to increased complexity in the design and implementation of systems,\n",
    "    specially when dealing with multiple layers \n",
    "    of composition and interactions between composed objects.\n",
    "    Potential for Tight Coupling: Composition can result in tight coupling between objects if not designed carefully,\n",
    "    leading to difficulties in maintaining and modifying the system."
   ]
  },
  {
   "cell_type": "code",
   "execution_count": null,
   "id": "3791897e-e46d-4466-b7ed-c5a36799ec85",
   "metadata": {},
   "outputs": [],
   "source": [
    "class Ingredient:\n",
    "    def __init__(self, name):\n",
    "        self.name = name\n",
    "\n",
    "class Dish:\n",
    "    def __init__(self, name, ingredients):\n",
    "        self.name = name\n",
    "        self.ingredients = ingredients\n",
    "\n",
    "class Menu:\n",
    "    def __init__(self, dishes):\n",
    "        self.dishes = dishes\n",
    "\n",
    "# Example\n",
    "ingredient1 = Ingredient(\"Tomato\")\n",
    "ingredient2 = Ingredient(\"Cheese\")\n",
    "dish1 = Dish(\"Margherita Pizza\", [ingredient1, ingredient2])\n",
    "menu = Menu([dish1])\n"
   ]
  },
  {
   "cell_type": "code",
   "execution_count": null,
   "id": "53137318-7a11-4a0f-9322-8828db920b09",
   "metadata": {},
   "outputs": [],
   "source": [
    "Enhancement of Code Maintainability and Modularity with Composition:\n",
    "Composition enhances code maintainability and modularity by promoting a modular design approach, where complex \n",
    "systems are built from smaller, reusable components. This facilitates easier maintenance, testing, and modification \n",
    "of the codebase, as changes to one component do not \n",
    "necessarily affect others."
   ]
  },
  {
   "cell_type": "code",
   "execution_count": null,
   "id": "a3669c28-618e-40b7-b269-bc9b4acebf9e",
   "metadata": {},
   "outputs": [],
   "source": [
    "class Weapon:\n",
    "    def __init__(self, name):\n",
    "        self.name = name\n",
    "\n",
    "class Armor:\n",
    "    def __init__(self, name):\n",
    "        self.name = name\n",
    "\n",
    "class Inventory:\n",
    "    def __init__(self, items):\n",
    "        self.items = items\n",
    "\n",
    "class Character:\n",
    "    def __init__(self, weapon, armor, inventory):\n",
    "        self.weapon = weapon\n",
    "        self.armor = armor\n",
    "        self.inventory = inventory\n",
    "\n",
    "# Example\n",
    "weapon = Weapon(\"Sword\")\n",
    "armor = Armor(\"Steel Armor\")\n",
    "inventory = Inventory([\"Health Potion\", \"Mana Potion\"])\n",
    "character = Character(weapon, armor, inventory)\n"
   ]
  },
  {
   "cell_type": "code",
   "execution_count": null,
   "id": "b2693315-d822-4405-9218-a5358b3c3aff",
   "metadata": {},
   "outputs": [],
   "source": [
    "Concept of \"Aggregation\" in Composition:\n",
    "Aggregation is a specialized form of composition where the composed objects have a weaker relationship,\n",
    "meaning they can exist independently of each other. In aggregation, the composed objects are considered to \n",
    "be part of the whole object, but they can also exist on their own. This differs from simple composition, where\n",
    "the composed objects are tightly coupled and exist only within the \n",
    "context of the whole object."
   ]
  },
  {
   "cell_type": "code",
   "execution_count": 13,
   "id": "8d64c6eb-1213-4b76-8d93-59b84b8f81f5",
   "metadata": {},
   "outputs": [],
   "source": [
    "class Room:\n",
    "    def __init__(self, name, area):\n",
    "        self.name = name\n",
    "        self.area = area\n",
    "\n",
    "class Furniture:\n",
    "    def __init__(self, name):\n",
    "        self.name = name\n",
    "\n",
    "class Appliance:\n",
    "    def __init__(self, name):\n",
    "        self.name = name\n",
    "\n",
    "class House:\n",
    "    def __init__(self, rooms, furniture, appliances):\n",
    "        self.rooms = rooms\n",
    "        self.furniture = furniture\n",
    "        self.appliances = appliances\n",
    "\n",
    "# Example\n",
    "kitchen = Room(\"Kitchen\", 20)\n",
    "living_room = Room(\"Living Room\", 30)\n",
    "\n",
    "sofa = Furniture(\"Sofa\")\n",
    "dining_table = Furniture(\"Dining Table\")\n",
    "\n",
    "oven = Appliance(\"Oven\")\n",
    "refrigerator = Appliance(\"Refrigerator\")\n",
    "\n",
    "my_house = House([kitchen, living_room], [sofa, dining_table], [oven, refrigerator])\n"
   ]
  },
  {
   "cell_type": "code",
   "execution_count": null,
   "id": "3b9dc030-44bc-47c8-a996-5652b4bc5751",
   "metadata": {},
   "outputs": [],
   "source": [
    "Achieving Flexibility in Composed Objects at Runtime:\n",
    "Flexibility in composed objects can be achieved by designing classes to use interfaces or abstract classes,\n",
    "allowing for dynamic substitution of objects at runtime. This enables different implementations of the interface\n",
    "to be used interchangeably, providing flexibility in choosing the\n",
    "behavior of composed objects."
   ]
  }
 ],
 "metadata": {
  "kernelspec": {
   "display_name": "Python 3 (ipykernel)",
   "language": "python",
   "name": "python3"
  },
  "language_info": {
   "codemirror_mode": {
    "name": "ipython",
    "version": 3
   },
   "file_extension": ".py",
   "mimetype": "text/x-python",
   "name": "python",
   "nbconvert_exporter": "python",
   "pygments_lexer": "ipython3",
   "version": "3.10.8"
  }
 },
 "nbformat": 4,
 "nbformat_minor": 5
}
